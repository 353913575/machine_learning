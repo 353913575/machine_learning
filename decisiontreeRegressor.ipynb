{
 "cells": [
  {
   "cell_type": "code",
   "execution_count": 39,
   "metadata": {
    "collapsed": true
   },
   "outputs": [],
   "source": [
    "# 重要参数,属性与接口\n",
    "# MSE均方误差 样本真实数据与预测结果的差异\n",
    "# friedman_mse\n",
    "# mae绝对平均误差\n",
    "\n",
    "# 回归树的接口score默认返回的是R平方,不是mse\n",
    "# sklearn计算的时候是负数表示,neg_mean_squared_error"
   ]
  },
  {
   "cell_type": "code",
   "execution_count": 40,
   "outputs": [],
   "source": [
    "#交叉验证 观察模型稳定性\n",
    "# cross_val_score\n",
    "from sklearn.model_selection import cross_val_score"
   ],
   "metadata": {
    "collapsed": false,
    "pycharm": {
     "name": "#%%\n"
    }
   }
  },
  {
   "cell_type": "code",
   "execution_count": 41,
   "outputs": [],
   "source": [
    "from sklearn.datasets import load_boston\n",
    "from sklearn.model_selection import cross_val_score\n",
    "from sklearn.tree import DecisionTreeRegressor"
   ],
   "metadata": {
    "collapsed": false,
    "pycharm": {
     "name": "#%%\n"
    }
   }
  },
  {
   "cell_type": "code",
   "execution_count": 42,
   "outputs": [
    {
     "name": "stderr",
     "output_type": "stream",
     "text": [
      "C:\\Users\\Peng\\anaconda3\\envs\\py37\\lib\\site-packages\\sklearn\\utils\\deprecation.py:87: FutureWarning: Function load_boston is deprecated; `load_boston` is deprecated in 1.0 and will be removed in 1.2.\n",
      "\n",
      "    The Boston housing prices dataset has an ethical problem. You can refer to\n",
      "    the documentation of this function for further details.\n",
      "\n",
      "    The scikit-learn maintainers therefore strongly discourage the use of this\n",
      "    dataset unless the purpose of the code is to study and educate about\n",
      "    ethical issues in data science and machine learning.\n",
      "\n",
      "    In this special case, you can fetch the dataset from the original\n",
      "    source::\n",
      "\n",
      "        import pandas as pd\n",
      "        import numpy as np\n",
      "\n",
      "\n",
      "        data_url = \"http://lib.stat.cmu.edu/datasets/boston\"\n",
      "        raw_df = pd.read_csv(data_url, sep=\"\\s+\", skiprows=22, header=None)\n",
      "        data = np.hstack([raw_df.values[::2, :], raw_df.values[1::2, :2]])\n",
      "        target = raw_df.values[1::2, 2]\n",
      "\n",
      "    Alternative datasets include the California housing dataset (i.e.\n",
      "    :func:`~sklearn.datasets.fetch_california_housing`) and the Ames housing\n",
      "    dataset. You can load the datasets as follows::\n",
      "\n",
      "        from sklearn.datasets import fetch_california_housing\n",
      "        housing = fetch_california_housing()\n",
      "\n",
      "    for the California housing dataset and::\n",
      "\n",
      "        from sklearn.datasets import fetch_openml\n",
      "        housing = fetch_openml(name=\"house_prices\", as_frame=True)\n",
      "\n",
      "    for the Ames housing dataset.\n",
      "    \n",
      "  warnings.warn(msg, category=FutureWarning)\n"
     ]
    },
    {
     "data": {
      "text/plain": "{'data': array([[6.3200e-03, 1.8000e+01, 2.3100e+00, ..., 1.5300e+01, 3.9690e+02,\n         4.9800e+00],\n        [2.7310e-02, 0.0000e+00, 7.0700e+00, ..., 1.7800e+01, 3.9690e+02,\n         9.1400e+00],\n        [2.7290e-02, 0.0000e+00, 7.0700e+00, ..., 1.7800e+01, 3.9283e+02,\n         4.0300e+00],\n        ...,\n        [6.0760e-02, 0.0000e+00, 1.1930e+01, ..., 2.1000e+01, 3.9690e+02,\n         5.6400e+00],\n        [1.0959e-01, 0.0000e+00, 1.1930e+01, ..., 2.1000e+01, 3.9345e+02,\n         6.4800e+00],\n        [4.7410e-02, 0.0000e+00, 1.1930e+01, ..., 2.1000e+01, 3.9690e+02,\n         7.8800e+00]]),\n 'target': array([24. , 21.6, 34.7, 33.4, 36.2, 28.7, 22.9, 27.1, 16.5, 18.9, 15. ,\n        18.9, 21.7, 20.4, 18.2, 19.9, 23.1, 17.5, 20.2, 18.2, 13.6, 19.6,\n        15.2, 14.5, 15.6, 13.9, 16.6, 14.8, 18.4, 21. , 12.7, 14.5, 13.2,\n        13.1, 13.5, 18.9, 20. , 21. , 24.7, 30.8, 34.9, 26.6, 25.3, 24.7,\n        21.2, 19.3, 20. , 16.6, 14.4, 19.4, 19.7, 20.5, 25. , 23.4, 18.9,\n        35.4, 24.7, 31.6, 23.3, 19.6, 18.7, 16. , 22.2, 25. , 33. , 23.5,\n        19.4, 22. , 17.4, 20.9, 24.2, 21.7, 22.8, 23.4, 24.1, 21.4, 20. ,\n        20.8, 21.2, 20.3, 28. , 23.9, 24.8, 22.9, 23.9, 26.6, 22.5, 22.2,\n        23.6, 28.7, 22.6, 22. , 22.9, 25. , 20.6, 28.4, 21.4, 38.7, 43.8,\n        33.2, 27.5, 26.5, 18.6, 19.3, 20.1, 19.5, 19.5, 20.4, 19.8, 19.4,\n        21.7, 22.8, 18.8, 18.7, 18.5, 18.3, 21.2, 19.2, 20.4, 19.3, 22. ,\n        20.3, 20.5, 17.3, 18.8, 21.4, 15.7, 16.2, 18. , 14.3, 19.2, 19.6,\n        23. , 18.4, 15.6, 18.1, 17.4, 17.1, 13.3, 17.8, 14. , 14.4, 13.4,\n        15.6, 11.8, 13.8, 15.6, 14.6, 17.8, 15.4, 21.5, 19.6, 15.3, 19.4,\n        17. , 15.6, 13.1, 41.3, 24.3, 23.3, 27. , 50. , 50. , 50. , 22.7,\n        25. , 50. , 23.8, 23.8, 22.3, 17.4, 19.1, 23.1, 23.6, 22.6, 29.4,\n        23.2, 24.6, 29.9, 37.2, 39.8, 36.2, 37.9, 32.5, 26.4, 29.6, 50. ,\n        32. , 29.8, 34.9, 37. , 30.5, 36.4, 31.1, 29.1, 50. , 33.3, 30.3,\n        34.6, 34.9, 32.9, 24.1, 42.3, 48.5, 50. , 22.6, 24.4, 22.5, 24.4,\n        20. , 21.7, 19.3, 22.4, 28.1, 23.7, 25. , 23.3, 28.7, 21.5, 23. ,\n        26.7, 21.7, 27.5, 30.1, 44.8, 50. , 37.6, 31.6, 46.7, 31.5, 24.3,\n        31.7, 41.7, 48.3, 29. , 24. , 25.1, 31.5, 23.7, 23.3, 22. , 20.1,\n        22.2, 23.7, 17.6, 18.5, 24.3, 20.5, 24.5, 26.2, 24.4, 24.8, 29.6,\n        42.8, 21.9, 20.9, 44. , 50. , 36. , 30.1, 33.8, 43.1, 48.8, 31. ,\n        36.5, 22.8, 30.7, 50. , 43.5, 20.7, 21.1, 25.2, 24.4, 35.2, 32.4,\n        32. , 33.2, 33.1, 29.1, 35.1, 45.4, 35.4, 46. , 50. , 32.2, 22. ,\n        20.1, 23.2, 22.3, 24.8, 28.5, 37.3, 27.9, 23.9, 21.7, 28.6, 27.1,\n        20.3, 22.5, 29. , 24.8, 22. , 26.4, 33.1, 36.1, 28.4, 33.4, 28.2,\n        22.8, 20.3, 16.1, 22.1, 19.4, 21.6, 23.8, 16.2, 17.8, 19.8, 23.1,\n        21. , 23.8, 23.1, 20.4, 18.5, 25. , 24.6, 23. , 22.2, 19.3, 22.6,\n        19.8, 17.1, 19.4, 22.2, 20.7, 21.1, 19.5, 18.5, 20.6, 19. , 18.7,\n        32.7, 16.5, 23.9, 31.2, 17.5, 17.2, 23.1, 24.5, 26.6, 22.9, 24.1,\n        18.6, 30.1, 18.2, 20.6, 17.8, 21.7, 22.7, 22.6, 25. , 19.9, 20.8,\n        16.8, 21.9, 27.5, 21.9, 23.1, 50. , 50. , 50. , 50. , 50. , 13.8,\n        13.8, 15. , 13.9, 13.3, 13.1, 10.2, 10.4, 10.9, 11.3, 12.3,  8.8,\n         7.2, 10.5,  7.4, 10.2, 11.5, 15.1, 23.2,  9.7, 13.8, 12.7, 13.1,\n        12.5,  8.5,  5. ,  6.3,  5.6,  7.2, 12.1,  8.3,  8.5,  5. , 11.9,\n        27.9, 17.2, 27.5, 15. , 17.2, 17.9, 16.3,  7. ,  7.2,  7.5, 10.4,\n         8.8,  8.4, 16.7, 14.2, 20.8, 13.4, 11.7,  8.3, 10.2, 10.9, 11. ,\n         9.5, 14.5, 14.1, 16.1, 14.3, 11.7, 13.4,  9.6,  8.7,  8.4, 12.8,\n        10.5, 17.1, 18.4, 15.4, 10.8, 11.8, 14.9, 12.6, 14.1, 13. , 13.4,\n        15.2, 16.1, 17.8, 14.9, 14.1, 12.7, 13.5, 14.9, 20. , 16.4, 17.7,\n        19.5, 20.2, 21.4, 19.9, 19. , 19.1, 19.1, 20.1, 19.9, 19.6, 23.2,\n        29.8, 13.8, 13.3, 16.7, 12. , 14.6, 21.4, 23. , 23.7, 25. , 21.8,\n        20.6, 21.2, 19.1, 20.6, 15.2,  7. ,  8.1, 13.6, 20.1, 21.8, 24.5,\n        23.1, 19.7, 18.3, 21.2, 17.5, 16.8, 22.4, 20.6, 23.9, 22. , 11.9]),\n 'feature_names': array(['CRIM', 'ZN', 'INDUS', 'CHAS', 'NOX', 'RM', 'AGE', 'DIS', 'RAD',\n        'TAX', 'PTRATIO', 'B', 'LSTAT'], dtype='<U7'),\n 'DESCR': \".. _boston_dataset:\\n\\nBoston house prices dataset\\n---------------------------\\n\\n**Data Set Characteristics:**  \\n\\n    :Number of Instances: 506 \\n\\n    :Number of Attributes: 13 numeric/categorical predictive. Median Value (attribute 14) is usually the target.\\n\\n    :Attribute Information (in order):\\n        - CRIM     per capita crime rate by town\\n        - ZN       proportion of residential land zoned for lots over 25,000 sq.ft.\\n        - INDUS    proportion of non-retail business acres per town\\n        - CHAS     Charles River dummy variable (= 1 if tract bounds river; 0 otherwise)\\n        - NOX      nitric oxides concentration (parts per 10 million)\\n        - RM       average number of rooms per dwelling\\n        - AGE      proportion of owner-occupied units built prior to 1940\\n        - DIS      weighted distances to five Boston employment centres\\n        - RAD      index of accessibility to radial highways\\n        - TAX      full-value property-tax rate per $10,000\\n        - PTRATIO  pupil-teacher ratio by town\\n        - B        1000(Bk - 0.63)^2 where Bk is the proportion of black people by town\\n        - LSTAT    % lower status of the population\\n        - MEDV     Median value of owner-occupied homes in $1000's\\n\\n    :Missing Attribute Values: None\\n\\n    :Creator: Harrison, D. and Rubinfeld, D.L.\\n\\nThis is a copy of UCI ML housing dataset.\\nhttps://archive.ics.uci.edu/ml/machine-learning-databases/housing/\\n\\n\\nThis dataset was taken from the StatLib library which is maintained at Carnegie Mellon University.\\n\\nThe Boston house-price data of Harrison, D. and Rubinfeld, D.L. 'Hedonic\\nprices and the demand for clean air', J. Environ. Economics & Management,\\nvol.5, 81-102, 1978.   Used in Belsley, Kuh & Welsch, 'Regression diagnostics\\n...', Wiley, 1980.   N.B. Various transformations are used in the table on\\npages 244-261 of the latter.\\n\\nThe Boston house-price data has been used in many machine learning papers that address regression\\nproblems.   \\n     \\n.. topic:: References\\n\\n   - Belsley, Kuh & Welsch, 'Regression diagnostics: Identifying Influential Data and Sources of Collinearity', Wiley, 1980. 244-261.\\n   - Quinlan,R. (1993). Combining Instance-Based and Model-Based Learning. In Proceedings on the Tenth International Conference of Machine Learning, 236-243, University of Massachusetts, Amherst. Morgan Kaufmann.\\n\",\n 'filename': 'boston_house_prices.csv',\n 'data_module': 'sklearn.datasets.data'}"
     },
     "execution_count": 42,
     "metadata": {},
     "output_type": "execute_result"
    }
   ],
   "source": [
    "boston = load_boston()\n",
    "boston"
   ],
   "metadata": {
    "collapsed": false,
    "pycharm": {
     "name": "#%%\n"
    }
   }
  },
  {
   "cell_type": "code",
   "execution_count": 43,
   "outputs": [
    {
     "data": {
      "text/plain": "array([[6.3200e-03, 1.8000e+01, 2.3100e+00, ..., 1.5300e+01, 3.9690e+02,\n        4.9800e+00],\n       [2.7310e-02, 0.0000e+00, 7.0700e+00, ..., 1.7800e+01, 3.9690e+02,\n        9.1400e+00],\n       [2.7290e-02, 0.0000e+00, 7.0700e+00, ..., 1.7800e+01, 3.9283e+02,\n        4.0300e+00],\n       ...,\n       [6.0760e-02, 0.0000e+00, 1.1930e+01, ..., 2.1000e+01, 3.9690e+02,\n        5.6400e+00],\n       [1.0959e-01, 0.0000e+00, 1.1930e+01, ..., 2.1000e+01, 3.9345e+02,\n        6.4800e+00],\n       [4.7410e-02, 0.0000e+00, 1.1930e+01, ..., 2.1000e+01, 3.9690e+02,\n        7.8800e+00]])"
     },
     "execution_count": 43,
     "metadata": {},
     "output_type": "execute_result"
    }
   ],
   "source": [
    "boston.data"
   ],
   "metadata": {
    "collapsed": false,
    "pycharm": {
     "name": "#%%\n"
    }
   }
  },
  {
   "cell_type": "code",
   "execution_count": 44,
   "outputs": [
    {
     "data": {
      "text/plain": "array([24. , 21.6, 34.7, 33.4, 36.2, 28.7, 22.9, 27.1, 16.5, 18.9, 15. ,\n       18.9, 21.7, 20.4, 18.2, 19.9, 23.1, 17.5, 20.2, 18.2, 13.6, 19.6,\n       15.2, 14.5, 15.6, 13.9, 16.6, 14.8, 18.4, 21. , 12.7, 14.5, 13.2,\n       13.1, 13.5, 18.9, 20. , 21. , 24.7, 30.8, 34.9, 26.6, 25.3, 24.7,\n       21.2, 19.3, 20. , 16.6, 14.4, 19.4, 19.7, 20.5, 25. , 23.4, 18.9,\n       35.4, 24.7, 31.6, 23.3, 19.6, 18.7, 16. , 22.2, 25. , 33. , 23.5,\n       19.4, 22. , 17.4, 20.9, 24.2, 21.7, 22.8, 23.4, 24.1, 21.4, 20. ,\n       20.8, 21.2, 20.3, 28. , 23.9, 24.8, 22.9, 23.9, 26.6, 22.5, 22.2,\n       23.6, 28.7, 22.6, 22. , 22.9, 25. , 20.6, 28.4, 21.4, 38.7, 43.8,\n       33.2, 27.5, 26.5, 18.6, 19.3, 20.1, 19.5, 19.5, 20.4, 19.8, 19.4,\n       21.7, 22.8, 18.8, 18.7, 18.5, 18.3, 21.2, 19.2, 20.4, 19.3, 22. ,\n       20.3, 20.5, 17.3, 18.8, 21.4, 15.7, 16.2, 18. , 14.3, 19.2, 19.6,\n       23. , 18.4, 15.6, 18.1, 17.4, 17.1, 13.3, 17.8, 14. , 14.4, 13.4,\n       15.6, 11.8, 13.8, 15.6, 14.6, 17.8, 15.4, 21.5, 19.6, 15.3, 19.4,\n       17. , 15.6, 13.1, 41.3, 24.3, 23.3, 27. , 50. , 50. , 50. , 22.7,\n       25. , 50. , 23.8, 23.8, 22.3, 17.4, 19.1, 23.1, 23.6, 22.6, 29.4,\n       23.2, 24.6, 29.9, 37.2, 39.8, 36.2, 37.9, 32.5, 26.4, 29.6, 50. ,\n       32. , 29.8, 34.9, 37. , 30.5, 36.4, 31.1, 29.1, 50. , 33.3, 30.3,\n       34.6, 34.9, 32.9, 24.1, 42.3, 48.5, 50. , 22.6, 24.4, 22.5, 24.4,\n       20. , 21.7, 19.3, 22.4, 28.1, 23.7, 25. , 23.3, 28.7, 21.5, 23. ,\n       26.7, 21.7, 27.5, 30.1, 44.8, 50. , 37.6, 31.6, 46.7, 31.5, 24.3,\n       31.7, 41.7, 48.3, 29. , 24. , 25.1, 31.5, 23.7, 23.3, 22. , 20.1,\n       22.2, 23.7, 17.6, 18.5, 24.3, 20.5, 24.5, 26.2, 24.4, 24.8, 29.6,\n       42.8, 21.9, 20.9, 44. , 50. , 36. , 30.1, 33.8, 43.1, 48.8, 31. ,\n       36.5, 22.8, 30.7, 50. , 43.5, 20.7, 21.1, 25.2, 24.4, 35.2, 32.4,\n       32. , 33.2, 33.1, 29.1, 35.1, 45.4, 35.4, 46. , 50. , 32.2, 22. ,\n       20.1, 23.2, 22.3, 24.8, 28.5, 37.3, 27.9, 23.9, 21.7, 28.6, 27.1,\n       20.3, 22.5, 29. , 24.8, 22. , 26.4, 33.1, 36.1, 28.4, 33.4, 28.2,\n       22.8, 20.3, 16.1, 22.1, 19.4, 21.6, 23.8, 16.2, 17.8, 19.8, 23.1,\n       21. , 23.8, 23.1, 20.4, 18.5, 25. , 24.6, 23. , 22.2, 19.3, 22.6,\n       19.8, 17.1, 19.4, 22.2, 20.7, 21.1, 19.5, 18.5, 20.6, 19. , 18.7,\n       32.7, 16.5, 23.9, 31.2, 17.5, 17.2, 23.1, 24.5, 26.6, 22.9, 24.1,\n       18.6, 30.1, 18.2, 20.6, 17.8, 21.7, 22.7, 22.6, 25. , 19.9, 20.8,\n       16.8, 21.9, 27.5, 21.9, 23.1, 50. , 50. , 50. , 50. , 50. , 13.8,\n       13.8, 15. , 13.9, 13.3, 13.1, 10.2, 10.4, 10.9, 11.3, 12.3,  8.8,\n        7.2, 10.5,  7.4, 10.2, 11.5, 15.1, 23.2,  9.7, 13.8, 12.7, 13.1,\n       12.5,  8.5,  5. ,  6.3,  5.6,  7.2, 12.1,  8.3,  8.5,  5. , 11.9,\n       27.9, 17.2, 27.5, 15. , 17.2, 17.9, 16.3,  7. ,  7.2,  7.5, 10.4,\n        8.8,  8.4, 16.7, 14.2, 20.8, 13.4, 11.7,  8.3, 10.2, 10.9, 11. ,\n        9.5, 14.5, 14.1, 16.1, 14.3, 11.7, 13.4,  9.6,  8.7,  8.4, 12.8,\n       10.5, 17.1, 18.4, 15.4, 10.8, 11.8, 14.9, 12.6, 14.1, 13. , 13.4,\n       15.2, 16.1, 17.8, 14.9, 14.1, 12.7, 13.5, 14.9, 20. , 16.4, 17.7,\n       19.5, 20.2, 21.4, 19.9, 19. , 19.1, 19.1, 20.1, 19.9, 19.6, 23.2,\n       29.8, 13.8, 13.3, 16.7, 12. , 14.6, 21.4, 23. , 23.7, 25. , 21.8,\n       20.6, 21.2, 19.1, 20.6, 15.2,  7. ,  8.1, 13.6, 20.1, 21.8, 24.5,\n       23.1, 19.7, 18.3, 21.2, 17.5, 16.8, 22.4, 20.6, 23.9, 22. , 11.9])"
     },
     "execution_count": 44,
     "metadata": {},
     "output_type": "execute_result"
    }
   ],
   "source": [
    "boston.target"
   ],
   "metadata": {
    "collapsed": false,
    "pycharm": {
     "name": "#%%\n"
    }
   }
  },
  {
   "cell_type": "code",
   "execution_count": 45,
   "outputs": [
    {
     "data": {
      "text/plain": "array([-18.08941176, -10.61843137, -16.31843137, -44.97803922,\n       -17.12509804, -49.71509804, -12.9986    , -88.4514    ,\n       -55.7914    , -25.0816    ])"
     },
     "execution_count": 45,
     "metadata": {},
     "output_type": "execute_result"
    }
   ],
   "source": [
    "regressor = DecisionTreeRegressor(random_state=0) #实例化\n",
    "cross_val_score(regressor,boston.data,boston.target,cv = 10\n",
    "                ,scoring='neg_mean_squared_error'  #回归默认返回r平方\n",
    "                )"
   ],
   "metadata": {
    "collapsed": false,
    "pycharm": {
     "name": "#%%\n"
    }
   }
  },
  {
   "cell_type": "code",
   "execution_count": 46,
   "outputs": [],
   "source": [
    "#一维回归图像的绘制\n",
    "import numpy as np\n",
    "from sklearn.tree import DecisionTreeRegressor\n",
    "import matplotlib.pyplot as plt"
   ],
   "metadata": {
    "collapsed": false,
    "pycharm": {
     "name": "#%%\n"
    }
   }
  },
  {
   "cell_type": "code",
   "execution_count": 47,
   "outputs": [],
   "source": [
    "#创建一条含有噪声的正弦曲线"
   ],
   "metadata": {
    "collapsed": false,
    "pycharm": {
     "name": "#%%\n"
    }
   }
  },
  {
   "cell_type": "code",
   "execution_count": 48,
   "outputs": [],
   "source": [
    "rng = np.random.RandomState(1) #随机数种子"
   ],
   "metadata": {
    "collapsed": false,
    "pycharm": {
     "name": "#%%\n"
    }
   }
  },
  {
   "cell_type": "code",
   "execution_count": 49,
   "outputs": [
    {
     "data": {
      "text/plain": "array([[2.08511002e+00],\n       [3.60162247e+00],\n       [5.71874087e-04],\n       [1.51166286e+00],\n       [7.33779454e-01],\n       [4.61692974e-01],\n       [9.31301057e-01],\n       [1.72780364e+00],\n       [1.98383737e+00],\n       [2.69408367e+00],\n       [2.09597257e+00],\n       [3.42609750e+00],\n       [1.02226125e+00],\n       [4.39058718e+00],\n       [1.36937966e-01],\n       [3.35233755e+00],\n       [2.08652401e+00],\n       [2.79344914e+00],\n       [7.01934693e-01],\n       [9.90507445e-01],\n       [4.00372284e+00],\n       [4.84130788e+00],\n       [1.56712089e+00],\n       [3.46161308e+00],\n       [4.38194576e+00],\n       [4.47303332e+00],\n       [4.25221057e-01],\n       [1.95273916e-01],\n       [8.49152098e-01],\n       [4.39071252e+00],\n       [4.91734169e-01],\n       [2.10553813e+00],\n       [4.78944765e+00],\n       [2.66582642e+00],\n       [3.45938557e+00],\n       [1.57757816e+00],\n       [3.43250464e+00],\n       [4.17312836e+00],\n       [9.14413867e-02],\n       [3.75072157e+00],\n       [4.94430544e+00],\n       [3.74082827e+00],\n       [1.40221996e+00],\n       [3.94639664e+00],\n       [5.16130033e-01],\n       [2.23946763e+00],\n       [4.54297752e+00],\n       [1.46807074e+00],\n       [1.43887669e+00],\n       [6.50142861e-01],\n       [9.68347894e-02],\n       [3.39417766e+00],\n       [1.05814058e+00],\n       [1.32773330e+00],\n       [2.45786580e+00],\n       [2.66812726e-01],\n       [2.87058803e+00],\n       [7.33642875e-01],\n       [2.94652768e+00],\n       [3.49879180e+00],\n       [5.11672144e-01],\n       [2.07027994e+00],\n       [3.47200079e+00],\n       [2.07089635e+00],\n       [2.49767295e-01],\n       [2.67948203e+00],\n       [3.31897323e+00],\n       [2.57444556e+00],\n       [4.72297378e+00],\n       [2.93277520e+00],\n       [4.51700958e+00],\n       [6.87373521e-01],\n       [6.96381736e-01],\n       [4.03695644e+00],\n       [1.98838418e+00],\n       [8.26770986e-01],\n       [4.63754290e+00],\n       [1.73882930e+00],\n       [3.75406052e+00],\n       [3.62998993e+00]])"
     },
     "execution_count": 49,
     "metadata": {},
     "output_type": "execute_result"
    }
   ],
   "source": [
    "rng.rand(80,1)*5 #80行1列数组"
   ],
   "metadata": {
    "collapsed": false,
    "pycharm": {
     "name": "#%%\n"
    }
   }
  },
  {
   "cell_type": "code",
   "execution_count": 50,
   "outputs": [
    {
     "data": {
      "text/plain": "array([[5.71874087e-04],\n       [9.14413867e-02],\n       [9.68347894e-02],\n       [1.36937966e-01],\n       [1.95273916e-01],\n       [2.49767295e-01],\n       [2.66812726e-01],\n       [4.25221057e-01],\n       [4.61692974e-01],\n       [4.91734169e-01],\n       [5.11672144e-01],\n       [5.16130033e-01],\n       [6.50142861e-01],\n       [6.87373521e-01],\n       [6.96381736e-01],\n       [7.01934693e-01],\n       [7.33642875e-01],\n       [7.33779454e-01],\n       [8.26770986e-01],\n       [8.49152098e-01],\n       [9.31301057e-01],\n       [9.90507445e-01],\n       [1.02226125e+00],\n       [1.05814058e+00],\n       [1.32773330e+00],\n       [1.40221996e+00],\n       [1.43887669e+00],\n       [1.46807074e+00],\n       [1.51166286e+00],\n       [1.56712089e+00],\n       [1.57757816e+00],\n       [1.72780364e+00],\n       [1.73882930e+00],\n       [1.98383737e+00],\n       [1.98838418e+00],\n       [2.07027994e+00],\n       [2.07089635e+00],\n       [2.08511002e+00],\n       [2.08652401e+00],\n       [2.09597257e+00],\n       [2.10553813e+00],\n       [2.23946763e+00],\n       [2.45786580e+00],\n       [2.57444556e+00],\n       [2.66582642e+00],\n       [2.67948203e+00],\n       [2.69408367e+00],\n       [2.79344914e+00],\n       [2.87058803e+00],\n       [2.93277520e+00],\n       [2.94652768e+00],\n       [3.31897323e+00],\n       [3.35233755e+00],\n       [3.39417766e+00],\n       [3.42609750e+00],\n       [3.43250464e+00],\n       [3.45938557e+00],\n       [3.46161308e+00],\n       [3.47200079e+00],\n       [3.49879180e+00],\n       [3.60162247e+00],\n       [3.62998993e+00],\n       [3.74082827e+00],\n       [3.75072157e+00],\n       [3.75406052e+00],\n       [3.94639664e+00],\n       [4.00372284e+00],\n       [4.03695644e+00],\n       [4.17312836e+00],\n       [4.38194576e+00],\n       [4.39058718e+00],\n       [4.39071252e+00],\n       [4.47303332e+00],\n       [4.51700958e+00],\n       [4.54297752e+00],\n       [4.63754290e+00],\n       [4.72297378e+00],\n       [4.78944765e+00],\n       [4.84130788e+00],\n       [4.94430544e+00]])"
     },
     "execution_count": 50,
     "metadata": {},
     "output_type": "execute_result"
    }
   ],
   "source": [
    "x = np.sort(5*np.random.RandomState(1).rand(80,1),axis=0)\n",
    "x #横坐标的数据"
   ],
   "metadata": {
    "collapsed": false,
    "pycharm": {
     "name": "#%%\n"
    }
   }
  },
  {
   "cell_type": "code",
   "execution_count": 51,
   "outputs": [
    {
     "data": {
      "text/plain": "array([ 5.71874056e-04,  9.13140084e-02,  9.66835240e-02,  1.36510390e-01,\n        1.94035253e-01,  2.47178482e-01,  2.63658285e-01,  4.12522163e-01,\n        4.45464463e-01,  4.72155294e-01,  4.89635918e-01,  4.93517994e-01,\n        6.05300129e-01,  6.34509327e-01,  6.41446076e-01,  6.45696215e-01,\n        6.69579781e-01,  6.69681218e-01,  7.35748344e-01,  7.50720534e-01,\n        8.02397078e-01,  8.36304301e-01,  8.53289303e-01,  8.71444956e-01,\n        9.70605329e-01,  9.85824622e-01,  9.91311217e-01,  9.94728365e-01,\n        9.98252126e-01,  9.99993246e-01,  9.99977003e-01,  9.87699652e-01,\n        9.85915646e-01,  9.15904395e-01,  9.14069859e-01,  8.77830014e-01,\n        8.77534605e-01,  8.70630546e-01,  8.69934082e-01,  8.65235592e-01,\n        8.60400242e-01,  7.84646075e-01,  6.31686553e-01,  5.37227991e-01,\n        4.58019714e-01,  4.45838347e-01,  4.32721158e-01,  3.41153283e-01,\n        2.67699531e-01,  2.07303185e-01,  1.93830272e-01, -1.76451855e-01,\n       -2.09188375e-01, -2.49907779e-01, -2.80682239e-01, -2.86826010e-01,\n       -3.12470754e-01, -3.14585948e-01, -3.24429114e-01, -3.49651545e-01,\n       -4.43974821e-01, -4.69211146e-01, -5.64011437e-01, -5.72153265e-01,\n       -5.74888492e-01, -7.20694771e-01, -7.59230658e-01, -7.80436587e-01,\n       -8.58088588e-01, -9.45898629e-01, -9.48667092e-01, -9.48706725e-01,\n       -9.71490934e-01, -9.80974083e-01, -9.85684166e-01, -9.97200340e-01,\n       -9.99943982e-01, -9.97032450e-01, -9.91701462e-01, -9.73227696e-01])"
     },
     "execution_count": 51,
     "metadata": {},
     "output_type": "execute_result"
    }
   ],
   "source": [
    "y = np.sin(x).ravel()  #ravel降维\n",
    "y"
   ],
   "metadata": {
    "collapsed": false,
    "pycharm": {
     "name": "#%%\n"
    }
   }
  },
  {
   "cell_type": "code",
   "execution_count": 52,
   "outputs": [
    {
     "data": {
      "text/plain": "<matplotlib.collections.PathCollection at 0x2648fcf0348>"
     },
     "execution_count": 52,
     "metadata": {},
     "output_type": "execute_result"
    },
    {
     "data": {
      "text/plain": "<Figure size 432x288 with 1 Axes>",
      "image/png": "[encoded data removed]"
     },
     "metadata": {
      "needs_background": "light"
     },
     "output_type": "display_data"
    }
   ],
   "source": [
    "plt.figure()\n",
    "plt.scatter(x,y,s = 20,edgecolors='black',c = 'darkorange',label = 'data')"
   ],
   "metadata": {
    "collapsed": false,
    "pycharm": {
     "name": "#%%\n"
    }
   }
  },
  {
   "cell_type": "code",
   "execution_count": 57,
   "outputs": [],
   "source": [
    "rng = np.random.RandomState(2)#随机数种子\n",
    "X = np.sort(5*rng.rand(80,1),axis=0)#生成0-5之间随机的x取值\n",
    "y = np.sin(x).ravel()#生成正弦曲线\n",
    "y[::5] += 3*(0.5- rng.rand(16))# 在正弦曲线上加噪声,随机变量"
   ],
   "metadata": {
    "collapsed": false,
    "pycharm": {
     "name": "#%%\n"
    }
   }
  },
  {
   "cell_type": "code",
   "execution_count": 58,
   "outputs": [
    {
     "data": {
      "text/plain": "<matplotlib.collections.PathCollection at 0x2648fdece88>"
     },
     "execution_count": 58,
     "metadata": {},
     "output_type": "execute_result"
    },
    {
     "data": {
      "text/plain": "<Figure size 432x288 with 1 Axes>",
      "image/png": "[encoded data removed]"
     },
     "metadata": {
      "needs_background": "light"
     },
     "output_type": "display_data"
    }
   ],
   "source": [
    "plt.figure()\n",
    "plt.scatter(x,y,s = 20,edgecolors='black',c = 'darkorange',label = 'data')"
   ],
   "metadata": {
    "collapsed": false,
    "pycharm": {
     "name": "#%%\n"
    }
   }
  },
  {
   "cell_type": "markdown",
   "source": [],
   "metadata": {
    "collapsed": false
   }
  },
  {
   "cell_type": "code",
   "execution_count": 67,
   "outputs": [
    {
     "data": {
      "text/plain": "DecisionTreeRegressor(max_depth=5)"
     },
     "execution_count": 67,
     "metadata": {},
     "output_type": "execute_result"
    }
   ],
   "source": [
    "regr_2 = DecisionTreeRegressor(max_depth=2)\n",
    "regr_3 = DecisionTreeRegressor(max_depth=3)\n",
    "regr_5 = DecisionTreeRegressor(max_depth=5)\n",
    "regr_2.fit(x,y)\n",
    "regr_3.fit(x,y)\n",
    "regr_5.fit(x,y)"
   ],
   "metadata": {
    "collapsed": false,
    "pycharm": {
     "name": "#%%\n"
    }
   }
  },
  {
   "cell_type": "code",
   "execution_count": 68,
   "outputs": [
    {
     "data": {
      "text/plain": "(500, 1)"
     },
     "execution_count": 68,
     "metadata": {},
     "output_type": "execute_result"
    }
   ],
   "source": [
    "x_test = np.arange(0.0,5.0,0.01)[:,np.newaxis]  #[np.newaxis,:]转置\n",
    "x_test.shape"
   ],
   "metadata": {
    "collapsed": false,
    "pycharm": {
     "name": "#%%\n"
    }
   }
  },
  {
   "cell_type": "code",
   "execution_count": 69,
   "outputs": [],
   "source": [
    "y_2 = regr_2.predict(x_test)\n",
    "y_5 = regr_5.predict(x_test)\n",
    "y_3 = regr_3.predict(x_test)"
   ],
   "metadata": {
    "collapsed": false,
    "pycharm": {
     "name": "#%%\n"
    }
   }
  },
  {
   "cell_type": "markdown",
   "source": [],
   "metadata": {
    "collapsed": false
   }
  },
  {
   "cell_type": "code",
   "execution_count": 70,
   "outputs": [
    {
     "data": {
      "text/plain": "array([ 0.70022168,  0.70022168,  0.70022168,  0.70022168,  0.70022168,\n        0.70022168,  0.70022168,  0.70022168,  0.70022168,  0.70022168,\n        0.70022168,  0.70022168,  0.70022168,  0.70022168,  0.70022168,\n        0.70022168,  0.70022168,  0.70022168,  0.70022168,  0.70022168,\n        0.70022168,  0.70022168,  0.70022168,  0.70022168,  0.70022168,\n        0.70022168,  0.70022168,  0.70022168,  0.70022168,  0.70022168,\n        0.70022168,  0.70022168,  0.70022168,  0.70022168,  0.70022168,\n        0.70022168,  0.70022168,  0.70022168,  0.70022168,  0.70022168,\n        0.70022168,  0.70022168,  0.70022168,  0.70022168,  0.70022168,\n        0.70022168,  0.70022168,  0.70022168,  0.70022168,  0.70022168,\n        0.70022168,  0.70022168,  0.70022168,  0.70022168,  0.70022168,\n        0.70022168,  0.70022168,  0.70022168,  0.70022168,  0.70022168,\n        0.70022168,  0.70022168,  0.70022168,  0.70022168,  0.70022168,\n        0.70022168,  0.70022168,  0.70022168,  0.70022168,  0.70022168,\n        0.70022168,  0.70022168,  0.70022168,  0.70022168,  0.70022168,\n        0.70022168,  0.70022168,  0.70022168,  0.70022168,  0.70022168,\n        0.70022168,  0.70022168,  0.70022168,  0.70022168,  0.70022168,\n        0.70022168,  0.70022168,  0.70022168,  0.70022168,  0.70022168,\n        0.70022168,  0.70022168,  0.70022168,  0.70022168,  0.70022168,\n        0.70022168,  0.70022168,  0.70022168,  0.70022168,  0.70022168,\n        0.70022168,  0.70022168,  0.70022168,  0.70022168,  0.70022168,\n        0.70022168,  0.70022168,  0.70022168,  0.70022168,  0.70022168,\n        0.70022168,  0.70022168,  0.70022168,  0.70022168,  0.70022168,\n        0.70022168,  0.70022168,  0.70022168,  0.70022168,  0.70022168,\n        0.70022168,  0.70022168,  0.70022168,  0.70022168,  0.70022168,\n        0.70022168,  0.70022168,  0.70022168,  0.70022168,  0.70022168,\n        0.70022168,  0.70022168,  0.70022168,  0.70022168,  0.70022168,\n        0.70022168,  0.70022168,  0.70022168,  0.70022168,  0.70022168,\n        0.70022168,  0.70022168,  0.70022168,  0.70022168,  0.70022168,\n        0.70022168,  0.70022168,  0.70022168,  0.70022168,  0.70022168,\n        0.70022168,  0.70022168,  0.70022168,  0.70022168,  0.70022168,\n        0.70022168,  0.70022168,  0.70022168,  0.70022168,  0.70022168,\n        0.70022168,  0.70022168,  0.70022168,  0.70022168,  0.70022168,\n        0.70022168,  0.70022168,  0.70022168,  0.70022168,  0.70022168,\n        0.70022168,  0.70022168,  0.70022168,  0.70022168,  0.70022168,\n        0.70022168,  0.70022168,  0.70022168,  0.70022168,  0.70022168,\n        0.70022168,  0.70022168,  0.70022168,  0.70022168,  0.70022168,\n        0.70022168,  0.70022168,  0.70022168,  0.70022168,  0.70022168,\n        0.70022168,  0.70022168,  0.70022168,  0.70022168,  0.70022168,\n        0.70022168,  0.70022168,  0.70022168,  0.70022168,  0.70022168,\n        0.70022168,  0.70022168,  0.70022168,  0.70022168,  0.70022168,\n        0.70022168,  0.70022168,  0.70022168,  0.70022168,  0.70022168,\n        0.70022168,  0.70022168,  0.70022168,  0.70022168,  0.70022168,\n        0.70022168,  0.70022168,  0.70022168,  0.70022168,  0.70022168,\n        0.70022168,  0.70022168,  0.70022168,  0.70022168,  0.70022168,\n        0.70022168,  0.70022168,  0.70022168,  0.70022168,  0.70022168,\n        0.70022168,  0.70022168,  0.70022168,  0.70022168,  0.70022168,\n        0.70022168,  0.70022168,  0.70022168,  0.70022168,  0.70022168,\n        0.70022168,  0.70022168,  0.70022168,  0.70022168,  0.70022168,\n        0.70022168,  0.70022168,  0.70022168,  0.70022168,  0.70022168,\n        0.70022168,  0.70022168,  0.70022168,  0.70022168,  0.70022168,\n        0.70022168,  0.70022168,  0.70022168,  0.70022168,  0.70022168,\n        0.70022168,  0.70022168,  0.70022168,  0.70022168,  0.70022168,\n        0.70022168,  0.70022168,  0.70022168,  0.70022168,  0.21744825,\n        0.21744825,  0.21744825,  0.21744825,  0.21744825,  0.21744825,\n        0.21744825,  0.21744825,  0.21744825,  0.21744825,  0.21744825,\n        0.21744825,  0.21744825,  0.21744825,  0.21744825,  0.21744825,\n        0.21744825,  0.21744825,  0.21744825,  0.21744825,  0.21744825,\n        0.21744825,  0.21744825,  0.21744825,  0.21744825,  0.21744825,\n        0.21744825,  0.21744825,  0.21744825,  0.21744825,  0.21744825,\n        0.21744825,  0.21744825,  0.21744825,  0.21744825,  0.21744825,\n        0.21744825,  0.21744825,  0.21744825,  0.21744825,  0.21744825,\n        0.21744825,  0.21744825,  0.21744825,  0.21744825,  0.21744825,\n        0.21744825,  0.21744825,  0.21744825,  0.21744825,  0.21744825,\n        0.21744825,  0.21744825,  0.21744825,  0.21744825,  0.21744825,\n        0.21744825,  0.21744825,  0.21744825,  0.21744825,  0.21744825,\n        0.21744825,  0.21744825,  0.21744825,  0.21744825,  0.21744825,\n        0.21744825,  0.21744825,  0.21744825,  0.21744825,  0.21744825,\n        0.21744825,  0.21744825,  0.21744825,  0.21744825,  0.21744825,\n       -0.32528434, -0.32528434, -0.32528434, -0.32528434, -0.32528434,\n       -0.32528434, -0.32528434, -0.32528434, -0.32528434, -0.32528434,\n       -0.32528434, -0.82825607, -0.82825607, -0.82825607, -0.82825607,\n       -0.82825607, -0.82825607, -0.82825607, -0.82825607, -0.82825607,\n       -0.82825607, -0.82825607, -0.82825607, -0.82825607, -0.82825607,\n       -0.82825607, -0.82825607, -0.82825607, -0.82825607, -0.82825607,\n       -0.82825607, -0.82825607, -0.82825607, -0.82825607, -0.82825607,\n       -0.82825607, -0.82825607, -0.82825607, -0.82825607, -0.82825607,\n       -0.82825607, -0.82825607, -0.82825607, -0.82825607, -0.82825607,\n       -0.82825607, -0.82825607, -0.82825607, -0.82825607, -0.82825607,\n       -0.82825607, -0.82825607, -0.82825607, -0.82825607, -0.82825607,\n       -0.82825607, -0.82825607, -0.82825607, -0.82825607, -0.82825607,\n       -0.82825607, -0.82825607, -0.82825607, -0.82825607, -0.82825607,\n       -0.82825607, -0.82825607, -0.82825607, -0.82825607, -0.82825607,\n       -0.82825607, -0.82825607, -0.82825607, -0.82825607, -0.82825607,\n       -0.82825607, -0.82825607, -0.82825607, -0.82825607, -0.82825607,\n       -0.82825607, -0.82825607, -0.82825607, -0.82825607, -0.82825607,\n       -0.82825607, -0.82825607, -0.82825607, -0.82825607, -0.82825607,\n       -0.82825607, -0.82825607, -0.82825607, -0.82825607, -0.82825607,\n       -0.82825607, -0.82825607, -0.82825607, -0.82825607, -0.82825607,\n       -0.82825607, -0.82825607, -0.82825607, -0.82825607, -0.82825607,\n       -0.82825607, -0.82825607, -0.82825607, -0.82825607, -0.82825607,\n       -0.82825607, -0.82825607, -0.82825607, -0.82825607, -0.82825607,\n       -0.82825607, -0.82825607, -0.82825607, -0.82825607, -0.82825607,\n       -0.82825607, -0.82825607, -0.82825607, -0.82825607, -0.82825607,\n       -0.82825607, -0.82825607, -0.82825607, -0.82825607, -0.82825607,\n       -0.82825607, -0.82825607, -0.82825607, -0.82825607, -0.82825607,\n       -0.82825607, -0.82825607, -0.82825607, -0.82825607, -0.82825607,\n       -0.82825607, -0.82825607, -0.82825607, -0.82825607, -0.82825607,\n       -0.82825607, -0.82825607, -0.82825607, -0.82825607, -0.82825607,\n       -0.82825607, -0.82825607, -0.82825607, -0.82825607, -0.82825607])"
     },
     "execution_count": 70,
     "metadata": {},
     "output_type": "execute_result"
    }
   ],
   "source": [
    "y_2"
   ],
   "metadata": {
    "collapsed": false,
    "pycharm": {
     "name": "#%%\n"
    }
   }
  },
  {
   "cell_type": "code",
   "execution_count": 71,
   "outputs": [
    {
     "data": {
      "text/plain": "array([-0.24748279, -0.24748279, -0.24748279, -0.24748279, -0.24748279,\n        0.10816931,  0.10816931,  0.10816931,  0.10816931,  0.10816931,\n        0.10816931,  0.10816931,  0.10816931,  0.10816931,  0.10816931,\n        0.10816931,  0.10816931,  0.19403525,  0.19403525,  0.19403525,\n        0.19403525,  0.19403525,  0.19403525,  1.67052566,  1.67052566,\n        1.67052566,  0.34839134,  0.34839134,  0.34839134,  0.34839134,\n        0.34839134,  0.34839134,  0.34839134,  0.34839134,  0.34839134,\n        0.34839134,  0.34839134,  0.34839134,  0.34839134,  0.34839134,\n        0.34839134,  0.34839134,  0.34839134,  0.34839134,  0.34839134,\n        0.34839134,  0.34839134,  0.34839134,  0.34839134,  0.34839134,\n        0.34839134,  0.34839134,  0.34839134,  0.34839134,  0.34839134,\n        0.34839134,  0.34839134,  0.34839134,  0.34839134,  0.82877245,\n        0.82877245,  0.82877245,  0.82877245,  0.82877245,  0.82877245,\n        0.82877245,  0.82877245,  0.82877245,  0.82877245,  0.82877245,\n        0.82877245,  0.82877245,  0.82877245,  0.82877245,  0.82877245,\n        0.82877245,  0.82877245,  0.82877245,  0.82877245,  0.82877245,\n        0.82877245,  0.82877245,  0.82877245,  0.82877245,  0.82877245,\n        0.82877245,  0.82877245,  0.82877245,  0.82877245,  0.82877245,\n        0.82877245,  0.82877245,  0.82877245,  0.82877245,  0.82877245,\n        0.82877245,  0.82877245,  0.82877245,  0.82877245,  0.82877245,\n        0.82877245,  0.82877245,  0.82877245,  0.82877245,  0.82877245,\n        0.82877245,  0.82877245,  0.82877245,  0.82877245,  0.82877245,\n        0.82877245,  0.82877245,  0.82877245,  0.82877245,  0.82877245,\n        0.82877245,  0.82877245,  0.82877245,  0.82877245,  0.82877245,\n        0.82877245,  0.82877245,  0.82877245,  0.82877245,  0.82877245,\n        0.82877245,  0.82877245,  0.82877245,  0.82877245,  0.82877245,\n        0.82877245,  0.82877245,  0.82877245,  0.82877245,  0.82877245,\n        0.82877245,  0.82877245,  0.82877245,  0.82877245,  0.82877245,\n        0.82877245,  0.82877245,  0.82877245,  0.82877245,  0.82877245,\n        0.82877245,  0.82877245,  0.82877245,  0.82877245,  0.82877245,\n        0.82877245,  0.82877245,  0.82877245,  0.82877245,  0.82877245,\n        0.82877245,  0.82877245,  0.82877245,  0.82877245,  0.82877245,\n        0.82877245,  0.82877245,  0.82877245,  0.82877245,  0.82877245,\n        0.82877245,  0.82877245,  0.82877245,  0.82877245,  0.82877245,\n        0.82877245,  0.82877245,  0.82877245,  0.82877245,  0.82877245,\n        0.82877245,  0.82877245,  0.82877245,  0.82877245,  0.82877245,\n        0.82877245,  0.82877245,  0.82877245,  0.82877245,  0.82877245,\n        0.82877245,  0.82877245,  0.82877245,  0.82877245,  0.82877245,\n        0.82877245,  0.82877245,  0.82877245,  0.82877245,  0.82877245,\n        0.82877245,  0.82877245,  0.82877245,  0.82877245,  0.82877245,\n        0.82877245,  0.82877245,  0.82877245,  0.82877245,  0.82877245,\n        0.82877245,  0.82877245,  0.82877245,  0.82877245,  0.82877245,\n        0.82877245,  0.82877245,  0.82877245,  0.82877245,  0.82877245,\n        0.82877245,  0.82877245,  0.82877245,  0.82877245,  0.82877245,\n        0.82877245,  0.82877245,  0.82877245,  0.82877245,  0.82877245,\n        0.82877245,  0.82877245,  0.82877245,  0.82877245,  0.82877245,\n        0.82877245,  0.82877245,  0.82877245,  0.82877245,  0.82877245,\n        0.82877245,  0.82877245,  0.82877245,  0.82877245,  0.82877245,\n        0.82877245,  0.82877245,  0.82877245,  0.82877245,  0.82877245,\n        0.82877245,  0.82877245,  0.82877245,  0.82877245,  0.82877245,\n        0.82877245,  0.82877245,  0.82877245,  0.82877245,  0.82877245,\n        0.82877245,  0.82877245,  0.82877245,  0.82877245,  0.82877245,\n        0.82877245,  0.82877245,  0.82877245,  0.82877245,  0.82877245,\n        0.82877245,  0.82877245,  0.82877245,  0.82877245,  0.31221929,\n        0.31221929,  0.31221929,  0.31221929,  0.31221929,  0.31221929,\n        0.31221929,  0.31221929,  0.31221929,  0.31221929,  0.31221929,\n        0.31221929,  0.31221929,  0.31221929,  0.31221929,  0.31221929,\n        0.31221929,  0.31221929,  0.31221929,  0.31221929,  0.31221929,\n        0.31221929,  0.31221929,  0.31221929,  0.31221929,  0.75405469,\n        0.75405469,  0.75405469,  0.75405469,  0.75405469,  0.75405469,\n        0.75405469,  0.75405469,  0.75405469,  0.75405469,  0.75405469,\n        0.75405469,  0.75405469,  0.75405469,  0.75405469,  0.75405469,\n        0.75405469,  0.75405469,  0.75405469,  0.75405469, -0.19282011,\n       -0.19282011, -0.19282011, -0.19282011, -0.19282011, -0.19282011,\n       -0.19282011, -0.19282011, -0.19282011, -0.19282011, -0.19282011,\n       -0.19282011, -0.19282011, -0.19282011, -0.19282011, -0.19282011,\n       -0.19282011, -0.19282011, -0.19282011, -0.19282011, -0.19282011,\n       -0.19282011, -0.19282011, -0.19282011, -0.26529501, -0.26529501,\n       -0.26529501, -0.26529501, -0.26529501,  1.08778086,  1.08778086,\n       -0.31247075, -0.31247075, -0.32442911, -0.32442911, -0.34965155,\n       -0.34965155, -0.34965155, -0.34965155, -0.34965155, -0.34965155,\n       -0.34965155, -1.1591741 , -1.1591741 , -1.1591741 , -1.1591741 ,\n       -1.1591741 , -1.1591741 , -0.74635008, -0.74635008, -0.74635008,\n       -0.74635008, -0.74635008, -0.74635008, -0.74635008, -0.74635008,\n       -0.74635008, -0.74635008, -0.74635008, -0.74635008, -0.74635008,\n       -0.74635008, -0.74635008, -0.74635008, -0.74635008, -0.74635008,\n       -0.74635008, -0.74635008, -0.74635008, -0.74635008, -0.74635008,\n       -0.74635008, -0.74635008, -0.74635008, -0.74635008, -0.74635008,\n       -0.74635008, -0.74635008, -0.74635008, -0.74635008, -0.74635008,\n       -0.74635008, -0.74635008, -0.74635008, -0.74635008, -0.74635008,\n       -0.74635008, -0.74635008, -0.74635008, -0.74635008, -0.74635008,\n       -0.74635008, -0.74635008, -0.74635008, -0.74635008, -0.74635008,\n       -0.74635008, -0.74635008, -0.74635008, -0.74635008, -0.74635008,\n       -0.74635008, -0.74635008, -0.74635008, -0.74635008, -0.74635008,\n       -0.74635008, -0.74635008, -0.74635008, -0.74635008, -0.74635008,\n       -0.74635008, -0.74635008, -0.74635008, -0.74635008, -0.74635008,\n       -0.74635008, -0.74635008, -0.74635008, -0.74635008, -0.74635008,\n       -0.74635008, -0.74635008, -0.74635008, -0.74635008, -0.09257433,\n       -0.97171398, -0.97171398, -0.97171398, -0.97171398, -0.97171398,\n       -0.97171398, -0.97171398, -0.97171398, -0.97171398, -0.97171398,\n       -0.97171398, -0.97171398, -0.97171398, -0.97171398, -0.97171398,\n       -0.97171398, -0.97171398, -0.97171398, -0.97171398, -0.97171398,\n       -0.74746066, -0.74746066, -0.74746066, -0.74746066, -0.74746066,\n       -0.74746066, -0.74746066, -0.74746066, -0.74746066, -0.99622596,\n       -0.99622596, -0.99622596, -0.99622596, -0.99622596, -0.99622596,\n       -0.99622596, -0.99622596, -0.99622596, -0.99622596, -0.99622596,\n       -0.99622596, -0.99622596, -0.99622596, -0.99622596, -0.99622596,\n       -0.99622596, -0.99622596, -0.99622596, -0.99622596, -0.99622596,\n       -0.9732277 , -0.9732277 , -0.9732277 , -0.9732277 , -0.9732277 ,\n       -0.9732277 , -0.9732277 , -0.9732277 , -0.9732277 , -0.9732277 ])"
     },
     "execution_count": 71,
     "metadata": {},
     "output_type": "execute_result"
    }
   ],
   "source": [
    "y_5"
   ],
   "metadata": {
    "collapsed": false,
    "pycharm": {
     "name": "#%%\n"
    }
   }
  },
  {
   "cell_type": "code",
   "execution_count": 73,
   "outputs": [
    {
     "data": {
      "text/plain": "<Figure size 432x288 with 1 Axes>",
      "image/png": "[encoded data removed]"
     },
     "metadata": {
      "needs_background": "light"
     },
     "output_type": "display_data"
    }
   ],
   "source": [
    "plt.figure()\n",
    "plt.scatter(x,y\n",
    "            ,s = 20\n",
    "            ,edgecolors='black'\n",
    "            ,c = 'darkorange'\n",
    "            ,label = 'data'\n",
    "            )\n",
    "plt.plot(x_test,y_2,color = 'cornflowerblue',label='max_depth=2',linewidth = 2)\n",
    "plt.plot(x_test,y_3,label='max_depth=3',linewidth = 2)\n",
    "plt.plot(x_test,y_5,color = 'yellowgreen',label='max_depth=5',linewidth = 2)\n",
    "plt.xlabel('data')\n",
    "plt.ylabel('target')\n",
    "plt.title('Decision tree regression')\n",
    "plt.legend()\n",
    "plt.show()"
   ],
   "metadata": {
    "collapsed": false,
    "pycharm": {
     "name": "#%%\n"
    }
   }
  },
  {
   "cell_type": "markdown",
   "source": [
    "#泰坦尼克号数据"
   ],
   "metadata": {
    "collapsed": false
   }
  },
  {
   "cell_type": "code",
   "execution_count": 135,
   "outputs": [],
   "source": [
    "import pandas as pd\n",
    "from sklearn.tree import DecisionTreeClassifier\n",
    "import matplotlib.pyplot as plt\n",
    "from sklearn.model_selection import GridSearchCV\n",
    "from sklearn.model_selection import train_test_split"
   ],
   "metadata": {
    "collapsed": false,
    "pycharm": {
     "name": "#%%\n"
    }
   }
  },
  {
   "cell_type": "code",
   "execution_count": 113,
   "outputs": [],
   "source": [
    "data = pd.read_csv(r'F:\\Downloads\\datasets_80599_187274_train_clean.csv')"
   ],
   "metadata": {
    "collapsed": false,
    "pycharm": {
     "name": "#%%\n"
    }
   }
  },
  {
   "cell_type": "code",
   "execution_count": 114,
   "outputs": [
    {
     "data": {
      "text/plain": "      Age Cabin Embarked     Fare  \\\n0    22.0   NaN        S   7.2500   \n1    38.0   C85        C  71.2833   \n2    26.0   NaN        S   7.9250   \n3    35.0  C123        S  53.1000   \n4    35.0   NaN        S   8.0500   \n..    ...   ...      ...      ...   \n886  27.0   NaN        S  13.0000   \n887  19.0   B42        S  30.0000   \n888  22.0   NaN        S  23.4500   \n889  26.0  C148        C  30.0000   \n890  32.0   NaN        Q   7.7500   \n\n                                                  Name  Parch  PassengerId  \\\n0                              Braund, Mr. Owen Harris      0            1   \n1    Cumings, Mrs. John Bradley (Florence Briggs Th...      0            2   \n2                               Heikkinen, Miss. Laina      0            3   \n3         Futrelle, Mrs. Jacques Heath (Lily May Peel)      0            4   \n4                             Allen, Mr. William Henry      0            5   \n..                                                 ...    ...          ...   \n886                              Montvila, Rev. Juozas      0          887   \n887                       Graham, Miss. Margaret Edith      0          888   \n888           Johnston, Miss. Catherine Helen \"Carrie\"      2          889   \n889                              Behr, Mr. Karl Howell      0          890   \n890                                Dooley, Mr. Patrick      0          891   \n\n     Pclass     Sex  SibSp  Survived            Ticket Title  Family_Size  \n0         3    male      1       0.0         A/5 21171    Mr            1  \n1         1  female      1       1.0          PC 17599   Mrs            1  \n2         3  female      0       1.0  STON/O2. 3101282  Miss            0  \n3         1  female      1       1.0            113803   Mrs            1  \n4         3    male      0       0.0            373450    Mr            0  \n..      ...     ...    ...       ...               ...   ...          ...  \n886       2    male      0       0.0            211536   Rev            0  \n887       1  female      0       1.0            112053  Miss            0  \n888       3  female      1       0.0        W./C. 6607  Miss            3  \n889       1    male      0       1.0            111369    Mr            0  \n890       3    male      0       0.0            370376    Mr            0  \n\n[891 rows x 14 columns]",
      "text/html": "<div>\n<style scoped>\n    .dataframe tbody tr th:only-of-type {\n        vertical-align: middle;\n    }\n\n    .dataframe tbody tr th {\n        vertical-align: top;\n    }\n\n    .dataframe thead th {\n        text-align: right;\n    }\n</style>\n<table border=\"1\" class=\"dataframe\">\n  <thead>\n    <tr style=\"text-align: right;\">\n      <th></th>\n      <th>Age</th>\n      <th>Cabin</th>\n      <th>Embarked</th>\n      <th>Fare</th>\n      <th>Name</th>\n      <th>Parch</th>\n      <th>PassengerId</th>\n      <th>Pclass</th>\n      <th>Sex</th>\n      <th>SibSp</th>\n      <th>Survived</th>\n      <th>Ticket</th>\n      <th>Title</th>\n      <th>Family_Size</th>\n    </tr>\n  </thead>\n  <tbody>\n    <tr>\n      <th>0</th>\n      <td>22.0</td>\n      <td>NaN</td>\n      <td>S</td>\n      <td>7.2500</td>\n      <td>Braund, Mr. Owen Harris</td>\n      <td>0</td>\n      <td>1</td>\n      <td>3</td>\n      <td>male</td>\n      <td>1</td>\n      <td>0.0</td>\n      <td>A/5 21171</td>\n      <td>Mr</td>\n      <td>1</td>\n    </tr>\n    <tr>\n      <th>1</th>\n      <td>38.0</td>\n      <td>C85</td>\n      <td>C</td>\n      <td>71.2833</td>\n      <td>Cumings, Mrs. John Bradley (Florence Briggs Th...</td>\n      <td>0</td>\n      <td>2</td>\n      <td>1</td>\n      <td>female</td>\n      <td>1</td>\n      <td>1.0</td>\n      <td>PC 17599</td>\n      <td>Mrs</td>\n      <td>1</td>\n    </tr>\n    <tr>\n      <th>2</th>\n      <td>26.0</td>\n      <td>NaN</td>\n      <td>S</td>\n      <td>7.9250</td>\n      <td>Heikkinen, Miss. Laina</td>\n      <td>0</td>\n      <td>3</td>\n      <td>3</td>\n      <td>female</td>\n      <td>0</td>\n      <td>1.0</td>\n      <td>STON/O2. 3101282</td>\n      <td>Miss</td>\n      <td>0</td>\n    </tr>\n    <tr>\n      <th>3</th>\n      <td>35.0</td>\n      <td>C123</td>\n      <td>S</td>\n      <td>53.1000</td>\n      <td>Futrelle, Mrs. Jacques Heath (Lily May Peel)</td>\n      <td>0</td>\n      <td>4</td>\n      <td>1</td>\n      <td>female</td>\n      <td>1</td>\n      <td>1.0</td>\n      <td>113803</td>\n      <td>Mrs</td>\n      <td>1</td>\n    </tr>\n    <tr>\n      <th>4</th>\n      <td>35.0</td>\n      <td>NaN</td>\n      <td>S</td>\n      <td>8.0500</td>\n      <td>Allen, Mr. William Henry</td>\n      <td>0</td>\n      <td>5</td>\n      <td>3</td>\n      <td>male</td>\n      <td>0</td>\n      <td>0.0</td>\n      <td>373450</td>\n      <td>Mr</td>\n      <td>0</td>\n    </tr>\n    <tr>\n      <th>...</th>\n      <td>...</td>\n      <td>...</td>\n      <td>...</td>\n      <td>...</td>\n      <td>...</td>\n      <td>...</td>\n      <td>...</td>\n      <td>...</td>\n      <td>...</td>\n      <td>...</td>\n      <td>...</td>\n      <td>...</td>\n      <td>...</td>\n      <td>...</td>\n    </tr>\n    <tr>\n      <th>886</th>\n      <td>27.0</td>\n      <td>NaN</td>\n      <td>S</td>\n      <td>13.0000</td>\n      <td>Montvila, Rev. Juozas</td>\n      <td>0</td>\n      <td>887</td>\n      <td>2</td>\n      <td>male</td>\n      <td>0</td>\n      <td>0.0</td>\n      <td>211536</td>\n      <td>Rev</td>\n      <td>0</td>\n    </tr>\n    <tr>\n      <th>887</th>\n      <td>19.0</td>\n      <td>B42</td>\n      <td>S</td>\n      <td>30.0000</td>\n      <td>Graham, Miss. Margaret Edith</td>\n      <td>0</td>\n      <td>888</td>\n      <td>1</td>\n      <td>female</td>\n      <td>0</td>\n      <td>1.0</td>\n      <td>112053</td>\n      <td>Miss</td>\n      <td>0</td>\n    </tr>\n    <tr>\n      <th>888</th>\n      <td>22.0</td>\n      <td>NaN</td>\n      <td>S</td>\n      <td>23.4500</td>\n      <td>Johnston, Miss. Catherine Helen \"Carrie\"</td>\n      <td>2</td>\n      <td>889</td>\n      <td>3</td>\n      <td>female</td>\n      <td>1</td>\n      <td>0.0</td>\n      <td>W./C. 6607</td>\n      <td>Miss</td>\n      <td>3</td>\n    </tr>\n    <tr>\n      <th>889</th>\n      <td>26.0</td>\n      <td>C148</td>\n      <td>C</td>\n      <td>30.0000</td>\n      <td>Behr, Mr. Karl Howell</td>\n      <td>0</td>\n      <td>890</td>\n      <td>1</td>\n      <td>male</td>\n      <td>0</td>\n      <td>1.0</td>\n      <td>111369</td>\n      <td>Mr</td>\n      <td>0</td>\n    </tr>\n    <tr>\n      <th>890</th>\n      <td>32.0</td>\n      <td>NaN</td>\n      <td>Q</td>\n      <td>7.7500</td>\n      <td>Dooley, Mr. Patrick</td>\n      <td>0</td>\n      <td>891</td>\n      <td>3</td>\n      <td>male</td>\n      <td>0</td>\n      <td>0.0</td>\n      <td>370376</td>\n      <td>Mr</td>\n      <td>0</td>\n    </tr>\n  </tbody>\n</table>\n<p>891 rows × 14 columns</p>\n</div>"
     },
     "execution_count": 114,
     "metadata": {},
     "output_type": "execute_result"
    }
   ],
   "source": [
    "data"
   ],
   "metadata": {
    "collapsed": false,
    "pycharm": {
     "name": "#%%\n"
    }
   }
  },
  {
   "cell_type": "code",
   "execution_count": 115,
   "outputs": [
    {
     "name": "stdout",
     "output_type": "stream",
     "text": [
      "<class 'pandas.core.frame.DataFrame'>\n",
      "RangeIndex: 891 entries, 0 to 890\n",
      "Data columns (total 14 columns):\n",
      " #   Column       Non-Null Count  Dtype  \n",
      "---  ------       --------------  -----  \n",
      " 0   Age          891 non-null    float64\n",
      " 1   Cabin        204 non-null    object \n",
      " 2   Embarked     891 non-null    object \n",
      " 3   Fare         891 non-null    float64\n",
      " 4   Name         891 non-null    object \n",
      " 5   Parch        891 non-null    int64  \n",
      " 6   PassengerId  891 non-null    int64  \n",
      " 7   Pclass       891 non-null    int64  \n",
      " 8   Sex          891 non-null    object \n",
      " 9   SibSp        891 non-null    int64  \n",
      " 10  Survived     891 non-null    float64\n",
      " 11  Ticket       891 non-null    object \n",
      " 12  Title        891 non-null    object \n",
      " 13  Family_Size  891 non-null    int64  \n",
      "dtypes: float64(3), int64(5), object(6)\n",
      "memory usage: 97.6+ KB\n"
     ]
    }
   ],
   "source": [
    "data.info()"
   ],
   "metadata": {
    "collapsed": false,
    "pycharm": {
     "name": "#%%\n"
    }
   }
  },
  {
   "cell_type": "code",
   "execution_count": 116,
   "outputs": [
    {
     "data": {
      "text/plain": "    Age Cabin Embarked     Fare  \\\n0  22.0   NaN        S   7.2500   \n1  38.0   C85        C  71.2833   \n2  26.0   NaN        S   7.9250   \n3  35.0  C123        S  53.1000   \n4  35.0   NaN        S   8.0500   \n5  30.0   NaN        Q   8.4583   \n6  54.0   E46        S  51.8625   \n7   2.0   NaN        S  21.0750   \n8  27.0   NaN        S  11.1333   \n9  14.0   NaN        C  30.0708   \n\n                                                Name  Parch  PassengerId  \\\n0                            Braund, Mr. Owen Harris      0            1   \n1  Cumings, Mrs. John Bradley (Florence Briggs Th...      0            2   \n2                             Heikkinen, Miss. Laina      0            3   \n3       Futrelle, Mrs. Jacques Heath (Lily May Peel)      0            4   \n4                           Allen, Mr. William Henry      0            5   \n5                                   Moran, Mr. James      0            6   \n6                            McCarthy, Mr. Timothy J      0            7   \n7                     Palsson, Master. Gosta Leonard      1            8   \n8  Johnson, Mrs. Oscar W (Elisabeth Vilhelmina Berg)      2            9   \n9                Nasser, Mrs. Nicholas (Adele Achem)      0           10   \n\n   Pclass     Sex  SibSp  Survived            Ticket   Title  Family_Size  \n0       3    male      1       0.0         A/5 21171      Mr            1  \n1       1  female      1       1.0          PC 17599     Mrs            1  \n2       3  female      0       1.0  STON/O2. 3101282    Miss            0  \n3       1  female      1       1.0            113803     Mrs            1  \n4       3    male      0       0.0            373450      Mr            0  \n5       3    male      0       0.0            330877      Mr            0  \n6       1    male      0       0.0             17463      Mr            0  \n7       3    male      3       0.0            349909  Master            4  \n8       3  female      0       1.0            347742     Mrs            2  \n9       2  female      1       1.0            237736     Mrs            1  ",
      "text/html": "<div>\n<style scoped>\n    .dataframe tbody tr th:only-of-type {\n        vertical-align: middle;\n    }\n\n    .dataframe tbody tr th {\n        vertical-align: top;\n    }\n\n    .dataframe thead th {\n        text-align: right;\n    }\n</style>\n<table border=\"1\" class=\"dataframe\">\n  <thead>\n    <tr style=\"text-align: right;\">\n      <th></th>\n      <th>Age</th>\n      <th>Cabin</th>\n      <th>Embarked</th>\n      <th>Fare</th>\n      <th>Name</th>\n      <th>Parch</th>\n      <th>PassengerId</th>\n      <th>Pclass</th>\n      <th>Sex</th>\n      <th>SibSp</th>\n      <th>Survived</th>\n      <th>Ticket</th>\n      <th>Title</th>\n      <th>Family_Size</th>\n    </tr>\n  </thead>\n  <tbody>\n    <tr>\n      <th>0</th>\n      <td>22.0</td>\n      <td>NaN</td>\n      <td>S</td>\n      <td>7.2500</td>\n      <td>Braund, Mr. Owen Harris</td>\n      <td>0</td>\n      <td>1</td>\n      <td>3</td>\n      <td>male</td>\n      <td>1</td>\n      <td>0.0</td>\n      <td>A/5 21171</td>\n      <td>Mr</td>\n      <td>1</td>\n    </tr>\n    <tr>\n      <th>1</th>\n      <td>38.0</td>\n      <td>C85</td>\n      <td>C</td>\n      <td>71.2833</td>\n      <td>Cumings, Mrs. John Bradley (Florence Briggs Th...</td>\n      <td>0</td>\n      <td>2</td>\n      <td>1</td>\n      <td>female</td>\n      <td>1</td>\n      <td>1.0</td>\n      <td>PC 17599</td>\n      <td>Mrs</td>\n      <td>1</td>\n    </tr>\n    <tr>\n      <th>2</th>\n      <td>26.0</td>\n      <td>NaN</td>\n      <td>S</td>\n      <td>7.9250</td>\n      <td>Heikkinen, Miss. Laina</td>\n      <td>0</td>\n      <td>3</td>\n      <td>3</td>\n      <td>female</td>\n      <td>0</td>\n      <td>1.0</td>\n      <td>STON/O2. 3101282</td>\n      <td>Miss</td>\n      <td>0</td>\n    </tr>\n    <tr>\n      <th>3</th>\n      <td>35.0</td>\n      <td>C123</td>\n      <td>S</td>\n      <td>53.1000</td>\n      <td>Futrelle, Mrs. Jacques Heath (Lily May Peel)</td>\n      <td>0</td>\n      <td>4</td>\n      <td>1</td>\n      <td>female</td>\n      <td>1</td>\n      <td>1.0</td>\n      <td>113803</td>\n      <td>Mrs</td>\n      <td>1</td>\n    </tr>\n    <tr>\n      <th>4</th>\n      <td>35.0</td>\n      <td>NaN</td>\n      <td>S</td>\n      <td>8.0500</td>\n      <td>Allen, Mr. William Henry</td>\n      <td>0</td>\n      <td>5</td>\n      <td>3</td>\n      <td>male</td>\n      <td>0</td>\n      <td>0.0</td>\n      <td>373450</td>\n      <td>Mr</td>\n      <td>0</td>\n    </tr>\n    <tr>\n      <th>5</th>\n      <td>30.0</td>\n      <td>NaN</td>\n      <td>Q</td>\n      <td>8.4583</td>\n      <td>Moran, Mr. James</td>\n      <td>0</td>\n      <td>6</td>\n      <td>3</td>\n      <td>male</td>\n      <td>0</td>\n      <td>0.0</td>\n      <td>330877</td>\n      <td>Mr</td>\n      <td>0</td>\n    </tr>\n    <tr>\n      <th>6</th>\n      <td>54.0</td>\n      <td>E46</td>\n      <td>S</td>\n      <td>51.8625</td>\n      <td>McCarthy, Mr. Timothy J</td>\n      <td>0</td>\n      <td>7</td>\n      <td>1</td>\n      <td>male</td>\n      <td>0</td>\n      <td>0.0</td>\n      <td>17463</td>\n      <td>Mr</td>\n      <td>0</td>\n    </tr>\n    <tr>\n      <th>7</th>\n      <td>2.0</td>\n      <td>NaN</td>\n      <td>S</td>\n      <td>21.0750</td>\n      <td>Palsson, Master. Gosta Leonard</td>\n      <td>1</td>\n      <td>8</td>\n      <td>3</td>\n      <td>male</td>\n      <td>3</td>\n      <td>0.0</td>\n      <td>349909</td>\n      <td>Master</td>\n      <td>4</td>\n    </tr>\n    <tr>\n      <th>8</th>\n      <td>27.0</td>\n      <td>NaN</td>\n      <td>S</td>\n      <td>11.1333</td>\n      <td>Johnson, Mrs. Oscar W (Elisabeth Vilhelmina Berg)</td>\n      <td>2</td>\n      <td>9</td>\n      <td>3</td>\n      <td>female</td>\n      <td>0</td>\n      <td>1.0</td>\n      <td>347742</td>\n      <td>Mrs</td>\n      <td>2</td>\n    </tr>\n    <tr>\n      <th>9</th>\n      <td>14.0</td>\n      <td>NaN</td>\n      <td>C</td>\n      <td>30.0708</td>\n      <td>Nasser, Mrs. Nicholas (Adele Achem)</td>\n      <td>0</td>\n      <td>10</td>\n      <td>2</td>\n      <td>female</td>\n      <td>1</td>\n      <td>1.0</td>\n      <td>237736</td>\n      <td>Mrs</td>\n      <td>1</td>\n    </tr>\n  </tbody>\n</table>\n</div>"
     },
     "execution_count": 116,
     "metadata": {},
     "output_type": "execute_result"
    }
   ],
   "source": [
    "data.head(10)"
   ],
   "metadata": {
    "collapsed": false,
    "pycharm": {
     "name": "#%%\n"
    }
   }
  },
  {
   "cell_type": "markdown",
   "source": [
    "# 数据预处理"
   ],
   "metadata": {
    "collapsed": false,
    "pycharm": {
     "name": "#%% md\n"
    }
   }
  },
  {
   "cell_type": "code",
   "execution_count": 117,
   "outputs": [
    {
     "data": {
      "text/plain": "      Age Embarked     Fare  Parch  PassengerId  Pclass     Sex  SibSp  \\\n0    22.0        S   7.2500      0            1       3    male      1   \n1    38.0        C  71.2833      0            2       1  female      1   \n2    26.0        S   7.9250      0            3       3  female      0   \n3    35.0        S  53.1000      0            4       1  female      1   \n4    35.0        S   8.0500      0            5       3    male      0   \n..    ...      ...      ...    ...          ...     ...     ...    ...   \n886  27.0        S  13.0000      0          887       2    male      0   \n887  19.0        S  30.0000      0          888       1  female      0   \n888  22.0        S  23.4500      2          889       3  female      1   \n889  26.0        C  30.0000      0          890       1    male      0   \n890  32.0        Q   7.7500      0          891       3    male      0   \n\n     Survived Title  Family_Size  \n0         0.0    Mr            1  \n1         1.0   Mrs            1  \n2         1.0  Miss            0  \n3         1.0   Mrs            1  \n4         0.0    Mr            0  \n..        ...   ...          ...  \n886       0.0   Rev            0  \n887       1.0  Miss            0  \n888       0.0  Miss            3  \n889       1.0    Mr            0  \n890       0.0    Mr            0  \n\n[891 rows x 11 columns]",
      "text/html": "<div>\n<style scoped>\n    .dataframe tbody tr th:only-of-type {\n        vertical-align: middle;\n    }\n\n    .dataframe tbody tr th {\n        vertical-align: top;\n    }\n\n    .dataframe thead th {\n        text-align: right;\n    }\n</style>\n<table border=\"1\" class=\"dataframe\">\n  <thead>\n    <tr style=\"text-align: right;\">\n      <th></th>\n      <th>Age</th>\n      <th>Embarked</th>\n      <th>Fare</th>\n      <th>Parch</th>\n      <th>PassengerId</th>\n      <th>Pclass</th>\n      <th>Sex</th>\n      <th>SibSp</th>\n      <th>Survived</th>\n      <th>Title</th>\n      <th>Family_Size</th>\n    </tr>\n  </thead>\n  <tbody>\n    <tr>\n      <th>0</th>\n      <td>22.0</td>\n      <td>S</td>\n      <td>7.2500</td>\n      <td>0</td>\n      <td>1</td>\n      <td>3</td>\n      <td>male</td>\n      <td>1</td>\n      <td>0.0</td>\n      <td>Mr</td>\n      <td>1</td>\n    </tr>\n    <tr>\n      <th>1</th>\n      <td>38.0</td>\n      <td>C</td>\n      <td>71.2833</td>\n      <td>0</td>\n      <td>2</td>\n      <td>1</td>\n      <td>female</td>\n      <td>1</td>\n      <td>1.0</td>\n      <td>Mrs</td>\n      <td>1</td>\n    </tr>\n    <tr>\n      <th>2</th>\n      <td>26.0</td>\n      <td>S</td>\n      <td>7.9250</td>\n      <td>0</td>\n      <td>3</td>\n      <td>3</td>\n      <td>female</td>\n      <td>0</td>\n      <td>1.0</td>\n      <td>Miss</td>\n      <td>0</td>\n    </tr>\n    <tr>\n      <th>3</th>\n      <td>35.0</td>\n      <td>S</td>\n      <td>53.1000</td>\n      <td>0</td>\n      <td>4</td>\n      <td>1</td>\n      <td>female</td>\n      <td>1</td>\n      <td>1.0</td>\n      <td>Mrs</td>\n      <td>1</td>\n    </tr>\n    <tr>\n      <th>4</th>\n      <td>35.0</td>\n      <td>S</td>\n      <td>8.0500</td>\n      <td>0</td>\n      <td>5</td>\n      <td>3</td>\n      <td>male</td>\n      <td>0</td>\n      <td>0.0</td>\n      <td>Mr</td>\n      <td>0</td>\n    </tr>\n    <tr>\n      <th>...</th>\n      <td>...</td>\n      <td>...</td>\n      <td>...</td>\n      <td>...</td>\n      <td>...</td>\n      <td>...</td>\n      <td>...</td>\n      <td>...</td>\n      <td>...</td>\n      <td>...</td>\n      <td>...</td>\n    </tr>\n    <tr>\n      <th>886</th>\n      <td>27.0</td>\n      <td>S</td>\n      <td>13.0000</td>\n      <td>0</td>\n      <td>887</td>\n      <td>2</td>\n      <td>male</td>\n      <td>0</td>\n      <td>0.0</td>\n      <td>Rev</td>\n      <td>0</td>\n    </tr>\n    <tr>\n      <th>887</th>\n      <td>19.0</td>\n      <td>S</td>\n      <td>30.0000</td>\n      <td>0</td>\n      <td>888</td>\n      <td>1</td>\n      <td>female</td>\n      <td>0</td>\n      <td>1.0</td>\n      <td>Miss</td>\n      <td>0</td>\n    </tr>\n    <tr>\n      <th>888</th>\n      <td>22.0</td>\n      <td>S</td>\n      <td>23.4500</td>\n      <td>2</td>\n      <td>889</td>\n      <td>3</td>\n      <td>female</td>\n      <td>1</td>\n      <td>0.0</td>\n      <td>Miss</td>\n      <td>3</td>\n    </tr>\n    <tr>\n      <th>889</th>\n      <td>26.0</td>\n      <td>C</td>\n      <td>30.0000</td>\n      <td>0</td>\n      <td>890</td>\n      <td>1</td>\n      <td>male</td>\n      <td>0</td>\n      <td>1.0</td>\n      <td>Mr</td>\n      <td>0</td>\n    </tr>\n    <tr>\n      <th>890</th>\n      <td>32.0</td>\n      <td>Q</td>\n      <td>7.7500</td>\n      <td>0</td>\n      <td>891</td>\n      <td>3</td>\n      <td>male</td>\n      <td>0</td>\n      <td>0.0</td>\n      <td>Mr</td>\n      <td>0</td>\n    </tr>\n  </tbody>\n</table>\n<p>891 rows × 11 columns</p>\n</div>"
     },
     "execution_count": 117,
     "metadata": {},
     "output_type": "execute_result"
    }
   ],
   "source": [
    "#筛选特征\n",
    "data.drop(['Cabin','Name','Ticket'],inplace= True,axis = 1) #axis=1删除列\n",
    "data"
   ],
   "metadata": {
    "collapsed": false,
    "pycharm": {
     "name": "#%%\n"
    }
   }
  },
  {
   "cell_type": "code",
   "execution_count": 118,
   "outputs": [
    {
     "data": {
      "text/plain": "(891, 11)"
     },
     "execution_count": 118,
     "metadata": {},
     "output_type": "execute_result"
    }
   ],
   "source": [
    "data.shape"
   ],
   "metadata": {
    "collapsed": false,
    "pycharm": {
     "name": "#%%\n"
    }
   }
  },
  {
   "cell_type": "markdown",
   "source": [
    "#处理缺失值(均值填充)"
   ],
   "metadata": {
    "collapsed": false
   }
  },
  {
   "cell_type": "code",
   "execution_count": 119,
   "outputs": [],
   "source": [
    "data['Age'] = data['Age'].fillna(data['Age'].mean())\n",
    "data = data.dropna()"
   ],
   "metadata": {
    "collapsed": false,
    "pycharm": {
     "name": "#%%\n"
    }
   }
  },
  {
   "cell_type": "code",
   "execution_count": 120,
   "outputs": [
    {
     "name": "stdout",
     "output_type": "stream",
     "text": [
      "<class 'pandas.core.frame.DataFrame'>\n",
      "Int64Index: 891 entries, 0 to 890\n",
      "Data columns (total 11 columns):\n",
      " #   Column       Non-Null Count  Dtype  \n",
      "---  ------       --------------  -----  \n",
      " 0   Age          891 non-null    float64\n",
      " 1   Embarked     891 non-null    object \n",
      " 2   Fare         891 non-null    float64\n",
      " 3   Parch        891 non-null    int64  \n",
      " 4   PassengerId  891 non-null    int64  \n",
      " 5   Pclass       891 non-null    int64  \n",
      " 6   Sex          891 non-null    object \n",
      " 7   SibSp        891 non-null    int64  \n",
      " 8   Survived     891 non-null    float64\n",
      " 9   Title        891 non-null    object \n",
      " 10  Family_Size  891 non-null    int64  \n",
      "dtypes: float64(3), int64(5), object(3)\n",
      "memory usage: 83.5+ KB\n"
     ]
    }
   ],
   "source": [
    "data.info()"
   ],
   "metadata": {
    "collapsed": false,
    "pycharm": {
     "name": "#%%\n"
    }
   }
  },
  {
   "cell_type": "code",
   "execution_count": 121,
   "outputs": [
    {
     "data": {
      "text/plain": "    Age Embarked     Fare  Parch  PassengerId  Pclass     Sex  SibSp  \\\n0  22.0        S   7.2500      0            1       3    male      1   \n1  38.0        C  71.2833      0            2       1  female      1   \n2  26.0        S   7.9250      0            3       3  female      0   \n3  35.0        S  53.1000      0            4       1  female      1   \n4  35.0        S   8.0500      0            5       3    male      0   \n\n   Survived Title  Family_Size  \n0       0.0    Mr            1  \n1       1.0   Mrs            1  \n2       1.0  Miss            0  \n3       1.0   Mrs            1  \n4       0.0    Mr            0  ",
      "text/html": "<div>\n<style scoped>\n    .dataframe tbody tr th:only-of-type {\n        vertical-align: middle;\n    }\n\n    .dataframe tbody tr th {\n        vertical-align: top;\n    }\n\n    .dataframe thead th {\n        text-align: right;\n    }\n</style>\n<table border=\"1\" class=\"dataframe\">\n  <thead>\n    <tr style=\"text-align: right;\">\n      <th></th>\n      <th>Age</th>\n      <th>Embarked</th>\n      <th>Fare</th>\n      <th>Parch</th>\n      <th>PassengerId</th>\n      <th>Pclass</th>\n      <th>Sex</th>\n      <th>SibSp</th>\n      <th>Survived</th>\n      <th>Title</th>\n      <th>Family_Size</th>\n    </tr>\n  </thead>\n  <tbody>\n    <tr>\n      <th>0</th>\n      <td>22.0</td>\n      <td>S</td>\n      <td>7.2500</td>\n      <td>0</td>\n      <td>1</td>\n      <td>3</td>\n      <td>male</td>\n      <td>1</td>\n      <td>0.0</td>\n      <td>Mr</td>\n      <td>1</td>\n    </tr>\n    <tr>\n      <th>1</th>\n      <td>38.0</td>\n      <td>C</td>\n      <td>71.2833</td>\n      <td>0</td>\n      <td>2</td>\n      <td>1</td>\n      <td>female</td>\n      <td>1</td>\n      <td>1.0</td>\n      <td>Mrs</td>\n      <td>1</td>\n    </tr>\n    <tr>\n      <th>2</th>\n      <td>26.0</td>\n      <td>S</td>\n      <td>7.9250</td>\n      <td>0</td>\n      <td>3</td>\n      <td>3</td>\n      <td>female</td>\n      <td>0</td>\n      <td>1.0</td>\n      <td>Miss</td>\n      <td>0</td>\n    </tr>\n    <tr>\n      <th>3</th>\n      <td>35.0</td>\n      <td>S</td>\n      <td>53.1000</td>\n      <td>0</td>\n      <td>4</td>\n      <td>1</td>\n      <td>female</td>\n      <td>1</td>\n      <td>1.0</td>\n      <td>Mrs</td>\n      <td>1</td>\n    </tr>\n    <tr>\n      <th>4</th>\n      <td>35.0</td>\n      <td>S</td>\n      <td>8.0500</td>\n      <td>0</td>\n      <td>5</td>\n      <td>3</td>\n      <td>male</td>\n      <td>0</td>\n      <td>0.0</td>\n      <td>Mr</td>\n      <td>0</td>\n    </tr>\n  </tbody>\n</table>\n</div>"
     },
     "execution_count": 121,
     "metadata": {},
     "output_type": "execute_result"
    }
   ],
   "source": [
    "data.head()"
   ],
   "metadata": {
    "collapsed": false,
    "pycharm": {
     "name": "#%%\n"
    }
   }
  },
  {
   "cell_type": "code",
   "execution_count": 122,
   "outputs": [],
   "source": [
    "labels = data['Embarked'].unique().tolist()\n",
    "data['Embarked'] = data['Embarked'].apply(lambda x: labels.index(x))"
   ],
   "metadata": {
    "collapsed": false,
    "pycharm": {
     "name": "#%%\n"
    }
   }
  },
  {
   "cell_type": "code",
   "execution_count": 123,
   "outputs": [
    {
     "data": {
      "text/plain": "     Age  Embarked     Fare  Parch  PassengerId  Pclass     Sex  SibSp  \\\n0   22.0         0   7.2500      0            1       3    male      1   \n1   38.0         1  71.2833      0            2       1  female      1   \n2   26.0         0   7.9250      0            3       3  female      0   \n3   35.0         0  53.1000      0            4       1  female      1   \n4   35.0         0   8.0500      0            5       3    male      0   \n..   ...       ...      ...    ...          ...     ...     ...    ...   \n95  30.0         0   8.0500      0           96       3    male      0   \n96  71.0         1  34.6542      0           97       1    male      0   \n97  23.0         1  63.3583      1           98       1    male      0   \n98  34.0         0  23.0000      1           99       2  female      0   \n99  34.0         0  26.0000      0          100       2    male      1   \n\n    Survived Title  Family_Size  \n0        0.0    Mr            1  \n1        1.0   Mrs            1  \n2        1.0  Miss            0  \n3        1.0   Mrs            1  \n4        0.0    Mr            0  \n..       ...   ...          ...  \n95       0.0    Mr            0  \n96       0.0    Mr            0  \n97       1.0    Mr            1  \n98       1.0   Mrs            1  \n99       0.0    Mr            1  \n\n[100 rows x 11 columns]",
      "text/html": "<div>\n<style scoped>\n    .dataframe tbody tr th:only-of-type {\n        vertical-align: middle;\n    }\n\n    .dataframe tbody tr th {\n        vertical-align: top;\n    }\n\n    .dataframe thead th {\n        text-align: right;\n    }\n</style>\n<table border=\"1\" class=\"dataframe\">\n  <thead>\n    <tr style=\"text-align: right;\">\n      <th></th>\n      <th>Age</th>\n      <th>Embarked</th>\n      <th>Fare</th>\n      <th>Parch</th>\n      <th>PassengerId</th>\n      <th>Pclass</th>\n      <th>Sex</th>\n      <th>SibSp</th>\n      <th>Survived</th>\n      <th>Title</th>\n      <th>Family_Size</th>\n    </tr>\n  </thead>\n  <tbody>\n    <tr>\n      <th>0</th>\n      <td>22.0</td>\n      <td>0</td>\n      <td>7.2500</td>\n      <td>0</td>\n      <td>1</td>\n      <td>3</td>\n      <td>male</td>\n      <td>1</td>\n      <td>0.0</td>\n      <td>Mr</td>\n      <td>1</td>\n    </tr>\n    <tr>\n      <th>1</th>\n      <td>38.0</td>\n      <td>1</td>\n      <td>71.2833</td>\n      <td>0</td>\n      <td>2</td>\n      <td>1</td>\n      <td>female</td>\n      <td>1</td>\n      <td>1.0</td>\n      <td>Mrs</td>\n      <td>1</td>\n    </tr>\n    <tr>\n      <th>2</th>\n      <td>26.0</td>\n      <td>0</td>\n      <td>7.9250</td>\n      <td>0</td>\n      <td>3</td>\n      <td>3</td>\n      <td>female</td>\n      <td>0</td>\n      <td>1.0</td>\n      <td>Miss</td>\n      <td>0</td>\n    </tr>\n    <tr>\n      <th>3</th>\n      <td>35.0</td>\n      <td>0</td>\n      <td>53.1000</td>\n      <td>0</td>\n      <td>4</td>\n      <td>1</td>\n      <td>female</td>\n      <td>1</td>\n      <td>1.0</td>\n      <td>Mrs</td>\n      <td>1</td>\n    </tr>\n    <tr>\n      <th>4</th>\n      <td>35.0</td>\n      <td>0</td>\n      <td>8.0500</td>\n      <td>0</td>\n      <td>5</td>\n      <td>3</td>\n      <td>male</td>\n      <td>0</td>\n      <td>0.0</td>\n      <td>Mr</td>\n      <td>0</td>\n    </tr>\n    <tr>\n      <th>...</th>\n      <td>...</td>\n      <td>...</td>\n      <td>...</td>\n      <td>...</td>\n      <td>...</td>\n      <td>...</td>\n      <td>...</td>\n      <td>...</td>\n      <td>...</td>\n      <td>...</td>\n      <td>...</td>\n    </tr>\n    <tr>\n      <th>95</th>\n      <td>30.0</td>\n      <td>0</td>\n      <td>8.0500</td>\n      <td>0</td>\n      <td>96</td>\n      <td>3</td>\n      <td>male</td>\n      <td>0</td>\n      <td>0.0</td>\n      <td>Mr</td>\n      <td>0</td>\n    </tr>\n    <tr>\n      <th>96</th>\n      <td>71.0</td>\n      <td>1</td>\n      <td>34.6542</td>\n      <td>0</td>\n      <td>97</td>\n      <td>1</td>\n      <td>male</td>\n      <td>0</td>\n      <td>0.0</td>\n      <td>Mr</td>\n      <td>0</td>\n    </tr>\n    <tr>\n      <th>97</th>\n      <td>23.0</td>\n      <td>1</td>\n      <td>63.3583</td>\n      <td>1</td>\n      <td>98</td>\n      <td>1</td>\n      <td>male</td>\n      <td>0</td>\n      <td>1.0</td>\n      <td>Mr</td>\n      <td>1</td>\n    </tr>\n    <tr>\n      <th>98</th>\n      <td>34.0</td>\n      <td>0</td>\n      <td>23.0000</td>\n      <td>1</td>\n      <td>99</td>\n      <td>2</td>\n      <td>female</td>\n      <td>0</td>\n      <td>1.0</td>\n      <td>Mrs</td>\n      <td>1</td>\n    </tr>\n    <tr>\n      <th>99</th>\n      <td>34.0</td>\n      <td>0</td>\n      <td>26.0000</td>\n      <td>0</td>\n      <td>100</td>\n      <td>2</td>\n      <td>male</td>\n      <td>1</td>\n      <td>0.0</td>\n      <td>Mr</td>\n      <td>1</td>\n    </tr>\n  </tbody>\n</table>\n<p>100 rows × 11 columns</p>\n</div>"
     },
     "execution_count": 123,
     "metadata": {},
     "output_type": "execute_result"
    }
   ],
   "source": [
    "data.head(100)"
   ],
   "metadata": {
    "collapsed": false,
    "pycharm": {
     "name": "#%%\n"
    }
   }
  },
  {
   "cell_type": "code",
   "execution_count": 124,
   "outputs": [
    {
     "data": {
      "text/plain": "['S', 'C', 'Q']"
     },
     "execution_count": 124,
     "metadata": {},
     "output_type": "execute_result"
    }
   ],
   "source": [
    "labels"
   ],
   "metadata": {
    "collapsed": false,
    "pycharm": {
     "name": "#%%\n"
    }
   }
  },
  {
   "cell_type": "code",
   "source": [
    "a = data.loc[:,'Sex'] == 'male'\n",
    "a"
   ],
   "metadata": {
    "collapsed": false,
    "pycharm": {
     "name": "#%%\n"
    }
   },
   "execution_count": 125,
   "outputs": [
    {
     "data": {
      "text/plain": "0       True\n1      False\n2      False\n3      False\n4       True\n       ...  \n886     True\n887    False\n888    False\n889     True\n890     True\nName: Sex, Length: 891, dtype: bool"
     },
     "execution_count": 125,
     "metadata": {},
     "output_type": "execute_result"
    }
   ]
  },
  {
   "cell_type": "code",
   "execution_count": 126,
   "outputs": [
    {
     "data": {
      "text/plain": "0      1\n1      0\n2      0\n3      0\n4      1\n      ..\n886    1\n887    0\n888    0\n889    1\n890    1\nName: Sex, Length: 891, dtype: int32"
     },
     "execution_count": 126,
     "metadata": {},
     "output_type": "execute_result"
    }
   ],
   "source": [
    "data.loc[:,'Sex'] = (data.loc[:,'Sex'] == 'male').astype('int')\n",
    "data.loc[:,'Sex']"
   ],
   "metadata": {
    "collapsed": false,
    "pycharm": {
     "name": "#%%\n"
    }
   }
  },
  {
   "cell_type": "code",
   "execution_count": 128,
   "outputs": [
    {
     "data": {
      "text/plain": "    Age  Embarked     Fare  Parch  PassengerId  Pclass  Sex  SibSp  Survived  \\\n0  22.0         0   7.2500      0            1       3    1      1       0.0   \n1  38.0         1  71.2833      0            2       1    0      1       1.0   \n2  26.0         0   7.9250      0            3       3    0      0       1.0   \n3  35.0         0  53.1000      0            4       1    0      1       1.0   \n4  35.0         0   8.0500      0            5       3    1      0       0.0   \n\n  Title  Family_Size  \n0    Mr            1  \n1   Mrs            1  \n2  Miss            0  \n3   Mrs            1  \n4    Mr            0  ",
      "text/html": "<div>\n<style scoped>\n    .dataframe tbody tr th:only-of-type {\n        vertical-align: middle;\n    }\n\n    .dataframe tbody tr th {\n        vertical-align: top;\n    }\n\n    .dataframe thead th {\n        text-align: right;\n    }\n</style>\n<table border=\"1\" class=\"dataframe\">\n  <thead>\n    <tr style=\"text-align: right;\">\n      <th></th>\n      <th>Age</th>\n      <th>Embarked</th>\n      <th>Fare</th>\n      <th>Parch</th>\n      <th>PassengerId</th>\n      <th>Pclass</th>\n      <th>Sex</th>\n      <th>SibSp</th>\n      <th>Survived</th>\n      <th>Title</th>\n      <th>Family_Size</th>\n    </tr>\n  </thead>\n  <tbody>\n    <tr>\n      <th>0</th>\n      <td>22.0</td>\n      <td>0</td>\n      <td>7.2500</td>\n      <td>0</td>\n      <td>1</td>\n      <td>3</td>\n      <td>1</td>\n      <td>1</td>\n      <td>0.0</td>\n      <td>Mr</td>\n      <td>1</td>\n    </tr>\n    <tr>\n      <th>1</th>\n      <td>38.0</td>\n      <td>1</td>\n      <td>71.2833</td>\n      <td>0</td>\n      <td>2</td>\n      <td>1</td>\n      <td>0</td>\n      <td>1</td>\n      <td>1.0</td>\n      <td>Mrs</td>\n      <td>1</td>\n    </tr>\n    <tr>\n      <th>2</th>\n      <td>26.0</td>\n      <td>0</td>\n      <td>7.9250</td>\n      <td>0</td>\n      <td>3</td>\n      <td>3</td>\n      <td>0</td>\n      <td>0</td>\n      <td>1.0</td>\n      <td>Miss</td>\n      <td>0</td>\n    </tr>\n    <tr>\n      <th>3</th>\n      <td>35.0</td>\n      <td>0</td>\n      <td>53.1000</td>\n      <td>0</td>\n      <td>4</td>\n      <td>1</td>\n      <td>0</td>\n      <td>1</td>\n      <td>1.0</td>\n      <td>Mrs</td>\n      <td>1</td>\n    </tr>\n    <tr>\n      <th>4</th>\n      <td>35.0</td>\n      <td>0</td>\n      <td>8.0500</td>\n      <td>0</td>\n      <td>5</td>\n      <td>3</td>\n      <td>1</td>\n      <td>0</td>\n      <td>0.0</td>\n      <td>Mr</td>\n      <td>0</td>\n    </tr>\n  </tbody>\n</table>\n</div>"
     },
     "execution_count": 128,
     "metadata": {},
     "output_type": "execute_result"
    }
   ],
   "source": [
    "data.head()"
   ],
   "metadata": {
    "collapsed": false,
    "pycharm": {
     "name": "#%%\n"
    }
   }
  },
  {
   "cell_type": "code",
   "execution_count": 132,
   "outputs": [],
   "source": [
    "data = data.drop(['Title'],axis=1)"
   ],
   "metadata": {
    "collapsed": false,
    "pycharm": {
     "name": "#%%\n"
    }
   }
  },
  {
   "cell_type": "markdown",
   "source": [],
   "metadata": {
    "collapsed": false
   }
  },
  {
   "cell_type": "code",
   "execution_count": 133,
   "outputs": [
    {
     "data": {
      "text/plain": "      Age  Embarked     Fare  Parch  PassengerId  Pclass  Sex  SibSp  \\\n0    22.0         0   7.2500      0            1       3    1      1   \n1    38.0         1  71.2833      0            2       1    0      1   \n2    26.0         0   7.9250      0            3       3    0      0   \n3    35.0         0  53.1000      0            4       1    0      1   \n4    35.0         0   8.0500      0            5       3    1      0   \n..    ...       ...      ...    ...          ...     ...  ...    ...   \n886  27.0         0  13.0000      0          887       2    1      0   \n887  19.0         0  30.0000      0          888       1    0      0   \n888  22.0         0  23.4500      2          889       3    0      1   \n889  26.0         1  30.0000      0          890       1    1      0   \n890  32.0         2   7.7500      0          891       3    1      0   \n\n     Family_Size  \n0              1  \n1              1  \n2              0  \n3              1  \n4              0  \n..           ...  \n886            0  \n887            0  \n888            3  \n889            0  \n890            0  \n\n[891 rows x 9 columns]",
      "text/html": "<div>\n<style scoped>\n    .dataframe tbody tr th:only-of-type {\n        vertical-align: middle;\n    }\n\n    .dataframe tbody tr th {\n        vertical-align: top;\n    }\n\n    .dataframe thead th {\n        text-align: right;\n    }\n</style>\n<table border=\"1\" class=\"dataframe\">\n  <thead>\n    <tr style=\"text-align: right;\">\n      <th></th>\n      <th>Age</th>\n      <th>Embarked</th>\n      <th>Fare</th>\n      <th>Parch</th>\n      <th>PassengerId</th>\n      <th>Pclass</th>\n      <th>Sex</th>\n      <th>SibSp</th>\n      <th>Family_Size</th>\n    </tr>\n  </thead>\n  <tbody>\n    <tr>\n      <th>0</th>\n      <td>22.0</td>\n      <td>0</td>\n      <td>7.2500</td>\n      <td>0</td>\n      <td>1</td>\n      <td>3</td>\n      <td>1</td>\n      <td>1</td>\n      <td>1</td>\n    </tr>\n    <tr>\n      <th>1</th>\n      <td>38.0</td>\n      <td>1</td>\n      <td>71.2833</td>\n      <td>0</td>\n      <td>2</td>\n      <td>1</td>\n      <td>0</td>\n      <td>1</td>\n      <td>1</td>\n    </tr>\n    <tr>\n      <th>2</th>\n      <td>26.0</td>\n      <td>0</td>\n      <td>7.9250</td>\n      <td>0</td>\n      <td>3</td>\n      <td>3</td>\n      <td>0</td>\n      <td>0</td>\n      <td>0</td>\n    </tr>\n    <tr>\n      <th>3</th>\n      <td>35.0</td>\n      <td>0</td>\n      <td>53.1000</td>\n      <td>0</td>\n      <td>4</td>\n      <td>1</td>\n      <td>0</td>\n      <td>1</td>\n      <td>1</td>\n    </tr>\n    <tr>\n      <th>4</th>\n      <td>35.0</td>\n      <td>0</td>\n      <td>8.0500</td>\n      <td>0</td>\n      <td>5</td>\n      <td>3</td>\n      <td>1</td>\n      <td>0</td>\n      <td>0</td>\n    </tr>\n    <tr>\n      <th>...</th>\n      <td>...</td>\n      <td>...</td>\n      <td>...</td>\n      <td>...</td>\n      <td>...</td>\n      <td>...</td>\n      <td>...</td>\n      <td>...</td>\n      <td>...</td>\n    </tr>\n    <tr>\n      <th>886</th>\n      <td>27.0</td>\n      <td>0</td>\n      <td>13.0000</td>\n      <td>0</td>\n      <td>887</td>\n      <td>2</td>\n      <td>1</td>\n      <td>0</td>\n      <td>0</td>\n    </tr>\n    <tr>\n      <th>887</th>\n      <td>19.0</td>\n      <td>0</td>\n      <td>30.0000</td>\n      <td>0</td>\n      <td>888</td>\n      <td>1</td>\n      <td>0</td>\n      <td>0</td>\n      <td>0</td>\n    </tr>\n    <tr>\n      <th>888</th>\n      <td>22.0</td>\n      <td>0</td>\n      <td>23.4500</td>\n      <td>2</td>\n      <td>889</td>\n      <td>3</td>\n      <td>0</td>\n      <td>1</td>\n      <td>3</td>\n    </tr>\n    <tr>\n      <th>889</th>\n      <td>26.0</td>\n      <td>1</td>\n      <td>30.0000</td>\n      <td>0</td>\n      <td>890</td>\n      <td>1</td>\n      <td>1</td>\n      <td>0</td>\n      <td>0</td>\n    </tr>\n    <tr>\n      <th>890</th>\n      <td>32.0</td>\n      <td>2</td>\n      <td>7.7500</td>\n      <td>0</td>\n      <td>891</td>\n      <td>3</td>\n      <td>1</td>\n      <td>0</td>\n      <td>0</td>\n    </tr>\n  </tbody>\n</table>\n<p>891 rows × 9 columns</p>\n</div>"
     },
     "execution_count": 133,
     "metadata": {},
     "output_type": "execute_result"
    }
   ],
   "source": [
    "x = data.iloc[:,data.columns != 'Survived']\n",
    "x"
   ],
   "metadata": {
    "collapsed": false,
    "pycharm": {
     "name": "#%%\n"
    }
   }
  },
  {
   "cell_type": "code",
   "execution_count": 134,
   "outputs": [
    {
     "data": {
      "text/plain": "     Survived\n0         0.0\n1         1.0\n2         1.0\n3         1.0\n4         0.0\n..        ...\n886       0.0\n887       1.0\n888       0.0\n889       1.0\n890       0.0\n\n[891 rows x 1 columns]",
      "text/html": "<div>\n<style scoped>\n    .dataframe tbody tr th:only-of-type {\n        vertical-align: middle;\n    }\n\n    .dataframe tbody tr th {\n        vertical-align: top;\n    }\n\n    .dataframe thead th {\n        text-align: right;\n    }\n</style>\n<table border=\"1\" class=\"dataframe\">\n  <thead>\n    <tr style=\"text-align: right;\">\n      <th></th>\n      <th>Survived</th>\n    </tr>\n  </thead>\n  <tbody>\n    <tr>\n      <th>0</th>\n      <td>0.0</td>\n    </tr>\n    <tr>\n      <th>1</th>\n      <td>1.0</td>\n    </tr>\n    <tr>\n      <th>2</th>\n      <td>1.0</td>\n    </tr>\n    <tr>\n      <th>3</th>\n      <td>1.0</td>\n    </tr>\n    <tr>\n      <th>4</th>\n      <td>0.0</td>\n    </tr>\n    <tr>\n      <th>...</th>\n      <td>...</td>\n    </tr>\n    <tr>\n      <th>886</th>\n      <td>0.0</td>\n    </tr>\n    <tr>\n      <th>887</th>\n      <td>1.0</td>\n    </tr>\n    <tr>\n      <th>888</th>\n      <td>0.0</td>\n    </tr>\n    <tr>\n      <th>889</th>\n      <td>1.0</td>\n    </tr>\n    <tr>\n      <th>890</th>\n      <td>0.0</td>\n    </tr>\n  </tbody>\n</table>\n<p>891 rows × 1 columns</p>\n</div>"
     },
     "execution_count": 134,
     "metadata": {},
     "output_type": "execute_result"
    }
   ],
   "source": [
    "y = data.iloc[:,data.columns == 'Survived']\n",
    "y"
   ],
   "metadata": {
    "collapsed": false,
    "pycharm": {
     "name": "#%%\n"
    }
   }
  },
  {
   "cell_type": "code",
   "execution_count": 137,
   "outputs": [],
   "source": [
    "Xtrain,Xtest,Ytrain,Ytest = train_test_split(x,y)"
   ],
   "metadata": {
    "collapsed": false,
    "pycharm": {
     "name": "#%%\n"
    }
   }
  },
  {
   "cell_type": "code",
   "execution_count": 140,
   "outputs": [
    {
     "data": {
      "text/plain": "668"
     },
     "execution_count": 140,
     "metadata": {},
     "output_type": "execute_result"
    }
   ],
   "source": [
    "Xtrain.shape[0]"
   ],
   "metadata": {
    "collapsed": false,
    "pycharm": {
     "name": "#%%\n"
    }
   }
  },
  {
   "cell_type": "code",
   "execution_count": 141,
   "outputs": [],
   "source": [
    "for i in [Xtrain,Xtest,Ytrain,Ytest ]:\n",
    "    i.index = range(i.shape[0])"
   ],
   "metadata": {
    "collapsed": false,
    "pycharm": {
     "name": "#%%\n"
    }
   }
  },
  {
   "cell_type": "code",
   "execution_count": 142,
   "outputs": [
    {
     "data": {
      "text/plain": "      Age  Embarked      Fare  Parch  PassengerId  Pclass  Sex  SibSp  \\\n0    31.0         0    7.7750      0          806       3    1      0   \n1    40.0         0    7.8958      0          562       3    1      0   \n2    28.0         0   14.4000      1          424       3    0      1   \n3    32.0         0   15.8500      0          207       3    1      1   \n4    31.0         1  113.2750      0          216       1    0      1   \n..    ...       ...       ...    ...          ...     ...  ...    ...   \n663  45.0         0   83.4750      0           63       1    1      1   \n664  22.0         2    7.7375      0          728       3    0      0   \n665  19.0         0    8.0500      0          284       3    1      0   \n666  20.0         1   15.7417      1          623       3    1      1   \n667   4.0         0   16.7000      1           11       3    0      1   \n\n     Family_Size  \n0              0  \n1              0  \n2              2  \n3              1  \n4              1  \n..           ...  \n663            1  \n664            0  \n665            0  \n666            2  \n667            2  \n\n[668 rows x 9 columns]",
      "text/html": "<div>\n<style scoped>\n    .dataframe tbody tr th:only-of-type {\n        vertical-align: middle;\n    }\n\n    .dataframe tbody tr th {\n        vertical-align: top;\n    }\n\n    .dataframe thead th {\n        text-align: right;\n    }\n</style>\n<table border=\"1\" class=\"dataframe\">\n  <thead>\n    <tr style=\"text-align: right;\">\n      <th></th>\n      <th>Age</th>\n      <th>Embarked</th>\n      <th>Fare</th>\n      <th>Parch</th>\n      <th>PassengerId</th>\n      <th>Pclass</th>\n      <th>Sex</th>\n      <th>SibSp</th>\n      <th>Family_Size</th>\n    </tr>\n  </thead>\n  <tbody>\n    <tr>\n      <th>0</th>\n      <td>31.0</td>\n      <td>0</td>\n      <td>7.7750</td>\n      <td>0</td>\n      <td>806</td>\n      <td>3</td>\n      <td>1</td>\n      <td>0</td>\n      <td>0</td>\n    </tr>\n    <tr>\n      <th>1</th>\n      <td>40.0</td>\n      <td>0</td>\n      <td>7.8958</td>\n      <td>0</td>\n      <td>562</td>\n      <td>3</td>\n      <td>1</td>\n      <td>0</td>\n      <td>0</td>\n    </tr>\n    <tr>\n      <th>2</th>\n      <td>28.0</td>\n      <td>0</td>\n      <td>14.4000</td>\n      <td>1</td>\n      <td>424</td>\n      <td>3</td>\n      <td>0</td>\n      <td>1</td>\n      <td>2</td>\n    </tr>\n    <tr>\n      <th>3</th>\n      <td>32.0</td>\n      <td>0</td>\n      <td>15.8500</td>\n      <td>0</td>\n      <td>207</td>\n      <td>3</td>\n      <td>1</td>\n      <td>1</td>\n      <td>1</td>\n    </tr>\n    <tr>\n      <th>4</th>\n      <td>31.0</td>\n      <td>1</td>\n      <td>113.2750</td>\n      <td>0</td>\n      <td>216</td>\n      <td>1</td>\n      <td>0</td>\n      <td>1</td>\n      <td>1</td>\n    </tr>\n    <tr>\n      <th>...</th>\n      <td>...</td>\n      <td>...</td>\n      <td>...</td>\n      <td>...</td>\n      <td>...</td>\n      <td>...</td>\n      <td>...</td>\n      <td>...</td>\n      <td>...</td>\n    </tr>\n    <tr>\n      <th>663</th>\n      <td>45.0</td>\n      <td>0</td>\n      <td>83.4750</td>\n      <td>0</td>\n      <td>63</td>\n      <td>1</td>\n      <td>1</td>\n      <td>1</td>\n      <td>1</td>\n    </tr>\n    <tr>\n      <th>664</th>\n      <td>22.0</td>\n      <td>2</td>\n      <td>7.7375</td>\n      <td>0</td>\n      <td>728</td>\n      <td>3</td>\n      <td>0</td>\n      <td>0</td>\n      <td>0</td>\n    </tr>\n    <tr>\n      <th>665</th>\n      <td>19.0</td>\n      <td>0</td>\n      <td>8.0500</td>\n      <td>0</td>\n      <td>284</td>\n      <td>3</td>\n      <td>1</td>\n      <td>0</td>\n      <td>0</td>\n    </tr>\n    <tr>\n      <th>666</th>\n      <td>20.0</td>\n      <td>1</td>\n      <td>15.7417</td>\n      <td>1</td>\n      <td>623</td>\n      <td>3</td>\n      <td>1</td>\n      <td>1</td>\n      <td>2</td>\n    </tr>\n    <tr>\n      <th>667</th>\n      <td>4.0</td>\n      <td>0</td>\n      <td>16.7000</td>\n      <td>1</td>\n      <td>11</td>\n      <td>3</td>\n      <td>0</td>\n      <td>1</td>\n      <td>2</td>\n    </tr>\n  </tbody>\n</table>\n<p>668 rows × 9 columns</p>\n</div>"
     },
     "execution_count": 142,
     "metadata": {},
     "output_type": "execute_result"
    }
   ],
   "source": [
    "Xtrain"
   ],
   "metadata": {
    "collapsed": false,
    "pycharm": {
     "name": "#%%\n"
    }
   }
  },
  {
   "cell_type": "code",
   "execution_count": 147,
   "outputs": [
    {
     "data": {
      "text/plain": "0.7757847533632287"
     },
     "execution_count": 147,
     "metadata": {},
     "output_type": "execute_result"
    }
   ],
   "source": [
    "clf = DecisionTreeClassifier(random_state=2)\n",
    "clf = clf.fit(Xtrain,Ytrain)\n",
    "score = clf.score(Xtest,Ytest)\n",
    "score"
   ],
   "metadata": {
    "collapsed": false,
    "pycharm": {
     "name": "#%%\n"
    }
   }
  },
  {
   "cell_type": "code",
   "execution_count": 149,
   "outputs": [
    {
     "data": {
      "text/plain": "0.7474781523096129"
     },
     "execution_count": 149,
     "metadata": {},
     "output_type": "execute_result"
    }
   ],
   "source": [
    "clf = DecisionTreeClassifier(random_state=2)\n",
    "clf = clf.fit(Xtrain,Ytrain)\n",
    "score = cross_val_score(clf,x,y,cv=10).mean()\n",
    "score"
   ],
   "metadata": {
    "collapsed": false,
    "pycharm": {
     "name": "#%%\n"
    }
   }
  },
  {
   "cell_type": "code",
   "execution_count": 158,
   "outputs": [
    {
     "name": "stdout",
     "output_type": "stream",
     "text": [
      "0.938622754491018\n",
      "0.8204244694132333\n"
     ]
    },
    {
     "data": {
      "text/plain": "<Figure size 432x288 with 1 Axes>",
      "image/png": "[encoded data removed]"
     },
     "metadata": {
      "needs_background": "light"
     },
     "output_type": "display_data"
    }
   ],
   "source": [
    "tr = []\n",
    "te = []\n",
    "for i in range(10):\n",
    "    clf = DecisionTreeClassifier(random_state=2\n",
    "                                 ,max_depth=i+1\n",
    "                                 # ,criterion='entropy'\n",
    "                                 )\n",
    "    clf = clf.fit(Xtrain,Ytrain)\n",
    "    score_tr = clf.score(Xtrain,Ytrain)\n",
    "    score_te = cross_val_score(clf,x,y,cv = 10).mean()\n",
    "    tr.append(score_tr)\n",
    "    te.append(score_te)\n",
    "print(max(tr))\n",
    "print(max(te))\n",
    "plt.plot(range(1,11),tr,label = 'train')\n",
    "plt.plot(range(1,11),te,label = 'test')\n",
    "plt.xticks(range(1,11))#x轴1-10的整数\n",
    "plt.legend()\n",
    "plt.show()"
   ],
   "metadata": {
    "collapsed": false,
    "pycharm": {
     "name": "#%%\n"
    }
   }
  },
  {
   "cell_type": "code",
   "execution_count": 160,
   "outputs": [],
   "source": [
    "#网格搜索 多参数调整/枚举技术,无法舍弃参数"
   ],
   "metadata": {
    "collapsed": false,
    "pycharm": {
     "name": "#%%\n"
    }
   }
  },
  {
   "cell_type": "code",
   "execution_count": 162,
   "outputs": [],
   "source": [
    "import numpy as np\n",
    "gini_threholds = np.linspace(0,0.5,50) #0-0.5,取50个有顺序的数 等差数列 entroy 0,1,50\n",
    "\n",
    "parameters = {'criterion':('gini','entropy')\n",
    "              ,'splitter':('best','random')\n",
    "              ,'max_depth':[*range(1,10)]\n",
    "              ,'min_samples_leaf':[*range(1,50,5)]\n",
    "              ,'min_impurity_decrease':[*np.linspace(0,0.5,50)]}  #信息增益的最小值,小于此值便不再分支\n",
    "clf = DecisionTreeClassifier(random_state=2)\n",
    "GS =  GridSearchCV(clf,parameters,cv=10)\n",
    "GS = GS.fit(Xtrain,Ytrain)\n"
   ],
   "metadata": {
    "collapsed": false,
    "pycharm": {
     "name": "#%%\n"
    }
   }
  },
  {
   "cell_type": "code",
   "execution_count": 163,
   "outputs": [
    {
     "data": {
      "text/plain": "{'criterion': 'entropy',\n 'max_depth': 3,\n 'min_impurity_decrease': 0.0,\n 'min_samples_leaf': 1,\n 'splitter': 'best'}"
     },
     "execution_count": 163,
     "metadata": {},
     "output_type": "execute_result"
    }
   ],
   "source": [
    "GS.best_params_ # 找出最好的参数,返回最佳组合"
   ],
   "metadata": {
    "collapsed": false,
    "pycharm": {
     "name": "#%%\n"
    }
   }
  },
  {
   "cell_type": "code",
   "execution_count": 164,
   "outputs": [
    {
     "data": {
      "text/plain": "0.827928539122569"
     },
     "execution_count": 164,
     "metadata": {},
     "output_type": "execute_result"
    }
   ],
   "source": [
    "GS.best_score_ # 网格搜索后的模型的评判标准"
   ],
   "metadata": {
    "collapsed": false,
    "pycharm": {
     "name": "#%%\n"
    }
   }
  },
  {
   "cell_type": "code",
   "execution_count": null,
   "outputs": [],
   "source": [],
   "metadata": {
    "collapsed": false,
    "pycharm": {
     "name": "#%%\n"
    }
   }
  }
 ],
 "metadata": {
  "kernelspec": {
   "display_name": "Python 3",
   "language": "python",
   "name": "python3"
  },
  "language_info": {
   "codemirror_mode": {
    "name": "ipython",
    "version": 2
   },
   "file_extension": ".py",
   "mimetype": "text/x-python",
   "name": "python",
   "nbconvert_exporter": "python",
   "pygments_lexer": "ipython2",
   "version": "2.7.6"
  }
 },
 "nbformat": 4,
 "nbformat_minor": 0
}