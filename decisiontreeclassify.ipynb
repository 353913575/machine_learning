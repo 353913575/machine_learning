{
 "cells": [
  {
   "cell_type": "code",
   "execution_count": 1,
   "metadata": {
    "collapsed": true
   },
   "outputs": [],
   "source": [
    "#sklearn建模流程\n",
    "#实例化，建立评估模型对象   通过模型接口训练模型   通过模型接口提取所需要的信息\n",
    "#criterion 计算不纯度的计算方法 “entropy信息熵” “Gini” 子节点不纯度一定低于父节点"
   ]
  },
  {
   "cell_type": "code",
   "execution_count": 1,
   "outputs": [],
   "source": [],
   "metadata": {
    "collapsed": false,
    "pycharm": {
     "name": "#%%\n"
    }
   }
  },
  {
   "cell_type": "markdown",
   "source": [
    "构建决策树实例"
   ],
   "metadata": {
    "collapsed": false
   }
  },
  {
   "cell_type": "code",
   "execution_count": 2,
   "outputs": [],
   "source": [
    "#导入算法模块\n",
    "from sklearn import tree\n",
    "from  sklearn.datasets import  load_wine\n",
    "from sklearn.model_selection import train_test_split"
   ],
   "metadata": {
    "collapsed": false,
    "pycharm": {
     "name": "#%%\n"
    }
   }
  },
  {
   "cell_type": "code",
   "execution_count": 3,
   "outputs": [
    {
     "data": {
      "text/plain": "{'data': array([[1.423e+01, 1.710e+00, 2.430e+00, ..., 1.040e+00, 3.920e+00,\n         1.065e+03],\n        [1.320e+01, 1.780e+00, 2.140e+00, ..., 1.050e+00, 3.400e+00,\n         1.050e+03],\n        [1.316e+01, 2.360e+00, 2.670e+00, ..., 1.030e+00, 3.170e+00,\n         1.185e+03],\n        ...,\n        [1.327e+01, 4.280e+00, 2.260e+00, ..., 5.900e-01, 1.560e+00,\n         8.350e+02],\n        [1.317e+01, 2.590e+00, 2.370e+00, ..., 6.000e-01, 1.620e+00,\n         8.400e+02],\n        [1.413e+01, 4.100e+00, 2.740e+00, ..., 6.100e-01, 1.600e+00,\n         5.600e+02]]),\n 'target': array([0, 0, 0, 0, 0, 0, 0, 0, 0, 0, 0, 0, 0, 0, 0, 0, 0, 0, 0, 0, 0, 0,\n        0, 0, 0, 0, 0, 0, 0, 0, 0, 0, 0, 0, 0, 0, 0, 0, 0, 0, 0, 0, 0, 0,\n        0, 0, 0, 0, 0, 0, 0, 0, 0, 0, 0, 0, 0, 0, 0, 1, 1, 1, 1, 1, 1, 1,\n        1, 1, 1, 1, 1, 1, 1, 1, 1, 1, 1, 1, 1, 1, 1, 1, 1, 1, 1, 1, 1, 1,\n        1, 1, 1, 1, 1, 1, 1, 1, 1, 1, 1, 1, 1, 1, 1, 1, 1, 1, 1, 1, 1, 1,\n        1, 1, 1, 1, 1, 1, 1, 1, 1, 1, 1, 1, 1, 1, 1, 1, 1, 1, 1, 1, 2, 2,\n        2, 2, 2, 2, 2, 2, 2, 2, 2, 2, 2, 2, 2, 2, 2, 2, 2, 2, 2, 2, 2, 2,\n        2, 2, 2, 2, 2, 2, 2, 2, 2, 2, 2, 2, 2, 2, 2, 2, 2, 2, 2, 2, 2, 2,\n        2, 2]),\n 'frame': None,\n 'target_names': array(['class_0', 'class_1', 'class_2'], dtype='<U7'),\n 'DESCR': '.. _wine_dataset:\\n\\nWine recognition dataset\\n------------------------\\n\\n**Data Set Characteristics:**\\n\\n    :Number of Instances: 178 (50 in each of three classes)\\n    :Number of Attributes: 13 numeric, predictive attributes and the class\\n    :Attribute Information:\\n \\t\\t- Alcohol\\n \\t\\t- Malic acid\\n \\t\\t- Ash\\n\\t\\t- Alcalinity of ash  \\n \\t\\t- Magnesium\\n\\t\\t- Total phenols\\n \\t\\t- Flavanoids\\n \\t\\t- Nonflavanoid phenols\\n \\t\\t- Proanthocyanins\\n\\t\\t- Color intensity\\n \\t\\t- Hue\\n \\t\\t- OD280/OD315 of diluted wines\\n \\t\\t- Proline\\n\\n    - class:\\n            - class_0\\n            - class_1\\n            - class_2\\n\\t\\t\\n    :Summary Statistics:\\n    \\n    ============================= ==== ===== ======= =====\\n                                   Min   Max   Mean     SD\\n    ============================= ==== ===== ======= =====\\n    Alcohol:                      11.0  14.8    13.0   0.8\\n    Malic Acid:                   0.74  5.80    2.34  1.12\\n    Ash:                          1.36  3.23    2.36  0.27\\n    Alcalinity of Ash:            10.6  30.0    19.5   3.3\\n    Magnesium:                    70.0 162.0    99.7  14.3\\n    Total Phenols:                0.98  3.88    2.29  0.63\\n    Flavanoids:                   0.34  5.08    2.03  1.00\\n    Nonflavanoid Phenols:         0.13  0.66    0.36  0.12\\n    Proanthocyanins:              0.41  3.58    1.59  0.57\\n    Colour Intensity:              1.3  13.0     5.1   2.3\\n    Hue:                          0.48  1.71    0.96  0.23\\n    OD280/OD315 of diluted wines: 1.27  4.00    2.61  0.71\\n    Proline:                       278  1680     746   315\\n    ============================= ==== ===== ======= =====\\n\\n    :Missing Attribute Values: None\\n    :Class Distribution: class_0 (59), class_1 (71), class_2 (48)\\n    :Creator: R.A. Fisher\\n    :Donor: Michael Marshall (MARSHALL%PLU@io.arc.nasa.gov)\\n    :Date: July, 1988\\n\\nThis is a copy of UCI ML Wine recognition datasets.\\nhttps://archive.ics.uci.edu/ml/machine-learning-databases/wine/wine.data\\n\\nThe data is the results of a chemical analysis of wines grown in the same\\nregion in Italy by three different cultivators. There are thirteen different\\nmeasurements taken for different constituents found in the three types of\\nwine.\\n\\nOriginal Owners: \\n\\nForina, M. et al, PARVUS - \\nAn Extendible Package for Data Exploration, Classification and Correlation. \\nInstitute of Pharmaceutical and Food Analysis and Technologies,\\nVia Brigata Salerno, 16147 Genoa, Italy.\\n\\nCitation:\\n\\nLichman, M. (2013). UCI Machine Learning Repository\\n[https://archive.ics.uci.edu/ml]. Irvine, CA: University of California,\\nSchool of Information and Computer Science. \\n\\n.. topic:: References\\n\\n  (1) S. Aeberhard, D. Coomans and O. de Vel, \\n  Comparison of Classifiers in High Dimensional Settings, \\n  Tech. Rep. no. 92-02, (1992), Dept. of Computer Science and Dept. of  \\n  Mathematics and Statistics, James Cook University of North Queensland. \\n  (Also submitted to Technometrics). \\n\\n  The data was used with many others for comparing various \\n  classifiers. The classes are separable, though only RDA \\n  has achieved 100% correct classification. \\n  (RDA : 100%, QDA 99.4%, LDA 98.9%, 1NN 96.1% (z-transformed data)) \\n  (All results using the leave-one-out technique) \\n\\n  (2) S. Aeberhard, D. Coomans and O. de Vel, \\n  \"THE CLASSIFICATION PERFORMANCE OF RDA\" \\n  Tech. Rep. no. 92-01, (1992), Dept. of Computer Science and Dept. of \\n  Mathematics and Statistics, James Cook University of North Queensland. \\n  (Also submitted to Journal of Chemometrics).\\n',\n 'feature_names': ['alcohol',\n  'malic_acid',\n  'ash',\n  'alcalinity_of_ash',\n  'magnesium',\n  'total_phenols',\n  'flavanoids',\n  'nonflavanoid_phenols',\n  'proanthocyanins',\n  'color_intensity',\n  'hue',\n  'od280/od315_of_diluted_wines',\n  'proline']}"
     },
     "execution_count": 3,
     "metadata": {},
     "output_type": "execute_result"
    }
   ],
   "source": [
    "wine = load_wine()\n",
    "wine"
   ],
   "metadata": {
    "collapsed": false,
    "pycharm": {
     "name": "#%%\n"
    }
   }
  },
  {
   "cell_type": "code",
   "execution_count": 4,
   "outputs": [
    {
     "data": {
      "text/plain": "array([[1.423e+01, 1.710e+00, 2.430e+00, ..., 1.040e+00, 3.920e+00,\n        1.065e+03],\n       [1.320e+01, 1.780e+00, 2.140e+00, ..., 1.050e+00, 3.400e+00,\n        1.050e+03],\n       [1.316e+01, 2.360e+00, 2.670e+00, ..., 1.030e+00, 3.170e+00,\n        1.185e+03],\n       ...,\n       [1.327e+01, 4.280e+00, 2.260e+00, ..., 5.900e-01, 1.560e+00,\n        8.350e+02],\n       [1.317e+01, 2.590e+00, 2.370e+00, ..., 6.000e-01, 1.620e+00,\n        8.400e+02],\n       [1.413e+01, 4.100e+00, 2.740e+00, ..., 6.100e-01, 1.600e+00,\n        5.600e+02]])"
     },
     "execution_count": 4,
     "metadata": {},
     "output_type": "execute_result"
    }
   ],
   "source": [
    "wine.data"
   ],
   "metadata": {
    "collapsed": false,
    "pycharm": {
     "name": "#%%\n"
    }
   }
  },
  {
   "cell_type": "code",
   "execution_count": 5,
   "outputs": [
    {
     "data": {
      "text/plain": "array([0, 0, 0, 0, 0, 0, 0, 0, 0, 0, 0, 0, 0, 0, 0, 0, 0, 0, 0, 0, 0, 0,\n       0, 0, 0, 0, 0, 0, 0, 0, 0, 0, 0, 0, 0, 0, 0, 0, 0, 0, 0, 0, 0, 0,\n       0, 0, 0, 0, 0, 0, 0, 0, 0, 0, 0, 0, 0, 0, 0, 1, 1, 1, 1, 1, 1, 1,\n       1, 1, 1, 1, 1, 1, 1, 1, 1, 1, 1, 1, 1, 1, 1, 1, 1, 1, 1, 1, 1, 1,\n       1, 1, 1, 1, 1, 1, 1, 1, 1, 1, 1, 1, 1, 1, 1, 1, 1, 1, 1, 1, 1, 1,\n       1, 1, 1, 1, 1, 1, 1, 1, 1, 1, 1, 1, 1, 1, 1, 1, 1, 1, 1, 1, 2, 2,\n       2, 2, 2, 2, 2, 2, 2, 2, 2, 2, 2, 2, 2, 2, 2, 2, 2, 2, 2, 2, 2, 2,\n       2, 2, 2, 2, 2, 2, 2, 2, 2, 2, 2, 2, 2, 2, 2, 2, 2, 2, 2, 2, 2, 2,\n       2, 2])"
     },
     "execution_count": 5,
     "metadata": {},
     "output_type": "execute_result"
    }
   ],
   "source": [
    "wine.target"
   ],
   "metadata": {
    "collapsed": false,
    "pycharm": {
     "name": "#%%\n"
    }
   }
  },
  {
   "cell_type": "code",
   "execution_count": 6,
   "outputs": [
    {
     "data": {
      "text/plain": "(178, 13)"
     },
     "execution_count": 6,
     "metadata": {},
     "output_type": "execute_result"
    }
   ],
   "source": [
    "wine.data.shape"
   ],
   "metadata": {
    "collapsed": false,
    "pycharm": {
     "name": "#%%\n"
    }
   }
  },
  {
   "cell_type": "code",
   "execution_count": 7,
   "outputs": [
    {
     "data": {
      "text/plain": "        0     1     2     3      4     5     6     7     8      9     10  \\\n0    14.23  1.71  2.43  15.6  127.0  2.80  3.06  0.28  2.29   5.64  1.04   \n1    13.20  1.78  2.14  11.2  100.0  2.65  2.76  0.26  1.28   4.38  1.05   \n2    13.16  2.36  2.67  18.6  101.0  2.80  3.24  0.30  2.81   5.68  1.03   \n3    14.37  1.95  2.50  16.8  113.0  3.85  3.49  0.24  2.18   7.80  0.86   \n4    13.24  2.59  2.87  21.0  118.0  2.80  2.69  0.39  1.82   4.32  1.04   \n..     ...   ...   ...   ...    ...   ...   ...   ...   ...    ...   ...   \n173  13.71  5.65  2.45  20.5   95.0  1.68  0.61  0.52  1.06   7.70  0.64   \n174  13.40  3.91  2.48  23.0  102.0  1.80  0.75  0.43  1.41   7.30  0.70   \n175  13.27  4.28  2.26  20.0  120.0  1.59  0.69  0.43  1.35  10.20  0.59   \n176  13.17  2.59  2.37  20.0  120.0  1.65  0.68  0.53  1.46   9.30  0.60   \n177  14.13  4.10  2.74  24.5   96.0  2.05  0.76  0.56  1.35   9.20  0.61   \n\n       11      12  0   \n0    3.92  1065.0   0  \n1    3.40  1050.0   0  \n2    3.17  1185.0   0  \n3    3.45  1480.0   0  \n4    2.93   735.0   0  \n..    ...     ...  ..  \n173  1.74   740.0   2  \n174  1.56   750.0   2  \n175  1.56   835.0   2  \n176  1.62   840.0   2  \n177  1.60   560.0   2  \n\n[178 rows x 14 columns]",
      "text/html": "<div>\n<style scoped>\n    .dataframe tbody tr th:only-of-type {\n        vertical-align: middle;\n    }\n\n    .dataframe tbody tr th {\n        vertical-align: top;\n    }\n\n    .dataframe thead th {\n        text-align: right;\n    }\n</style>\n<table border=\"1\" class=\"dataframe\">\n  <thead>\n    <tr style=\"text-align: right;\">\n      <th></th>\n      <th>0</th>\n      <th>1</th>\n      <th>2</th>\n      <th>3</th>\n      <th>4</th>\n      <th>5</th>\n      <th>6</th>\n      <th>7</th>\n      <th>8</th>\n      <th>9</th>\n      <th>10</th>\n      <th>11</th>\n      <th>12</th>\n      <th>0</th>\n    </tr>\n  </thead>\n  <tbody>\n    <tr>\n      <th>0</th>\n      <td>14.23</td>\n      <td>1.71</td>\n      <td>2.43</td>\n      <td>15.6</td>\n      <td>127.0</td>\n      <td>2.80</td>\n      <td>3.06</td>\n      <td>0.28</td>\n      <td>2.29</td>\n      <td>5.64</td>\n      <td>1.04</td>\n      <td>3.92</td>\n      <td>1065.0</td>\n      <td>0</td>\n    </tr>\n    <tr>\n      <th>1</th>\n      <td>13.20</td>\n      <td>1.78</td>\n      <td>2.14</td>\n      <td>11.2</td>\n      <td>100.0</td>\n      <td>2.65</td>\n      <td>2.76</td>\n      <td>0.26</td>\n      <td>1.28</td>\n      <td>4.38</td>\n      <td>1.05</td>\n      <td>3.40</td>\n      <td>1050.0</td>\n      <td>0</td>\n    </tr>\n    <tr>\n      <th>2</th>\n      <td>13.16</td>\n      <td>2.36</td>\n      <td>2.67</td>\n      <td>18.6</td>\n      <td>101.0</td>\n      <td>2.80</td>\n      <td>3.24</td>\n      <td>0.30</td>\n      <td>2.81</td>\n      <td>5.68</td>\n      <td>1.03</td>\n      <td>3.17</td>\n      <td>1185.0</td>\n      <td>0</td>\n    </tr>\n    <tr>\n      <th>3</th>\n      <td>14.37</td>\n      <td>1.95</td>\n      <td>2.50</td>\n      <td>16.8</td>\n      <td>113.0</td>\n      <td>3.85</td>\n      <td>3.49</td>\n      <td>0.24</td>\n      <td>2.18</td>\n      <td>7.80</td>\n      <td>0.86</td>\n      <td>3.45</td>\n      <td>1480.0</td>\n      <td>0</td>\n    </tr>\n    <tr>\n      <th>4</th>\n      <td>13.24</td>\n      <td>2.59</td>\n      <td>2.87</td>\n      <td>21.0</td>\n      <td>118.0</td>\n      <td>2.80</td>\n      <td>2.69</td>\n      <td>0.39</td>\n      <td>1.82</td>\n      <td>4.32</td>\n      <td>1.04</td>\n      <td>2.93</td>\n      <td>735.0</td>\n      <td>0</td>\n    </tr>\n    <tr>\n      <th>...</th>\n      <td>...</td>\n      <td>...</td>\n      <td>...</td>\n      <td>...</td>\n      <td>...</td>\n      <td>...</td>\n      <td>...</td>\n      <td>...</td>\n      <td>...</td>\n      <td>...</td>\n      <td>...</td>\n      <td>...</td>\n      <td>...</td>\n      <td>...</td>\n    </tr>\n    <tr>\n      <th>173</th>\n      <td>13.71</td>\n      <td>5.65</td>\n      <td>2.45</td>\n      <td>20.5</td>\n      <td>95.0</td>\n      <td>1.68</td>\n      <td>0.61</td>\n      <td>0.52</td>\n      <td>1.06</td>\n      <td>7.70</td>\n      <td>0.64</td>\n      <td>1.74</td>\n      <td>740.0</td>\n      <td>2</td>\n    </tr>\n    <tr>\n      <th>174</th>\n      <td>13.40</td>\n      <td>3.91</td>\n      <td>2.48</td>\n      <td>23.0</td>\n      <td>102.0</td>\n      <td>1.80</td>\n      <td>0.75</td>\n      <td>0.43</td>\n      <td>1.41</td>\n      <td>7.30</td>\n      <td>0.70</td>\n      <td>1.56</td>\n      <td>750.0</td>\n      <td>2</td>\n    </tr>\n    <tr>\n      <th>175</th>\n      <td>13.27</td>\n      <td>4.28</td>\n      <td>2.26</td>\n      <td>20.0</td>\n      <td>120.0</td>\n      <td>1.59</td>\n      <td>0.69</td>\n      <td>0.43</td>\n      <td>1.35</td>\n      <td>10.20</td>\n      <td>0.59</td>\n      <td>1.56</td>\n      <td>835.0</td>\n      <td>2</td>\n    </tr>\n    <tr>\n      <th>176</th>\n      <td>13.17</td>\n      <td>2.59</td>\n      <td>2.37</td>\n      <td>20.0</td>\n      <td>120.0</td>\n      <td>1.65</td>\n      <td>0.68</td>\n      <td>0.53</td>\n      <td>1.46</td>\n      <td>9.30</td>\n      <td>0.60</td>\n      <td>1.62</td>\n      <td>840.0</td>\n      <td>2</td>\n    </tr>\n    <tr>\n      <th>177</th>\n      <td>14.13</td>\n      <td>4.10</td>\n      <td>2.74</td>\n      <td>24.5</td>\n      <td>96.0</td>\n      <td>2.05</td>\n      <td>0.76</td>\n      <td>0.56</td>\n      <td>1.35</td>\n      <td>9.20</td>\n      <td>0.61</td>\n      <td>1.60</td>\n      <td>560.0</td>\n      <td>2</td>\n    </tr>\n  </tbody>\n</table>\n<p>178 rows × 14 columns</p>\n</div>"
     },
     "execution_count": 7,
     "metadata": {},
     "output_type": "execute_result"
    }
   ],
   "source": [
    "import pandas as pd\n",
    "pd.concat([pd.DataFrame(wine.data),pd.DataFrame(wine.target)],axis=1)  #pd.concat"
   ],
   "metadata": {
    "collapsed": false,
    "pycharm": {
     "name": "#%%\n"
    }
   }
  },
  {
   "cell_type": "code",
   "execution_count": 8,
   "outputs": [
    {
     "data": {
      "text/plain": "['alcohol',\n 'malic_acid',\n 'ash',\n 'alcalinity_of_ash',\n 'magnesium',\n 'total_phenols',\n 'flavanoids',\n 'nonflavanoid_phenols',\n 'proanthocyanins',\n 'color_intensity',\n 'hue',\n 'od280/od315_of_diluted_wines',\n 'proline']"
     },
     "execution_count": 8,
     "metadata": {},
     "output_type": "execute_result"
    }
   ],
   "source": [
    "wine.feature_names #feature_names"
   ],
   "metadata": {
    "collapsed": false,
    "pycharm": {
     "name": "#%%\n"
    }
   }
  },
  {
   "cell_type": "code",
   "execution_count": 9,
   "outputs": [
    {
     "data": {
      "text/plain": "array(['class_0', 'class_1', 'class_2'], dtype='<U7')"
     },
     "execution_count": 9,
     "metadata": {},
     "output_type": "execute_result"
    }
   ],
   "source": [
    "wine.target_names"
   ],
   "metadata": {
    "collapsed": false,
    "pycharm": {
     "name": "#%%\n"
    }
   }
  },
  {
   "cell_type": "code",
   "execution_count": 10,
   "outputs": [],
   "source": [
    "Xtrain , Xtest , Ytrain , Ytest  = train_test_split(wine.data,wine.target,test_size=0.3)"
   ],
   "metadata": {
    "collapsed": false,
    "pycharm": {
     "name": "#%%\n"
    }
   }
  },
  {
   "cell_type": "code",
   "execution_count": 11,
   "outputs": [
    {
     "data": {
      "text/plain": "array([[1.413e+01, 4.100e+00, 2.740e+00, ..., 6.100e-01, 1.600e+00,\n        5.600e+02],\n       [1.237e+01, 1.070e+00, 2.100e+00, ..., 1.040e+00, 2.770e+00,\n        6.600e+02],\n       [1.229e+01, 1.410e+00, 1.980e+00, ..., 1.230e+00, 2.740e+00,\n        4.280e+02],\n       ...,\n       [1.423e+01, 1.710e+00, 2.430e+00, ..., 1.040e+00, 3.920e+00,\n        1.065e+03],\n       [1.362e+01, 4.950e+00, 2.350e+00, ..., 9.100e-01, 2.050e+00,\n        5.500e+02],\n       [1.281e+01, 2.310e+00, 2.400e+00, ..., 6.600e-01, 1.360e+00,\n        5.600e+02]])"
     },
     "execution_count": 11,
     "metadata": {},
     "output_type": "execute_result"
    }
   ],
   "source": [
    "Xtrain"
   ],
   "metadata": {
    "collapsed": false,
    "pycharm": {
     "name": "#%%\n"
    }
   }
  },
  {
   "cell_type": "code",
   "execution_count": 12,
   "outputs": [
    {
     "data": {
      "text/plain": "array([[1.340000e+01, 3.910000e+00, 2.480000e+00, 2.300000e+01,\n        1.020000e+02, 1.800000e+00, 7.500000e-01, 4.300000e-01,\n        1.410000e+00, 7.300000e+00, 7.000000e-01, 1.560000e+00,\n        7.500000e+02],\n       [1.187000e+01, 4.310000e+00, 2.390000e+00, 2.100000e+01,\n        8.200000e+01, 2.860000e+00, 3.030000e+00, 2.100000e-01,\n        2.910000e+00, 2.800000e+00, 7.500000e-01, 3.640000e+00,\n        3.800000e+02],\n       [1.324000e+01, 2.590000e+00, 2.870000e+00, 2.100000e+01,\n        1.180000e+02, 2.800000e+00, 2.690000e+00, 3.900000e-01,\n        1.820000e+00, 4.320000e+00, 1.040000e+00, 2.930000e+00,\n        7.350000e+02],\n       [1.270000e+01, 3.550000e+00, 2.360000e+00, 2.150000e+01,\n        1.060000e+02, 1.700000e+00, 1.200000e+00, 1.700000e-01,\n        8.400000e-01, 5.000000e+00, 7.800000e-01, 1.290000e+00,\n        6.000000e+02],\n       [1.388000e+01, 1.890000e+00, 2.590000e+00, 1.500000e+01,\n        1.010000e+02, 3.250000e+00, 3.560000e+00, 1.700000e-01,\n        1.700000e+00, 5.430000e+00, 8.800000e-01, 3.560000e+00,\n        1.095000e+03],\n       [1.222000e+01, 1.290000e+00, 1.940000e+00, 1.900000e+01,\n        9.200000e+01, 2.360000e+00, 2.040000e+00, 3.900000e-01,\n        2.080000e+00, 2.700000e+00, 8.600000e-01, 3.020000e+00,\n        3.120000e+02],\n       [1.317000e+01, 2.590000e+00, 2.370000e+00, 2.000000e+01,\n        1.200000e+02, 1.650000e+00, 6.800000e-01, 5.300000e-01,\n        1.460000e+00, 9.300000e+00, 6.000000e-01, 1.620000e+00,\n        8.400000e+02],\n       [1.394000e+01, 1.730000e+00, 2.270000e+00, 1.740000e+01,\n        1.080000e+02, 2.880000e+00, 3.540000e+00, 3.200000e-01,\n        2.080000e+00, 8.900000e+00, 1.120000e+00, 3.100000e+00,\n        1.260000e+03],\n       [1.217000e+01, 1.450000e+00, 2.530000e+00, 1.900000e+01,\n        1.040000e+02, 1.890000e+00, 1.750000e+00, 4.500000e-01,\n        1.030000e+00, 2.950000e+00, 1.450000e+00, 2.230000e+00,\n        3.550000e+02],\n       [1.208000e+01, 2.080000e+00, 1.700000e+00, 1.750000e+01,\n        9.700000e+01, 2.230000e+00, 2.170000e+00, 2.600000e-01,\n        1.400000e+00, 3.300000e+00, 1.270000e+00, 2.960000e+00,\n        7.100000e+02],\n       [1.284000e+01, 2.960000e+00, 2.610000e+00, 2.400000e+01,\n        1.010000e+02, 2.320000e+00, 6.000000e-01, 5.300000e-01,\n        8.100000e-01, 4.920000e+00, 8.900000e-01, 2.150000e+00,\n        5.900000e+02],\n       [1.233000e+01, 9.900000e-01, 1.950000e+00, 1.480000e+01,\n        1.360000e+02, 1.900000e+00, 1.850000e+00, 3.500000e-01,\n        2.760000e+00, 3.400000e+00, 1.060000e+00, 2.310000e+00,\n        7.500000e+02],\n       [1.311000e+01, 1.010000e+00, 1.700000e+00, 1.500000e+01,\n        7.800000e+01, 2.980000e+00, 3.180000e+00, 2.600000e-01,\n        2.280000e+00, 5.300000e+00, 1.120000e+00, 3.180000e+00,\n        5.020000e+02],\n       [1.364000e+01, 3.100000e+00, 2.560000e+00, 1.520000e+01,\n        1.160000e+02, 2.700000e+00, 3.030000e+00, 1.700000e-01,\n        1.660000e+00, 5.100000e+00, 9.600000e-01, 3.360000e+00,\n        8.450000e+02],\n       [1.277000e+01, 2.390000e+00, 2.280000e+00, 1.950000e+01,\n        8.600000e+01, 1.390000e+00, 5.100000e-01, 4.800000e-01,\n        6.400000e-01, 9.899999e+00, 5.700000e-01, 1.630000e+00,\n        4.700000e+02],\n       [1.258000e+01, 1.290000e+00, 2.100000e+00, 2.000000e+01,\n        1.030000e+02, 1.480000e+00, 5.800000e-01, 5.300000e-01,\n        1.400000e+00, 7.600000e+00, 5.800000e-01, 1.550000e+00,\n        6.400000e+02],\n       [1.299000e+01, 1.670000e+00, 2.600000e+00, 3.000000e+01,\n        1.390000e+02, 3.300000e+00, 2.890000e+00, 2.100000e-01,\n        1.960000e+00, 3.350000e+00, 1.310000e+00, 3.500000e+00,\n        9.850000e+02],\n       [1.247000e+01, 1.520000e+00, 2.200000e+00, 1.900000e+01,\n        1.620000e+02, 2.500000e+00, 2.270000e+00, 3.200000e-01,\n        3.280000e+00, 2.600000e+00, 1.160000e+00, 2.630000e+00,\n        9.370000e+02],\n       [1.406000e+01, 2.150000e+00, 2.610000e+00, 1.760000e+01,\n        1.210000e+02, 2.600000e+00, 2.510000e+00, 3.100000e-01,\n        1.250000e+00, 5.050000e+00, 1.060000e+00, 3.580000e+00,\n        1.295000e+03],\n       [1.386000e+01, 1.510000e+00, 2.670000e+00, 2.500000e+01,\n        8.600000e+01, 2.950000e+00, 2.860000e+00, 2.100000e-01,\n        1.870000e+00, 3.380000e+00, 1.360000e+00, 3.160000e+00,\n        4.100000e+02],\n       [1.251000e+01, 1.240000e+00, 2.250000e+00, 1.750000e+01,\n        8.500000e+01, 2.000000e+00, 5.800000e-01, 6.000000e-01,\n        1.250000e+00, 5.450000e+00, 7.500000e-01, 1.510000e+00,\n        6.500000e+02],\n       [1.287000e+01, 4.610000e+00, 2.480000e+00, 2.150000e+01,\n        8.600000e+01, 1.700000e+00, 6.500000e-01, 4.700000e-01,\n        8.600000e-01, 7.650000e+00, 5.400000e-01, 1.860000e+00,\n        6.250000e+02],\n       [1.272000e+01, 1.810000e+00, 2.200000e+00, 1.880000e+01,\n        8.600000e+01, 2.200000e+00, 2.530000e+00, 2.600000e-01,\n        1.770000e+00, 3.900000e+00, 1.160000e+00, 3.140000e+00,\n        7.140000e+02],\n       [1.161000e+01, 1.350000e+00, 2.700000e+00, 2.000000e+01,\n        9.400000e+01, 2.740000e+00, 2.920000e+00, 2.900000e-01,\n        2.490000e+00, 2.650000e+00, 9.600000e-01, 3.260000e+00,\n        6.800000e+02],\n       [1.340000e+01, 4.600000e+00, 2.860000e+00, 2.500000e+01,\n        1.120000e+02, 1.980000e+00, 9.600000e-01, 2.700000e-01,\n        1.110000e+00, 8.500000e+00, 6.700000e-01, 1.920000e+00,\n        6.300000e+02],\n       [1.225000e+01, 1.730000e+00, 2.120000e+00, 1.900000e+01,\n        8.000000e+01, 1.650000e+00, 2.030000e+00, 3.700000e-01,\n        1.630000e+00, 3.400000e+00, 1.000000e+00, 3.170000e+00,\n        5.100000e+02],\n       [1.179000e+01, 2.130000e+00, 2.780000e+00, 2.850000e+01,\n        9.200000e+01, 2.130000e+00, 2.240000e+00, 5.800000e-01,\n        1.760000e+00, 3.000000e+00, 9.700000e-01, 2.440000e+00,\n        4.660000e+02],\n       [1.327000e+01, 4.280000e+00, 2.260000e+00, 2.000000e+01,\n        1.200000e+02, 1.590000e+00, 6.900000e-01, 4.300000e-01,\n        1.350000e+00, 1.020000e+01, 5.900000e-01, 1.560000e+00,\n        8.350000e+02],\n       [1.352000e+01, 3.170000e+00, 2.720000e+00, 2.350000e+01,\n        9.700000e+01, 1.550000e+00, 5.200000e-01, 5.000000e-01,\n        5.500000e-01, 4.350000e+00, 8.900000e-01, 2.060000e+00,\n        5.200000e+02],\n       [1.103000e+01, 1.510000e+00, 2.200000e+00, 2.150000e+01,\n        8.500000e+01, 2.460000e+00, 2.170000e+00, 5.200000e-01,\n        2.010000e+00, 1.900000e+00, 1.710000e+00, 2.870000e+00,\n        4.070000e+02],\n       [1.269000e+01, 1.530000e+00, 2.260000e+00, 2.070000e+01,\n        8.000000e+01, 1.380000e+00, 1.460000e+00, 5.800000e-01,\n        1.620000e+00, 3.050000e+00, 9.600000e-01, 2.060000e+00,\n        4.950000e+02],\n       [1.282000e+01, 3.370000e+00, 2.300000e+00, 1.950000e+01,\n        8.800000e+01, 1.480000e+00, 6.600000e-01, 4.000000e-01,\n        9.700000e-01, 1.026000e+01, 7.200000e-01, 1.750000e+00,\n        6.850000e+02],\n       [1.208000e+01, 1.830000e+00, 2.320000e+00, 1.850000e+01,\n        8.100000e+01, 1.600000e+00, 1.500000e+00, 5.200000e-01,\n        1.640000e+00, 2.400000e+00, 1.080000e+00, 2.270000e+00,\n        4.800000e+02],\n       [1.237000e+01, 1.130000e+00, 2.160000e+00, 1.900000e+01,\n        8.700000e+01, 3.500000e+00, 3.100000e+00, 1.900000e-01,\n        1.870000e+00, 4.450000e+00, 1.220000e+00, 2.870000e+00,\n        4.200000e+02],\n       [1.438000e+01, 1.870000e+00, 2.380000e+00, 1.200000e+01,\n        1.020000e+02, 3.300000e+00, 3.640000e+00, 2.900000e-01,\n        2.960000e+00, 7.500000e+00, 1.200000e+00, 3.000000e+00,\n        1.547000e+03],\n       [1.483000e+01, 1.640000e+00, 2.170000e+00, 1.400000e+01,\n        9.700000e+01, 2.800000e+00, 2.980000e+00, 2.900000e-01,\n        1.980000e+00, 5.200000e+00, 1.080000e+00, 2.850000e+00,\n        1.045000e+03],\n       [1.220000e+01, 3.030000e+00, 2.320000e+00, 1.900000e+01,\n        9.600000e+01, 1.250000e+00, 4.900000e-01, 4.000000e-01,\n        7.300000e-01, 5.500000e+00, 6.600000e-01, 1.830000e+00,\n        5.100000e+02],\n       [1.438000e+01, 3.590000e+00, 2.280000e+00, 1.600000e+01,\n        1.020000e+02, 3.250000e+00, 3.170000e+00, 2.700000e-01,\n        2.190000e+00, 4.900000e+00, 1.040000e+00, 3.440000e+00,\n        1.065000e+03],\n       [1.264000e+01, 1.360000e+00, 2.020000e+00, 1.680000e+01,\n        1.000000e+02, 2.020000e+00, 1.410000e+00, 5.300000e-01,\n        6.200000e-01, 5.750000e+00, 9.800000e-01, 1.590000e+00,\n        4.500000e+02],\n       [1.363000e+01, 1.810000e+00, 2.700000e+00, 1.720000e+01,\n        1.120000e+02, 2.850000e+00, 2.910000e+00, 3.000000e-01,\n        1.460000e+00, 7.300000e+00, 1.280000e+00, 2.880000e+00,\n        1.310000e+03],\n       [1.237000e+01, 1.210000e+00, 2.560000e+00, 1.810000e+01,\n        9.800000e+01, 2.420000e+00, 2.650000e+00, 3.700000e-01,\n        2.080000e+00, 4.600000e+00, 1.190000e+00, 2.300000e+00,\n        6.780000e+02],\n       [1.419000e+01, 1.590000e+00, 2.480000e+00, 1.650000e+01,\n        1.080000e+02, 3.300000e+00, 3.930000e+00, 3.200000e-01,\n        1.860000e+00, 8.700000e+00, 1.230000e+00, 2.820000e+00,\n        1.680000e+03],\n       [1.323000e+01, 3.300000e+00, 2.280000e+00, 1.850000e+01,\n        9.800000e+01, 1.800000e+00, 8.300000e-01, 6.100000e-01,\n        1.870000e+00, 1.052000e+01, 5.600000e-01, 1.510000e+00,\n        6.750000e+02],\n       [1.305000e+01, 5.800000e+00, 2.130000e+00, 2.150000e+01,\n        8.600000e+01, 2.620000e+00, 2.650000e+00, 3.000000e-01,\n        2.010000e+00, 2.600000e+00, 7.300000e-01, 3.100000e+00,\n        3.800000e+02],\n       [1.345000e+01, 3.700000e+00, 2.600000e+00, 2.300000e+01,\n        1.110000e+02, 1.700000e+00, 9.200000e-01, 4.300000e-01,\n        1.460000e+00, 1.068000e+01, 8.500000e-01, 1.560000e+00,\n        6.950000e+02],\n       [1.367000e+01, 1.250000e+00, 1.920000e+00, 1.800000e+01,\n        9.400000e+01, 2.100000e+00, 1.790000e+00, 3.200000e-01,\n        7.300000e-01, 3.800000e+00, 1.230000e+00, 2.460000e+00,\n        6.300000e+02],\n       [1.348000e+01, 1.810000e+00, 2.410000e+00, 2.050000e+01,\n        1.000000e+02, 2.700000e+00, 2.980000e+00, 2.600000e-01,\n        1.860000e+00, 5.100000e+00, 1.040000e+00, 3.470000e+00,\n        9.200000e+02],\n       [1.406000e+01, 1.630000e+00, 2.280000e+00, 1.600000e+01,\n        1.260000e+02, 3.000000e+00, 3.170000e+00, 2.400000e-01,\n        2.100000e+00, 5.650000e+00, 1.090000e+00, 3.710000e+00,\n        7.800000e+02],\n       [1.358000e+01, 2.580000e+00, 2.690000e+00, 2.450000e+01,\n        1.050000e+02, 1.550000e+00, 8.400000e-01, 3.900000e-01,\n        1.540000e+00, 8.660000e+00, 7.400000e-01, 1.800000e+00,\n        7.500000e+02],\n       [1.234000e+01, 2.450000e+00, 2.460000e+00, 2.100000e+01,\n        9.800000e+01, 2.560000e+00, 2.110000e+00, 3.400000e-01,\n        1.310000e+00, 2.800000e+00, 8.000000e-01, 3.380000e+00,\n        4.380000e+02],\n       [1.410000e+01, 2.160000e+00, 2.300000e+00, 1.800000e+01,\n        1.050000e+02, 2.950000e+00, 3.320000e+00, 2.200000e-01,\n        2.380000e+00, 5.750000e+00, 1.250000e+00, 3.170000e+00,\n        1.510000e+03],\n       [1.378000e+01, 2.760000e+00, 2.300000e+00, 2.200000e+01,\n        9.000000e+01, 1.350000e+00, 6.800000e-01, 4.100000e-01,\n        1.030000e+00, 9.580000e+00, 7.000000e-01, 1.680000e+00,\n        6.150000e+02],\n       [1.237000e+01, 9.400000e-01, 1.360000e+00, 1.060000e+01,\n        8.800000e+01, 1.980000e+00, 5.700000e-01, 2.800000e-01,\n        4.200000e-01, 1.950000e+00, 1.050000e+00, 1.820000e+00,\n        5.200000e+02],\n       [1.308000e+01, 3.900000e+00, 2.360000e+00, 2.150000e+01,\n        1.130000e+02, 1.410000e+00, 1.390000e+00, 3.400000e-01,\n        1.140000e+00, 9.400000e+00, 5.700000e-01, 1.330000e+00,\n        5.500000e+02]])"
     },
     "execution_count": 12,
     "metadata": {},
     "output_type": "execute_result"
    }
   ],
   "source": [
    "Xtest"
   ],
   "metadata": {
    "collapsed": false,
    "pycharm": {
     "name": "#%%\n"
    }
   }
  },
  {
   "cell_type": "code",
   "execution_count": 13,
   "outputs": [
    {
     "data": {
      "text/plain": "0.9074074074074074"
     },
     "execution_count": 13,
     "metadata": {},
     "output_type": "execute_result"
    }
   ],
   "source": [
    "#建模实例化\n",
    "clf = tree.DecisionTreeClassifier(criterion='entropy',random_state=11,splitter='random')\n",
    "clf = clf.fit(Xtrain,Ytrain)\n",
    "score = clf.score(Xtest,Ytest)\n",
    "score"
   ],
   "metadata": {
    "collapsed": false,
    "pycharm": {
     "name": "#%%\n"
    }
   }
  },
  {
   "cell_type": "code",
   "source": [
    "import graphviz\n",
    "dot_data = tree.export_graphviz(\n",
    "                                clf\n",
    "                                ,feature_names= wine.feature_names\n",
    "                                ,class_names = ['琴酒','雪梨','贝尔摩德']\n",
    "                                ,filled=True #颜色补充，不纯度越低颜色越深\n",
    "                                ,rounded=True #圆角\n",
    ")\n",
    "graph = graphviz.Source(dot_data)\n",
    "graph"
   ],
   "metadata": {
    "collapsed": false,
    "pycharm": {
     "name": "#%%\n"
    }
   },
   "execution_count": 14,
   "outputs": [
    {
     "data": {
      "text/plain": "<graphviz.files.Source at 0x208ad6afa48>",
      "image/svg+xml": "<?xml version=\"1.0\" encoding=\"UTF-8\" standalone=\"no\"?>\r\n<!DOCTYPE svg PUBLIC \"-//W3C//DTD SVG 1.1//EN\"\r\n \"http://www.w3.org/Graphics/SVG/1.1/DTD/svg11.dtd\">\r\n<!-- Generated by graphviz version 2.38.0 (20140413.2041)\r\n -->\r\n<!-- Title: Tree Pages: 1 -->\r\n<svg width=\"1100pt\" height=\"909pt\"\r\n viewBox=\"0.00 0.00 1100.00 909.00\" xmlns=\"http://www.w3.org/2000/svg\" xmlns:xlink=\"http://www.w3.org/1999/xlink\">\r\n<g id=\"graph0\" class=\"graph\" transform=\"scale(1 1) rotate(0) translate(4 905)\">\r\n<title>Tree</title>\r\n<polygon fill=\"white\" stroke=\"none\" points=\"-4,4 -4,-905 1096,-905 1096,4 -4,4\"/>\r\n<!-- 0 -->\r\n<g id=\"node1\" class=\"node\"><title>0</title>\r\n<path fill=\"#fafefc\" stroke=\"black\" d=\"M590.5,-901C590.5,-901 434.5,-901 434.5,-901 428.5,-901 422.5,-895 422.5,-889 422.5,-889 422.5,-830 422.5,-830 422.5,-824 428.5,-818 434.5,-818 434.5,-818 590.5,-818 590.5,-818 596.5,-818 602.5,-824 602.5,-830 602.5,-830 602.5,-889 602.5,-889 602.5,-895 596.5,-901 590.5,-901\"/>\r\n<text text-anchor=\"middle\" x=\"512.5\" y=\"-885.8\" font-family=\"Helvetica,sans-Serif\" font-size=\"14.00\">proanthocyanins &lt;= 1.277</text>\r\n<text text-anchor=\"middle\" x=\"512.5\" y=\"-870.8\" font-family=\"Helvetica,sans-Serif\" font-size=\"14.00\">entropy = 1.556</text>\r\n<text text-anchor=\"middle\" x=\"512.5\" y=\"-855.8\" font-family=\"Helvetica,sans-Serif\" font-size=\"14.00\">samples = 124</text>\r\n<text text-anchor=\"middle\" x=\"512.5\" y=\"-840.8\" font-family=\"Helvetica,sans-Serif\" font-size=\"14.00\">value = [46, 48, 30]</text>\r\n<text text-anchor=\"middle\" x=\"512.5\" y=\"-825.8\" font-family=\"Helvetica,sans-Serif\" font-size=\"14.00\">class = 雪梨</text>\r\n</g>\r\n<!-- 1 -->\r\n<g id=\"node2\" class=\"node\"><title>1</title>\r\n<path fill=\"#bb94f1\" stroke=\"black\" d=\"M464,-782C464,-782 347,-782 347,-782 341,-782 335,-776 335,-770 335,-770 335,-711 335,-711 335,-705 341,-699 347,-699 347,-699 464,-699 464,-699 470,-699 476,-705 476,-711 476,-711 476,-770 476,-770 476,-776 470,-782 464,-782\"/>\r\n<text text-anchor=\"middle\" x=\"405.5\" y=\"-766.8\" font-family=\"Helvetica,sans-Serif\" font-size=\"14.00\">flavanoids &lt;= 1.135</text>\r\n<text text-anchor=\"middle\" x=\"405.5\" y=\"-751.8\" font-family=\"Helvetica,sans-Serif\" font-size=\"14.00\">entropy = 1.05</text>\r\n<text text-anchor=\"middle\" x=\"405.5\" y=\"-736.8\" font-family=\"Helvetica,sans-Serif\" font-size=\"14.00\">samples = 34</text>\r\n<text text-anchor=\"middle\" x=\"405.5\" y=\"-721.8\" font-family=\"Helvetica,sans-Serif\" font-size=\"14.00\">value = [1, 10, 23]</text>\r\n<text text-anchor=\"middle\" x=\"405.5\" y=\"-706.8\" font-family=\"Helvetica,sans-Serif\" font-size=\"14.00\">class = 贝尔摩德</text>\r\n</g>\r\n<!-- 0&#45;&gt;1 -->\r\n<g id=\"edge1\" class=\"edge\"><title>0&#45;&gt;1</title>\r\n<path fill=\"none\" stroke=\"black\" d=\"M475.377,-817.907C466.994,-808.742 458.018,-798.927 449.387,-789.489\"/>\r\n<polygon fill=\"black\" stroke=\"black\" points=\"451.889,-787.038 442.557,-782.021 446.723,-791.762 451.889,-787.038\"/>\r\n<text text-anchor=\"middle\" x=\"441.443\" y=\"-803.296\" font-family=\"Helvetica,sans-Serif\" font-size=\"14.00\">True</text>\r\n</g>\r\n<!-- 12 -->\r\n<g id=\"node13\" class=\"node\"><title>12</title>\r\n<path fill=\"#fceee4\" stroke=\"black\" d=\"M677,-782C677,-782 564,-782 564,-782 558,-782 552,-776 552,-770 552,-770 552,-711 552,-711 552,-705 558,-699 564,-699 564,-699 677,-699 677,-699 683,-699 689,-705 689,-711 689,-711 689,-770 689,-770 689,-776 683,-782 677,-782\"/>\r\n<text text-anchor=\"middle\" x=\"620.5\" y=\"-766.8\" font-family=\"Helvetica,sans-Serif\" font-size=\"14.00\">proline &lt;= 993.532</text>\r\n<text text-anchor=\"middle\" x=\"620.5\" y=\"-751.8\" font-family=\"Helvetica,sans-Serif\" font-size=\"14.00\">entropy = 1.312</text>\r\n<text text-anchor=\"middle\" x=\"620.5\" y=\"-736.8\" font-family=\"Helvetica,sans-Serif\" font-size=\"14.00\">samples = 90</text>\r\n<text text-anchor=\"middle\" x=\"620.5\" y=\"-721.8\" font-family=\"Helvetica,sans-Serif\" font-size=\"14.00\">value = [45, 38, 7]</text>\r\n<text text-anchor=\"middle\" x=\"620.5\" y=\"-706.8\" font-family=\"Helvetica,sans-Serif\" font-size=\"14.00\">class = 琴酒</text>\r\n</g>\r\n<!-- 0&#45;&gt;12 -->\r\n<g id=\"edge12\" class=\"edge\"><title>0&#45;&gt;12</title>\r\n<path fill=\"none\" stroke=\"black\" d=\"M549.97,-817.907C558.431,-808.742 567.491,-798.927 576.202,-789.489\"/>\r\n<polygon fill=\"black\" stroke=\"black\" points=\"578.885,-791.743 583.096,-782.021 573.742,-786.995 578.885,-791.743\"/>\r\n<text text-anchor=\"middle\" x=\"584.095\" y=\"-803.301\" font-family=\"Helvetica,sans-Serif\" font-size=\"14.00\">False</text>\r\n</g>\r\n<!-- 2 -->\r\n<g id=\"node3\" class=\"node\"><title>2</title>\r\n<path fill=\"#8843e6\" stroke=\"black\" d=\"M244,-663C244,-663 147,-663 147,-663 141,-663 135,-657 135,-651 135,-651 135,-592 135,-592 135,-586 141,-580 147,-580 147,-580 244,-580 244,-580 250,-580 256,-586 256,-592 256,-592 256,-651 256,-651 256,-657 250,-663 244,-663\"/>\r\n<text text-anchor=\"middle\" x=\"195.5\" y=\"-647.8\" font-family=\"Helvetica,sans-Serif\" font-size=\"14.00\">hue &lt;= 1.037</text>\r\n<text text-anchor=\"middle\" x=\"195.5\" y=\"-632.8\" font-family=\"Helvetica,sans-Serif\" font-size=\"14.00\">entropy = 0.286</text>\r\n<text text-anchor=\"middle\" x=\"195.5\" y=\"-617.8\" font-family=\"Helvetica,sans-Serif\" font-size=\"14.00\">samples = 20</text>\r\n<text text-anchor=\"middle\" x=\"195.5\" y=\"-602.8\" font-family=\"Helvetica,sans-Serif\" font-size=\"14.00\">value = [0, 1, 19]</text>\r\n<text text-anchor=\"middle\" x=\"195.5\" y=\"-587.8\" font-family=\"Helvetica,sans-Serif\" font-size=\"14.00\">class = 贝尔摩德</text>\r\n</g>\r\n<!-- 1&#45;&gt;2 -->\r\n<g id=\"edge2\" class=\"edge\"><title>1&#45;&gt;2</title>\r\n<path fill=\"none\" stroke=\"black\" d=\"M334.989,-700.215C312.478,-687.673 287.588,-673.806 265.139,-661.299\"/>\r\n<polygon fill=\"black\" stroke=\"black\" points=\"266.779,-658.206 256.34,-656.396 263.372,-664.321 266.779,-658.206\"/>\r\n</g>\r\n<!-- 5 -->\r\n<g id=\"node6\" class=\"node\"><title>5</title>\r\n<path fill=\"#9cf2c0\" stroke=\"black\" d=\"M477,-663C477,-663 334,-663 334,-663 328,-663 322,-657 322,-651 322,-651 322,-592 322,-592 322,-586 328,-580 334,-580 334,-580 477,-580 477,-580 483,-580 489,-586 489,-592 489,-592 489,-651 489,-651 489,-657 483,-663 477,-663\"/>\r\n<text text-anchor=\"middle\" x=\"405.5\" y=\"-647.8\" font-family=\"Helvetica,sans-Serif\" font-size=\"14.00\">magnesium &lt;= 102.576</text>\r\n<text text-anchor=\"middle\" x=\"405.5\" y=\"-632.8\" font-family=\"Helvetica,sans-Serif\" font-size=\"14.00\">entropy = 1.198</text>\r\n<text text-anchor=\"middle\" x=\"405.5\" y=\"-617.8\" font-family=\"Helvetica,sans-Serif\" font-size=\"14.00\">samples = 14</text>\r\n<text text-anchor=\"middle\" x=\"405.5\" y=\"-602.8\" font-family=\"Helvetica,sans-Serif\" font-size=\"14.00\">value = [1, 9, 4]</text>\r\n<text text-anchor=\"middle\" x=\"405.5\" y=\"-587.8\" font-family=\"Helvetica,sans-Serif\" font-size=\"14.00\">class = 雪梨</text>\r\n</g>\r\n<!-- 1&#45;&gt;5 -->\r\n<g id=\"edge5\" class=\"edge\"><title>1&#45;&gt;5</title>\r\n<path fill=\"none\" stroke=\"black\" d=\"M405.5,-698.907C405.5,-690.649 405.5,-681.864 405.5,-673.302\"/>\r\n<polygon fill=\"black\" stroke=\"black\" points=\"409,-673.021 405.5,-663.021 402,-673.021 409,-673.021\"/>\r\n</g>\r\n<!-- 3 -->\r\n<g id=\"node4\" class=\"node\"><title>3</title>\r\n<path fill=\"#8139e5\" stroke=\"black\" d=\"M109,-536.5C109,-536.5 12,-536.5 12,-536.5 6,-536.5 0,-530.5 0,-524.5 0,-524.5 0,-480.5 0,-480.5 0,-474.5 6,-468.5 12,-468.5 12,-468.5 109,-468.5 109,-468.5 115,-468.5 121,-474.5 121,-480.5 121,-480.5 121,-524.5 121,-524.5 121,-530.5 115,-536.5 109,-536.5\"/>\r\n<text text-anchor=\"middle\" x=\"60.5\" y=\"-521.3\" font-family=\"Helvetica,sans-Serif\" font-size=\"14.00\">entropy = 0.0</text>\r\n<text text-anchor=\"middle\" x=\"60.5\" y=\"-506.3\" font-family=\"Helvetica,sans-Serif\" font-size=\"14.00\">samples = 19</text>\r\n<text text-anchor=\"middle\" x=\"60.5\" y=\"-491.3\" font-family=\"Helvetica,sans-Serif\" font-size=\"14.00\">value = [0, 0, 19]</text>\r\n<text text-anchor=\"middle\" x=\"60.5\" y=\"-476.3\" font-family=\"Helvetica,sans-Serif\" font-size=\"14.00\">class = 贝尔摩德</text>\r\n</g>\r\n<!-- 2&#45;&gt;3 -->\r\n<g id=\"edge3\" class=\"edge\"><title>2&#45;&gt;3</title>\r\n<path fill=\"none\" stroke=\"black\" d=\"M148.662,-579.907C135.039,-568.101 120.173,-555.217 106.596,-543.45\"/>\r\n<polygon fill=\"black\" stroke=\"black\" points=\"108.619,-540.571 98.7695,-536.667 104.034,-545.861 108.619,-540.571\"/>\r\n</g>\r\n<!-- 4 -->\r\n<g id=\"node5\" class=\"node\"><title>4</title>\r\n<path fill=\"#39e581\" stroke=\"black\" d=\"M240,-536.5C240,-536.5 151,-536.5 151,-536.5 145,-536.5 139,-530.5 139,-524.5 139,-524.5 139,-480.5 139,-480.5 139,-474.5 145,-468.5 151,-468.5 151,-468.5 240,-468.5 240,-468.5 246,-468.5 252,-474.5 252,-480.5 252,-480.5 252,-524.5 252,-524.5 252,-530.5 246,-536.5 240,-536.5\"/>\r\n<text text-anchor=\"middle\" x=\"195.5\" y=\"-521.3\" font-family=\"Helvetica,sans-Serif\" font-size=\"14.00\">entropy = 0.0</text>\r\n<text text-anchor=\"middle\" x=\"195.5\" y=\"-506.3\" font-family=\"Helvetica,sans-Serif\" font-size=\"14.00\">samples = 1</text>\r\n<text text-anchor=\"middle\" x=\"195.5\" y=\"-491.3\" font-family=\"Helvetica,sans-Serif\" font-size=\"14.00\">value = [0, 1, 0]</text>\r\n<text text-anchor=\"middle\" x=\"195.5\" y=\"-476.3\" font-family=\"Helvetica,sans-Serif\" font-size=\"14.00\">class = 雪梨</text>\r\n</g>\r\n<!-- 2&#45;&gt;4 -->\r\n<g id=\"edge4\" class=\"edge\"><title>2&#45;&gt;4</title>\r\n<path fill=\"none\" stroke=\"black\" d=\"M195.5,-579.907C195.5,-569.204 195.5,-557.615 195.5,-546.776\"/>\r\n<polygon fill=\"black\" stroke=\"black\" points=\"199,-546.667 195.5,-536.667 192,-546.667 199,-546.667\"/>\r\n</g>\r\n<!-- 6 -->\r\n<g id=\"node7\" class=\"node\"><title>6</title>\r\n<path fill=\"#39e581\" stroke=\"black\" d=\"M371,-536.5C371,-536.5 282,-536.5 282,-536.5 276,-536.5 270,-530.5 270,-524.5 270,-524.5 270,-480.5 270,-480.5 270,-474.5 276,-468.5 282,-468.5 282,-468.5 371,-468.5 371,-468.5 377,-468.5 383,-474.5 383,-480.5 383,-480.5 383,-524.5 383,-524.5 383,-530.5 377,-536.5 371,-536.5\"/>\r\n<text text-anchor=\"middle\" x=\"326.5\" y=\"-521.3\" font-family=\"Helvetica,sans-Serif\" font-size=\"14.00\">entropy = 0.0</text>\r\n<text text-anchor=\"middle\" x=\"326.5\" y=\"-506.3\" font-family=\"Helvetica,sans-Serif\" font-size=\"14.00\">samples = 6</text>\r\n<text text-anchor=\"middle\" x=\"326.5\" y=\"-491.3\" font-family=\"Helvetica,sans-Serif\" font-size=\"14.00\">value = [0, 6, 0]</text>\r\n<text text-anchor=\"middle\" x=\"326.5\" y=\"-476.3\" font-family=\"Helvetica,sans-Serif\" font-size=\"14.00\">class = 雪梨</text>\r\n</g>\r\n<!-- 5&#45;&gt;6 -->\r\n<g id=\"edge6\" class=\"edge\"><title>5&#45;&gt;6</title>\r\n<path fill=\"none\" stroke=\"black\" d=\"M378.091,-579.907C370.492,-568.652 362.231,-556.418 354.593,-545.106\"/>\r\n<polygon fill=\"black\" stroke=\"black\" points=\"357.391,-542.996 348.895,-536.667 351.59,-546.913 357.391,-542.996\"/>\r\n</g>\r\n<!-- 7 -->\r\n<g id=\"node8\" class=\"node\"><title>7</title>\r\n<path fill=\"#e6d7fa\" stroke=\"black\" d=\"M505.5,-544C505.5,-544 413.5,-544 413.5,-544 407.5,-544 401.5,-538 401.5,-532 401.5,-532 401.5,-473 401.5,-473 401.5,-467 407.5,-461 413.5,-461 413.5,-461 505.5,-461 505.5,-461 511.5,-461 517.5,-467 517.5,-473 517.5,-473 517.5,-532 517.5,-532 517.5,-538 511.5,-544 505.5,-544\"/>\r\n<text text-anchor=\"middle\" x=\"459.5\" y=\"-528.8\" font-family=\"Helvetica,sans-Serif\" font-size=\"14.00\">hue &lt;= 0.84</text>\r\n<text text-anchor=\"middle\" x=\"459.5\" y=\"-513.8\" font-family=\"Helvetica,sans-Serif\" font-size=\"14.00\">entropy = 1.406</text>\r\n<text text-anchor=\"middle\" x=\"459.5\" y=\"-498.8\" font-family=\"Helvetica,sans-Serif\" font-size=\"14.00\">samples = 8</text>\r\n<text text-anchor=\"middle\" x=\"459.5\" y=\"-483.8\" font-family=\"Helvetica,sans-Serif\" font-size=\"14.00\">value = [1, 3, 4]</text>\r\n<text text-anchor=\"middle\" x=\"459.5\" y=\"-468.8\" font-family=\"Helvetica,sans-Serif\" font-size=\"14.00\">class = 贝尔摩德</text>\r\n</g>\r\n<!-- 5&#45;&gt;7 -->\r\n<g id=\"edge7\" class=\"edge\"><title>5&#45;&gt;7</title>\r\n<path fill=\"none\" stroke=\"black\" d=\"M424.235,-579.907C428.214,-571.286 432.458,-562.09 436.573,-553.175\"/>\r\n<polygon fill=\"black\" stroke=\"black\" points=\"439.785,-554.567 440.798,-544.021 433.43,-551.634 439.785,-554.567\"/>\r\n</g>\r\n<!-- 8 -->\r\n<g id=\"node9\" class=\"node\"><title>8</title>\r\n<path fill=\"#8139e5\" stroke=\"black\" d=\"M356.5,-417.5C356.5,-417.5 264.5,-417.5 264.5,-417.5 258.5,-417.5 252.5,-411.5 252.5,-405.5 252.5,-405.5 252.5,-361.5 252.5,-361.5 252.5,-355.5 258.5,-349.5 264.5,-349.5 264.5,-349.5 356.5,-349.5 356.5,-349.5 362.5,-349.5 368.5,-355.5 368.5,-361.5 368.5,-361.5 368.5,-405.5 368.5,-405.5 368.5,-411.5 362.5,-417.5 356.5,-417.5\"/>\r\n<text text-anchor=\"middle\" x=\"310.5\" y=\"-402.3\" font-family=\"Helvetica,sans-Serif\" font-size=\"14.00\">entropy = 0.0</text>\r\n<text text-anchor=\"middle\" x=\"310.5\" y=\"-387.3\" font-family=\"Helvetica,sans-Serif\" font-size=\"14.00\">samples = 4</text>\r\n<text text-anchor=\"middle\" x=\"310.5\" y=\"-372.3\" font-family=\"Helvetica,sans-Serif\" font-size=\"14.00\">value = [0, 0, 4]</text>\r\n<text text-anchor=\"middle\" x=\"310.5\" y=\"-357.3\" font-family=\"Helvetica,sans-Serif\" font-size=\"14.00\">class = 贝尔摩德</text>\r\n</g>\r\n<!-- 7&#45;&gt;8 -->\r\n<g id=\"edge8\" class=\"edge\"><title>7&#45;&gt;8</title>\r\n<path fill=\"none\" stroke=\"black\" d=\"M407.805,-460.907C392.629,-448.99 376.054,-435.976 360.956,-424.12\"/>\r\n<polygon fill=\"black\" stroke=\"black\" points=\"362.765,-421.09 352.738,-417.667 358.442,-426.596 362.765,-421.09\"/>\r\n</g>\r\n<!-- 9 -->\r\n<g id=\"node10\" class=\"node\"><title>9</title>\r\n<path fill=\"#7beeab\" stroke=\"black\" d=\"M520,-425C520,-425 399,-425 399,-425 393,-425 387,-419 387,-413 387,-413 387,-354 387,-354 387,-348 393,-342 399,-342 399,-342 520,-342 520,-342 526,-342 532,-348 532,-354 532,-354 532,-413 532,-413 532,-419 526,-425 520,-425\"/>\r\n<text text-anchor=\"middle\" x=\"459.5\" y=\"-409.8\" font-family=\"Helvetica,sans-Serif\" font-size=\"14.00\">malic_acid &lt;= 3.522</text>\r\n<text text-anchor=\"middle\" x=\"459.5\" y=\"-394.8\" font-family=\"Helvetica,sans-Serif\" font-size=\"14.00\">entropy = 0.811</text>\r\n<text text-anchor=\"middle\" x=\"459.5\" y=\"-379.8\" font-family=\"Helvetica,sans-Serif\" font-size=\"14.00\">samples = 4</text>\r\n<text text-anchor=\"middle\" x=\"459.5\" y=\"-364.8\" font-family=\"Helvetica,sans-Serif\" font-size=\"14.00\">value = [1, 3, 0]</text>\r\n<text text-anchor=\"middle\" x=\"459.5\" y=\"-349.8\" font-family=\"Helvetica,sans-Serif\" font-size=\"14.00\">class = 雪梨</text>\r\n</g>\r\n<!-- 7&#45;&gt;9 -->\r\n<g id=\"edge9\" class=\"edge\"><title>7&#45;&gt;9</title>\r\n<path fill=\"none\" stroke=\"black\" d=\"M459.5,-460.907C459.5,-452.649 459.5,-443.864 459.5,-435.302\"/>\r\n<polygon fill=\"black\" stroke=\"black\" points=\"463,-435.021 459.5,-425.021 456,-435.021 463,-435.021\"/>\r\n</g>\r\n<!-- 10 -->\r\n<g id=\"node11\" class=\"node\"><title>10</title>\r\n<path fill=\"#39e581\" stroke=\"black\" d=\"M443,-298.5C443,-298.5 354,-298.5 354,-298.5 348,-298.5 342,-292.5 342,-286.5 342,-286.5 342,-242.5 342,-242.5 342,-236.5 348,-230.5 354,-230.5 354,-230.5 443,-230.5 443,-230.5 449,-230.5 455,-236.5 455,-242.5 455,-242.5 455,-286.5 455,-286.5 455,-292.5 449,-298.5 443,-298.5\"/>\r\n<text text-anchor=\"middle\" x=\"398.5\" y=\"-283.3\" font-family=\"Helvetica,sans-Serif\" font-size=\"14.00\">entropy = 0.0</text>\r\n<text text-anchor=\"middle\" x=\"398.5\" y=\"-268.3\" font-family=\"Helvetica,sans-Serif\" font-size=\"14.00\">samples = 3</text>\r\n<text text-anchor=\"middle\" x=\"398.5\" y=\"-253.3\" font-family=\"Helvetica,sans-Serif\" font-size=\"14.00\">value = [0, 3, 0]</text>\r\n<text text-anchor=\"middle\" x=\"398.5\" y=\"-238.3\" font-family=\"Helvetica,sans-Serif\" font-size=\"14.00\">class = 雪梨</text>\r\n</g>\r\n<!-- 9&#45;&gt;10 -->\r\n<g id=\"edge10\" class=\"edge\"><title>9&#45;&gt;10</title>\r\n<path fill=\"none\" stroke=\"black\" d=\"M438.336,-341.907C432.583,-330.873 426.34,-318.898 420.54,-307.773\"/>\r\n<polygon fill=\"black\" stroke=\"black\" points=\"423.519,-305.916 415.792,-298.667 417.312,-309.152 423.519,-305.916\"/>\r\n</g>\r\n<!-- 11 -->\r\n<g id=\"node12\" class=\"node\"><title>11</title>\r\n<path fill=\"#e58139\" stroke=\"black\" d=\"M574,-298.5C574,-298.5 485,-298.5 485,-298.5 479,-298.5 473,-292.5 473,-286.5 473,-286.5 473,-242.5 473,-242.5 473,-236.5 479,-230.5 485,-230.5 485,-230.5 574,-230.5 574,-230.5 580,-230.5 586,-236.5 586,-242.5 586,-242.5 586,-286.5 586,-286.5 586,-292.5 580,-298.5 574,-298.5\"/>\r\n<text text-anchor=\"middle\" x=\"529.5\" y=\"-283.3\" font-family=\"Helvetica,sans-Serif\" font-size=\"14.00\">entropy = 0.0</text>\r\n<text text-anchor=\"middle\" x=\"529.5\" y=\"-268.3\" font-family=\"Helvetica,sans-Serif\" font-size=\"14.00\">samples = 1</text>\r\n<text text-anchor=\"middle\" x=\"529.5\" y=\"-253.3\" font-family=\"Helvetica,sans-Serif\" font-size=\"14.00\">value = [1, 0, 0]</text>\r\n<text text-anchor=\"middle\" x=\"529.5\" y=\"-238.3\" font-family=\"Helvetica,sans-Serif\" font-size=\"14.00\">class = 琴酒</text>\r\n</g>\r\n<!-- 9&#45;&gt;11 -->\r\n<g id=\"edge11\" class=\"edge\"><title>9&#45;&gt;11</title>\r\n<path fill=\"none\" stroke=\"black\" d=\"M483.786,-341.907C490.454,-330.763 497.696,-318.658 504.408,-307.439\"/>\r\n<polygon fill=\"black\" stroke=\"black\" points=\"507.526,-309.045 509.657,-298.667 501.519,-305.451 507.526,-309.045\"/>\r\n</g>\r\n<!-- 13 -->\r\n<g id=\"node14\" class=\"node\"><title>13</title>\r\n<path fill=\"#8df0b6\" stroke=\"black\" d=\"M674,-663C674,-663 567,-663 567,-663 561,-663 555,-657 555,-651 555,-651 555,-592 555,-592 555,-586 561,-580 567,-580 567,-580 674,-580 674,-580 680,-580 686,-586 686,-592 686,-592 686,-651 686,-651 686,-657 680,-663 674,-663\"/>\r\n<text text-anchor=\"middle\" x=\"620.5\" y=\"-647.8\" font-family=\"Helvetica,sans-Serif\" font-size=\"14.00\">alcohol &lt;= 13.067</text>\r\n<text text-anchor=\"middle\" x=\"620.5\" y=\"-632.8\" font-family=\"Helvetica,sans-Serif\" font-size=\"14.00\">entropy = 1.235</text>\r\n<text text-anchor=\"middle\" x=\"620.5\" y=\"-617.8\" font-family=\"Helvetica,sans-Serif\" font-size=\"14.00\">samples = 57</text>\r\n<text text-anchor=\"middle\" x=\"620.5\" y=\"-602.8\" font-family=\"Helvetica,sans-Serif\" font-size=\"14.00\">value = [12, 38, 7]</text>\r\n<text text-anchor=\"middle\" x=\"620.5\" y=\"-587.8\" font-family=\"Helvetica,sans-Serif\" font-size=\"14.00\">class = 雪梨</text>\r\n</g>\r\n<!-- 12&#45;&gt;13 -->\r\n<g id=\"edge13\" class=\"edge\"><title>12&#45;&gt;13</title>\r\n<path fill=\"none\" stroke=\"black\" d=\"M620.5,-698.907C620.5,-690.649 620.5,-681.864 620.5,-673.302\"/>\r\n<polygon fill=\"black\" stroke=\"black\" points=\"624,-673.021 620.5,-663.021 617,-673.021 624,-673.021\"/>\r\n</g>\r\n<!-- 26 -->\r\n<g id=\"node27\" class=\"node\"><title>26</title>\r\n<path fill=\"#e58139\" stroke=\"black\" d=\"M813,-655.5C813,-655.5 716,-655.5 716,-655.5 710,-655.5 704,-649.5 704,-643.5 704,-643.5 704,-599.5 704,-599.5 704,-593.5 710,-587.5 716,-587.5 716,-587.5 813,-587.5 813,-587.5 819,-587.5 825,-593.5 825,-599.5 825,-599.5 825,-643.5 825,-643.5 825,-649.5 819,-655.5 813,-655.5\"/>\r\n<text text-anchor=\"middle\" x=\"764.5\" y=\"-640.3\" font-family=\"Helvetica,sans-Serif\" font-size=\"14.00\">entropy = 0.0</text>\r\n<text text-anchor=\"middle\" x=\"764.5\" y=\"-625.3\" font-family=\"Helvetica,sans-Serif\" font-size=\"14.00\">samples = 33</text>\r\n<text text-anchor=\"middle\" x=\"764.5\" y=\"-610.3\" font-family=\"Helvetica,sans-Serif\" font-size=\"14.00\">value = [33, 0, 0]</text>\r\n<text text-anchor=\"middle\" x=\"764.5\" y=\"-595.3\" font-family=\"Helvetica,sans-Serif\" font-size=\"14.00\">class = 琴酒</text>\r\n</g>\r\n<!-- 12&#45;&gt;26 -->\r\n<g id=\"edge26\" class=\"edge\"><title>12&#45;&gt;26</title>\r\n<path fill=\"none\" stroke=\"black\" d=\"M670.46,-698.907C685.127,-686.99 701.145,-673.976 715.737,-662.12\"/>\r\n<polygon fill=\"black\" stroke=\"black\" points=\"718.125,-664.689 723.679,-655.667 713.711,-659.256 718.125,-664.689\"/>\r\n</g>\r\n<!-- 14 -->\r\n<g id=\"node15\" class=\"node\"><title>14</title>\r\n<path fill=\"#49e78b\" stroke=\"black\" d=\"M688,-544C688,-544 553,-544 553,-544 547,-544 541,-538 541,-532 541,-532 541,-473 541,-473 541,-467 547,-461 553,-461 553,-461 688,-461 688,-461 694,-461 700,-467 700,-473 700,-473 700,-532 700,-532 700,-538 694,-544 688,-544\"/>\r\n<text text-anchor=\"middle\" x=\"620.5\" y=\"-528.8\" font-family=\"Helvetica,sans-Serif\" font-size=\"14.00\">magnesium &lt;= 90.935</text>\r\n<text text-anchor=\"middle\" x=\"620.5\" y=\"-513.8\" font-family=\"Helvetica,sans-Serif\" font-size=\"14.00\">entropy = 0.378</text>\r\n<text text-anchor=\"middle\" x=\"620.5\" y=\"-498.8\" font-family=\"Helvetica,sans-Serif\" font-size=\"14.00\">samples = 41</text>\r\n<text text-anchor=\"middle\" x=\"620.5\" y=\"-483.8\" font-family=\"Helvetica,sans-Serif\" font-size=\"14.00\">value = [3, 38, 0]</text>\r\n<text text-anchor=\"middle\" x=\"620.5\" y=\"-468.8\" font-family=\"Helvetica,sans-Serif\" font-size=\"14.00\">class = 雪梨</text>\r\n</g>\r\n<!-- 13&#45;&gt;14 -->\r\n<g id=\"edge14\" class=\"edge\"><title>13&#45;&gt;14</title>\r\n<path fill=\"none\" stroke=\"black\" d=\"M620.5,-579.907C620.5,-571.649 620.5,-562.864 620.5,-554.302\"/>\r\n<polygon fill=\"black\" stroke=\"black\" points=\"624,-554.021 620.5,-544.021 617,-554.021 624,-554.021\"/>\r\n</g>\r\n<!-- 23 -->\r\n<g id=\"node24\" class=\"node\"><title>23</title>\r\n<path fill=\"#f9e3d3\" stroke=\"black\" d=\"M961,-544C961,-544 844,-544 844,-544 838,-544 832,-538 832,-532 832,-532 832,-473 832,-473 832,-467 838,-461 844,-461 844,-461 961,-461 961,-461 967,-461 973,-467 973,-473 973,-473 973,-532 973,-532 973,-538 967,-544 961,-544\"/>\r\n<text text-anchor=\"middle\" x=\"902.5\" y=\"-528.8\" font-family=\"Helvetica,sans-Serif\" font-size=\"14.00\">flavanoids &lt;= 2.449</text>\r\n<text text-anchor=\"middle\" x=\"902.5\" y=\"-513.8\" font-family=\"Helvetica,sans-Serif\" font-size=\"14.00\">entropy = 0.989</text>\r\n<text text-anchor=\"middle\" x=\"902.5\" y=\"-498.8\" font-family=\"Helvetica,sans-Serif\" font-size=\"14.00\">samples = 16</text>\r\n<text text-anchor=\"middle\" x=\"902.5\" y=\"-483.8\" font-family=\"Helvetica,sans-Serif\" font-size=\"14.00\">value = [9, 0, 7]</text>\r\n<text text-anchor=\"middle\" x=\"902.5\" y=\"-468.8\" font-family=\"Helvetica,sans-Serif\" font-size=\"14.00\">class = 琴酒</text>\r\n</g>\r\n<!-- 13&#45;&gt;23 -->\r\n<g id=\"edge23\" class=\"edge\"><title>13&#45;&gt;23</title>\r\n<path fill=\"none\" stroke=\"black\" d=\"M686.085,-584.406C689.249,-582.879 692.399,-581.402 695.5,-580 736.374,-561.523 783.157,-543.945 821.895,-530.31\"/>\r\n<polygon fill=\"black\" stroke=\"black\" points=\"823.278,-533.534 831.562,-526.93 820.967,-526.927 823.278,-533.534\"/>\r\n</g>\r\n<!-- 15 -->\r\n<g id=\"node16\" class=\"node\"><title>15</title>\r\n<path fill=\"#39e581\" stroke=\"black\" d=\"M659,-417.5C659,-417.5 562,-417.5 562,-417.5 556,-417.5 550,-411.5 550,-405.5 550,-405.5 550,-361.5 550,-361.5 550,-355.5 556,-349.5 562,-349.5 562,-349.5 659,-349.5 659,-349.5 665,-349.5 671,-355.5 671,-361.5 671,-361.5 671,-405.5 671,-405.5 671,-411.5 665,-417.5 659,-417.5\"/>\r\n<text text-anchor=\"middle\" x=\"610.5\" y=\"-402.3\" font-family=\"Helvetica,sans-Serif\" font-size=\"14.00\">entropy = 0.0</text>\r\n<text text-anchor=\"middle\" x=\"610.5\" y=\"-387.3\" font-family=\"Helvetica,sans-Serif\" font-size=\"14.00\">samples = 25</text>\r\n<text text-anchor=\"middle\" x=\"610.5\" y=\"-372.3\" font-family=\"Helvetica,sans-Serif\" font-size=\"14.00\">value = [0, 25, 0]</text>\r\n<text text-anchor=\"middle\" x=\"610.5\" y=\"-357.3\" font-family=\"Helvetica,sans-Serif\" font-size=\"14.00\">class = 雪梨</text>\r\n</g>\r\n<!-- 14&#45;&gt;15 -->\r\n<g id=\"edge15\" class=\"edge\"><title>14&#45;&gt;15</title>\r\n<path fill=\"none\" stroke=\"black\" d=\"M617.031,-460.907C616.116,-450.204 615.125,-438.615 614.199,-427.776\"/>\r\n<polygon fill=\"black\" stroke=\"black\" points=\"617.674,-427.333 613.335,-417.667 610.699,-427.929 617.674,-427.333\"/>\r\n</g>\r\n<!-- 16 -->\r\n<g id=\"node17\" class=\"node\"><title>16</title>\r\n<path fill=\"#67eb9e\" stroke=\"black\" d=\"M814,-425C814,-425 701,-425 701,-425 695,-425 689,-419 689,-413 689,-413 689,-354 689,-354 689,-348 695,-342 701,-342 701,-342 814,-342 814,-342 820,-342 826,-348 826,-354 826,-354 826,-413 826,-413 826,-419 820,-425 814,-425\"/>\r\n<text text-anchor=\"middle\" x=\"757.5\" y=\"-409.8\" font-family=\"Helvetica,sans-Serif\" font-size=\"14.00\">proline &lt;= 698.858</text>\r\n<text text-anchor=\"middle\" x=\"757.5\" y=\"-394.8\" font-family=\"Helvetica,sans-Serif\" font-size=\"14.00\">entropy = 0.696</text>\r\n<text text-anchor=\"middle\" x=\"757.5\" y=\"-379.8\" font-family=\"Helvetica,sans-Serif\" font-size=\"14.00\">samples = 16</text>\r\n<text text-anchor=\"middle\" x=\"757.5\" y=\"-364.8\" font-family=\"Helvetica,sans-Serif\" font-size=\"14.00\">value = [3, 13, 0]</text>\r\n<text text-anchor=\"middle\" x=\"757.5\" y=\"-349.8\" font-family=\"Helvetica,sans-Serif\" font-size=\"14.00\">class = 雪梨</text>\r\n</g>\r\n<!-- 14&#45;&gt;16 -->\r\n<g id=\"edge16\" class=\"edge\"><title>14&#45;&gt;16</title>\r\n<path fill=\"none\" stroke=\"black\" d=\"M668.031,-460.907C679.083,-451.469 690.94,-441.343 702.291,-431.649\"/>\r\n<polygon fill=\"black\" stroke=\"black\" points=\"704.721,-434.177 710.053,-425.021 700.175,-428.854 704.721,-434.177\"/>\r\n</g>\r\n<!-- 17 -->\r\n<g id=\"node18\" class=\"node\"><title>17</title>\r\n<path fill=\"#39e581\" stroke=\"black\" d=\"M722,-298.5C722,-298.5 625,-298.5 625,-298.5 619,-298.5 613,-292.5 613,-286.5 613,-286.5 613,-242.5 613,-242.5 613,-236.5 619,-230.5 625,-230.5 625,-230.5 722,-230.5 722,-230.5 728,-230.5 734,-236.5 734,-242.5 734,-242.5 734,-286.5 734,-286.5 734,-292.5 728,-298.5 722,-298.5\"/>\r\n<text text-anchor=\"middle\" x=\"673.5\" y=\"-283.3\" font-family=\"Helvetica,sans-Serif\" font-size=\"14.00\">entropy = 0.0</text>\r\n<text text-anchor=\"middle\" x=\"673.5\" y=\"-268.3\" font-family=\"Helvetica,sans-Serif\" font-size=\"14.00\">samples = 10</text>\r\n<text text-anchor=\"middle\" x=\"673.5\" y=\"-253.3\" font-family=\"Helvetica,sans-Serif\" font-size=\"14.00\">value = [0, 10, 0]</text>\r\n<text text-anchor=\"middle\" x=\"673.5\" y=\"-238.3\" font-family=\"Helvetica,sans-Serif\" font-size=\"14.00\">class = 雪梨</text>\r\n</g>\r\n<!-- 16&#45;&gt;17 -->\r\n<g id=\"edge17\" class=\"edge\"><title>16&#45;&gt;17</title>\r\n<path fill=\"none\" stroke=\"black\" d=\"M728.357,-341.907C720.276,-330.652 711.493,-318.418 703.371,-307.106\"/>\r\n<polygon fill=\"black\" stroke=\"black\" points=\"705.987,-304.749 697.312,-298.667 700.301,-308.831 705.987,-304.749\"/>\r\n</g>\r\n<!-- 18 -->\r\n<g id=\"node19\" class=\"node\"><title>18</title>\r\n<path fill=\"#ffffff\" stroke=\"black\" d=\"M871,-306C871,-306 764,-306 764,-306 758,-306 752,-300 752,-294 752,-294 752,-235 752,-235 752,-229 758,-223 764,-223 764,-223 871,-223 871,-223 877,-223 883,-229 883,-235 883,-235 883,-294 883,-294 883,-300 877,-306 871,-306\"/>\r\n<text text-anchor=\"middle\" x=\"817.5\" y=\"-290.8\" font-family=\"Helvetica,sans-Serif\" font-size=\"14.00\">alcohol &lt;= 12.218</text>\r\n<text text-anchor=\"middle\" x=\"817.5\" y=\"-275.8\" font-family=\"Helvetica,sans-Serif\" font-size=\"14.00\">entropy = 1.0</text>\r\n<text text-anchor=\"middle\" x=\"817.5\" y=\"-260.8\" font-family=\"Helvetica,sans-Serif\" font-size=\"14.00\">samples = 6</text>\r\n<text text-anchor=\"middle\" x=\"817.5\" y=\"-245.8\" font-family=\"Helvetica,sans-Serif\" font-size=\"14.00\">value = [3, 3, 0]</text>\r\n<text text-anchor=\"middle\" x=\"817.5\" y=\"-230.8\" font-family=\"Helvetica,sans-Serif\" font-size=\"14.00\">class = 琴酒</text>\r\n</g>\r\n<!-- 16&#45;&gt;18 -->\r\n<g id=\"edge18\" class=\"edge\"><title>16&#45;&gt;18</title>\r\n<path fill=\"none\" stroke=\"black\" d=\"M778.317,-341.907C782.738,-333.286 787.454,-324.09 792.026,-315.175\"/>\r\n<polygon fill=\"black\" stroke=\"black\" points=\"795.271,-316.516 796.72,-306.021 789.043,-313.322 795.271,-316.516\"/>\r\n</g>\r\n<!-- 19 -->\r\n<g id=\"node20\" class=\"node\"><title>19</title>\r\n<path fill=\"#39e581\" stroke=\"black\" d=\"M755,-179.5C755,-179.5 666,-179.5 666,-179.5 660,-179.5 654,-173.5 654,-167.5 654,-167.5 654,-123.5 654,-123.5 654,-117.5 660,-111.5 666,-111.5 666,-111.5 755,-111.5 755,-111.5 761,-111.5 767,-117.5 767,-123.5 767,-123.5 767,-167.5 767,-167.5 767,-173.5 761,-179.5 755,-179.5\"/>\r\n<text text-anchor=\"middle\" x=\"710.5\" y=\"-164.3\" font-family=\"Helvetica,sans-Serif\" font-size=\"14.00\">entropy = 0.0</text>\r\n<text text-anchor=\"middle\" x=\"710.5\" y=\"-149.3\" font-family=\"Helvetica,sans-Serif\" font-size=\"14.00\">samples = 2</text>\r\n<text text-anchor=\"middle\" x=\"710.5\" y=\"-134.3\" font-family=\"Helvetica,sans-Serif\" font-size=\"14.00\">value = [0, 2, 0]</text>\r\n<text text-anchor=\"middle\" x=\"710.5\" y=\"-119.3\" font-family=\"Helvetica,sans-Serif\" font-size=\"14.00\">class = 雪梨</text>\r\n</g>\r\n<!-- 18&#45;&gt;19 -->\r\n<g id=\"edge19\" class=\"edge\"><title>18&#45;&gt;19</title>\r\n<path fill=\"none\" stroke=\"black\" d=\"M780.377,-222.907C769.781,-211.321 758.236,-198.698 747.64,-187.111\"/>\r\n<polygon fill=\"black\" stroke=\"black\" points=\"750.164,-184.684 740.832,-179.667 744.998,-189.408 750.164,-184.684\"/>\r\n</g>\r\n<!-- 20 -->\r\n<g id=\"node21\" class=\"node\"><title>20</title>\r\n<path fill=\"#eeab7b\" stroke=\"black\" d=\"M1052,-187C1052,-187 797,-187 797,-187 791,-187 785,-181 785,-175 785,-175 785,-116 785,-116 785,-110 791,-104 797,-104 797,-104 1052,-104 1052,-104 1058,-104 1064,-110 1064,-116 1064,-116 1064,-175 1064,-175 1064,-181 1058,-187 1052,-187\"/>\r\n<text text-anchor=\"middle\" x=\"924.5\" y=\"-171.8\" font-family=\"Helvetica,sans-Serif\" font-size=\"14.00\">od280/od315_of_diluted_wines &lt;= 2.733</text>\r\n<text text-anchor=\"middle\" x=\"924.5\" y=\"-156.8\" font-family=\"Helvetica,sans-Serif\" font-size=\"14.00\">entropy = 0.811</text>\r\n<text text-anchor=\"middle\" x=\"924.5\" y=\"-141.8\" font-family=\"Helvetica,sans-Serif\" font-size=\"14.00\">samples = 4</text>\r\n<text text-anchor=\"middle\" x=\"924.5\" y=\"-126.8\" font-family=\"Helvetica,sans-Serif\" font-size=\"14.00\">value = [3, 1, 0]</text>\r\n<text text-anchor=\"middle\" x=\"924.5\" y=\"-111.8\" font-family=\"Helvetica,sans-Serif\" font-size=\"14.00\">class = 琴酒</text>\r\n</g>\r\n<!-- 18&#45;&gt;20 -->\r\n<g id=\"edge20\" class=\"edge\"><title>18&#45;&gt;20</title>\r\n<path fill=\"none\" stroke=\"black\" d=\"M854.623,-222.907C863.006,-213.742 871.982,-203.927 880.613,-194.489\"/>\r\n<polygon fill=\"black\" stroke=\"black\" points=\"883.277,-196.762 887.443,-187.021 878.111,-192.038 883.277,-196.762\"/>\r\n</g>\r\n<!-- 21 -->\r\n<g id=\"node22\" class=\"node\"><title>21</title>\r\n<path fill=\"#39e581\" stroke=\"black\" d=\"M903,-68C903,-68 814,-68 814,-68 808,-68 802,-62 802,-56 802,-56 802,-12 802,-12 802,-6 808,-0 814,-0 814,-0 903,-0 903,-0 909,-0 915,-6 915,-12 915,-12 915,-56 915,-56 915,-62 909,-68 903,-68\"/>\r\n<text text-anchor=\"middle\" x=\"858.5\" y=\"-52.8\" font-family=\"Helvetica,sans-Serif\" font-size=\"14.00\">entropy = 0.0</text>\r\n<text text-anchor=\"middle\" x=\"858.5\" y=\"-37.8\" font-family=\"Helvetica,sans-Serif\" font-size=\"14.00\">samples = 1</text>\r\n<text text-anchor=\"middle\" x=\"858.5\" y=\"-22.8\" font-family=\"Helvetica,sans-Serif\" font-size=\"14.00\">value = [0, 1, 0]</text>\r\n<text text-anchor=\"middle\" x=\"858.5\" y=\"-7.8\" font-family=\"Helvetica,sans-Serif\" font-size=\"14.00\">class = 雪梨</text>\r\n</g>\r\n<!-- 20&#45;&gt;21 -->\r\n<g id=\"edge21\" class=\"edge\"><title>20&#45;&gt;21</title>\r\n<path fill=\"none\" stroke=\"black\" d=\"M899.924,-103.726C894.646,-94.9703 889.061,-85.7032 883.758,-76.9051\"/>\r\n<polygon fill=\"black\" stroke=\"black\" points=\"886.731,-75.0574 878.571,-68.2996 880.736,-78.671 886.731,-75.0574\"/>\r\n</g>\r\n<!-- 22 -->\r\n<g id=\"node23\" class=\"node\"><title>22</title>\r\n<path fill=\"#e58139\" stroke=\"black\" d=\"M1034,-68C1034,-68 945,-68 945,-68 939,-68 933,-62 933,-56 933,-56 933,-12 933,-12 933,-6 939,-0 945,-0 945,-0 1034,-0 1034,-0 1040,-0 1046,-6 1046,-12 1046,-12 1046,-56 1046,-56 1046,-62 1040,-68 1034,-68\"/>\r\n<text text-anchor=\"middle\" x=\"989.5\" y=\"-52.8\" font-family=\"Helvetica,sans-Serif\" font-size=\"14.00\">entropy = 0.0</text>\r\n<text text-anchor=\"middle\" x=\"989.5\" y=\"-37.8\" font-family=\"Helvetica,sans-Serif\" font-size=\"14.00\">samples = 3</text>\r\n<text text-anchor=\"middle\" x=\"989.5\" y=\"-22.8\" font-family=\"Helvetica,sans-Serif\" font-size=\"14.00\">value = [3, 0, 0]</text>\r\n<text text-anchor=\"middle\" x=\"989.5\" y=\"-7.8\" font-family=\"Helvetica,sans-Serif\" font-size=\"14.00\">class = 琴酒</text>\r\n</g>\r\n<!-- 20&#45;&gt;22 -->\r\n<g id=\"edge22\" class=\"edge\"><title>20&#45;&gt;22</title>\r\n<path fill=\"none\" stroke=\"black\" d=\"M948.704,-103.726C953.901,-94.9703 959.402,-85.7032 964.625,-76.9051\"/>\r\n<polygon fill=\"black\" stroke=\"black\" points=\"967.638,-78.6853 969.733,-68.2996 961.619,-75.1121 967.638,-78.6853\"/>\r\n</g>\r\n<!-- 24 -->\r\n<g id=\"node25\" class=\"node\"><title>24</title>\r\n<path fill=\"#8139e5\" stroke=\"black\" d=\"M948.5,-417.5C948.5,-417.5 856.5,-417.5 856.5,-417.5 850.5,-417.5 844.5,-411.5 844.5,-405.5 844.5,-405.5 844.5,-361.5 844.5,-361.5 844.5,-355.5 850.5,-349.5 856.5,-349.5 856.5,-349.5 948.5,-349.5 948.5,-349.5 954.5,-349.5 960.5,-355.5 960.5,-361.5 960.5,-361.5 960.5,-405.5 960.5,-405.5 960.5,-411.5 954.5,-417.5 948.5,-417.5\"/>\r\n<text text-anchor=\"middle\" x=\"902.5\" y=\"-402.3\" font-family=\"Helvetica,sans-Serif\" font-size=\"14.00\">entropy = 0.0</text>\r\n<text text-anchor=\"middle\" x=\"902.5\" y=\"-387.3\" font-family=\"Helvetica,sans-Serif\" font-size=\"14.00\">samples = 7</text>\r\n<text text-anchor=\"middle\" x=\"902.5\" y=\"-372.3\" font-family=\"Helvetica,sans-Serif\" font-size=\"14.00\">value = [0, 0, 7]</text>\r\n<text text-anchor=\"middle\" x=\"902.5\" y=\"-357.3\" font-family=\"Helvetica,sans-Serif\" font-size=\"14.00\">class = 贝尔摩德</text>\r\n</g>\r\n<!-- 23&#45;&gt;24 -->\r\n<g id=\"edge24\" class=\"edge\"><title>23&#45;&gt;24</title>\r\n<path fill=\"none\" stroke=\"black\" d=\"M902.5,-460.907C902.5,-450.204 902.5,-438.615 902.5,-427.776\"/>\r\n<polygon fill=\"black\" stroke=\"black\" points=\"906,-427.667 902.5,-417.667 899,-427.667 906,-427.667\"/>\r\n</g>\r\n<!-- 25 -->\r\n<g id=\"node26\" class=\"node\"><title>25</title>\r\n<path fill=\"#e58139\" stroke=\"black\" d=\"M1080,-417.5C1080,-417.5 991,-417.5 991,-417.5 985,-417.5 979,-411.5 979,-405.5 979,-405.5 979,-361.5 979,-361.5 979,-355.5 985,-349.5 991,-349.5 991,-349.5 1080,-349.5 1080,-349.5 1086,-349.5 1092,-355.5 1092,-361.5 1092,-361.5 1092,-405.5 1092,-405.5 1092,-411.5 1086,-417.5 1080,-417.5\"/>\r\n<text text-anchor=\"middle\" x=\"1035.5\" y=\"-402.3\" font-family=\"Helvetica,sans-Serif\" font-size=\"14.00\">entropy = 0.0</text>\r\n<text text-anchor=\"middle\" x=\"1035.5\" y=\"-387.3\" font-family=\"Helvetica,sans-Serif\" font-size=\"14.00\">samples = 9</text>\r\n<text text-anchor=\"middle\" x=\"1035.5\" y=\"-372.3\" font-family=\"Helvetica,sans-Serif\" font-size=\"14.00\">value = [9, 0, 0]</text>\r\n<text text-anchor=\"middle\" x=\"1035.5\" y=\"-357.3\" font-family=\"Helvetica,sans-Serif\" font-size=\"14.00\">class = 琴酒</text>\r\n</g>\r\n<!-- 23&#45;&gt;25 -->\r\n<g id=\"edge25\" class=\"edge\"><title>23&#45;&gt;25</title>\r\n<path fill=\"none\" stroke=\"black\" d=\"M948.644,-460.907C962.065,-449.101 976.711,-436.217 990.087,-424.45\"/>\r\n<polygon fill=\"black\" stroke=\"black\" points=\"992.601,-426.9 997.797,-417.667 987.977,-421.644 992.601,-426.9\"/>\r\n</g>\r\n</g>\r\n</svg>\r\n"
     },
     "execution_count": 14,
     "metadata": {},
     "output_type": "execute_result"
    }
   ]
  },
  {
   "cell_type": "code",
   "execution_count": 15,
   "outputs": [
    {
     "data": {
      "text/plain": "array([0.21681424, 0.01681827, 0.        , 0.        , 0.05116638,\n       0.        , 0.15045297, 0.        , 0.20304776, 0.        ,\n       0.07114707, 0.01681827, 0.27373503])"
     },
     "execution_count": 15,
     "metadata": {},
     "output_type": "execute_result"
    }
   ],
   "source": [
    "clf.feature_importances_"
   ],
   "metadata": {
    "collapsed": false,
    "pycharm": {
     "name": "#%%\n"
    }
   }
  },
  {
   "cell_type": "code",
   "execution_count": 16,
   "outputs": [
    {
     "data": {
      "text/plain": "[('alcohol', 0.21681423803886388),\n ('malic_acid', 0.016818274245519255),\n ('ash', 0.0),\n ('alcalinity_of_ash', 0.0),\n ('magnesium', 0.05116638427254896),\n ('total_phenols', 0.0),\n ('flavanoids', 0.1504529735919711),\n ('nonflavanoid_phenols', 0.0),\n ('proanthocyanins', 0.20304775772097192),\n ('color_intensity', 0.0),\n ('hue', 0.07114706977808809),\n ('od280/od315_of_diluted_wines', 0.016818274245519255),\n ('proline', 0.27373502810651745)]"
     },
     "execution_count": 16,
     "metadata": {},
     "output_type": "execute_result"
    }
   ],
   "source": [
    "[*zip(wine.feature_names,clf.feature_importances_)]"
   ],
   "metadata": {
    "collapsed": false,
    "pycharm": {
     "name": "#%%\n"
    }
   }
  },
  {
   "cell_type": "markdown",
   "source": [
    "#剪枝"
   ],
   "metadata": {
    "collapsed": false
   }
  },
  {
   "cell_type": "code",
   "execution_count": 17,
   "outputs": [
    {
     "data": {
      "text/plain": "<graphviz.files.Source at 0x208af639708>",
      "image/svg+xml": "<?xml version=\"1.0\" encoding=\"UTF-8\" standalone=\"no\"?>\r\n<!DOCTYPE svg PUBLIC \"-//W3C//DTD SVG 1.1//EN\"\r\n \"http://www.w3.org/Graphics/SVG/1.1/DTD/svg11.dtd\">\r\n<!-- Generated by graphviz version 2.38.0 (20140413.2041)\r\n -->\r\n<!-- Title: Tree Pages: 1 -->\r\n<svg width=\"1028pt\" height=\"671pt\"\r\n viewBox=\"0.00 0.00 1028.00 671.00\" xmlns=\"http://www.w3.org/2000/svg\" xmlns:xlink=\"http://www.w3.org/1999/xlink\">\r\n<g id=\"graph0\" class=\"graph\" transform=\"scale(1 1) rotate(0) translate(4 667)\">\r\n<title>Tree</title>\r\n<polygon fill=\"white\" stroke=\"none\" points=\"-4,4 -4,-667 1024,-667 1024,4 -4,4\"/>\r\n<!-- 0 -->\r\n<g id=\"node1\" class=\"node\"><title>0</title>\r\n<path fill=\"#fafefc\" stroke=\"black\" d=\"M505,-663C505,-663 392,-663 392,-663 386,-663 380,-657 380,-651 380,-651 380,-592 380,-592 380,-586 386,-580 392,-580 392,-580 505,-580 505,-580 511,-580 517,-586 517,-592 517,-592 517,-651 517,-651 517,-657 511,-663 505,-663\"/>\r\n<text text-anchor=\"middle\" x=\"448.5\" y=\"-647.8\" font-family=\"Helvetica,sans-Serif\" font-size=\"14.00\">hue &lt;= 0.893</text>\r\n<text text-anchor=\"middle\" x=\"448.5\" y=\"-632.8\" font-family=\"Helvetica,sans-Serif\" font-size=\"14.00\">entropy = 1.556</text>\r\n<text text-anchor=\"middle\" x=\"448.5\" y=\"-617.8\" font-family=\"Helvetica,sans-Serif\" font-size=\"14.00\">samples = 124</text>\r\n<text text-anchor=\"middle\" x=\"448.5\" y=\"-602.8\" font-family=\"Helvetica,sans-Serif\" font-size=\"14.00\">value = [46, 48, 30]</text>\r\n<text text-anchor=\"middle\" x=\"448.5\" y=\"-587.8\" font-family=\"Helvetica,sans-Serif\" font-size=\"14.00\">class = 雪梨</text>\r\n</g>\r\n<!-- 1 -->\r\n<g id=\"node2\" class=\"node\"><title>1</title>\r\n<path fill=\"#c09cf2\" stroke=\"black\" d=\"M427,-544C427,-544 322,-544 322,-544 316,-544 310,-538 310,-532 310,-532 310,-473 310,-473 310,-467 316,-461 322,-461 322,-461 427,-461 427,-461 433,-461 439,-467 439,-473 439,-473 439,-532 439,-532 439,-538 433,-544 427,-544\"/>\r\n<text text-anchor=\"middle\" x=\"374.5\" y=\"-528.8\" font-family=\"Helvetica,sans-Serif\" font-size=\"14.00\">hue &lt;= 0.77</text>\r\n<text text-anchor=\"middle\" x=\"374.5\" y=\"-513.8\" font-family=\"Helvetica,sans-Serif\" font-size=\"14.00\">entropy = 1.31</text>\r\n<text text-anchor=\"middle\" x=\"374.5\" y=\"-498.8\" font-family=\"Helvetica,sans-Serif\" font-size=\"14.00\">samples = 45</text>\r\n<text text-anchor=\"middle\" x=\"374.5\" y=\"-483.8\" font-family=\"Helvetica,sans-Serif\" font-size=\"14.00\">value = [6, 11, 28]</text>\r\n<text text-anchor=\"middle\" x=\"374.5\" y=\"-468.8\" font-family=\"Helvetica,sans-Serif\" font-size=\"14.00\">class = 贝尔摩德</text>\r\n</g>\r\n<!-- 0&#45;&gt;1 -->\r\n<g id=\"edge1\" class=\"edge\"><title>0&#45;&gt;1</title>\r\n<path fill=\"none\" stroke=\"black\" d=\"M422.826,-579.907C417.258,-571.105 411.312,-561.703 405.562,-552.612\"/>\r\n<polygon fill=\"black\" stroke=\"black\" points=\"408.432,-550.601 400.129,-544.021 402.516,-554.343 408.432,-550.601\"/>\r\n<text text-anchor=\"middle\" x=\"394.638\" y=\"-564.71\" font-family=\"Helvetica,sans-Serif\" font-size=\"14.00\">True</text>\r\n</g>\r\n<!-- 14 -->\r\n<g id=\"node15\" class=\"node\"><title>14</title>\r\n<path fill=\"#fdf6f1\" stroke=\"black\" d=\"M577,-544C577,-544 470,-544 470,-544 464,-544 458,-538 458,-532 458,-532 458,-473 458,-473 458,-467 464,-461 470,-461 470,-461 577,-461 577,-461 583,-461 589,-467 589,-473 589,-473 589,-532 589,-532 589,-538 583,-544 577,-544\"/>\r\n<text text-anchor=\"middle\" x=\"523.5\" y=\"-528.8\" font-family=\"Helvetica,sans-Serif\" font-size=\"14.00\">alcohol &lt;= 12.575</text>\r\n<text text-anchor=\"middle\" x=\"523.5\" y=\"-513.8\" font-family=\"Helvetica,sans-Serif\" font-size=\"14.00\">entropy = 1.144</text>\r\n<text text-anchor=\"middle\" x=\"523.5\" y=\"-498.8\" font-family=\"Helvetica,sans-Serif\" font-size=\"14.00\">samples = 79</text>\r\n<text text-anchor=\"middle\" x=\"523.5\" y=\"-483.8\" font-family=\"Helvetica,sans-Serif\" font-size=\"14.00\">value = [40, 37, 2]</text>\r\n<text text-anchor=\"middle\" x=\"523.5\" y=\"-468.8\" font-family=\"Helvetica,sans-Serif\" font-size=\"14.00\">class = 琴酒</text>\r\n</g>\r\n<!-- 0&#45;&gt;14 -->\r\n<g id=\"edge14\" class=\"edge\"><title>0&#45;&gt;14</title>\r\n<path fill=\"none\" stroke=\"black\" d=\"M474.521,-579.907C480.164,-571.105 486.19,-561.703 492.018,-552.612\"/>\r\n<polygon fill=\"black\" stroke=\"black\" points=\"495.075,-554.328 497.525,-544.021 489.182,-550.551 495.075,-554.328\"/>\r\n<text text-anchor=\"middle\" x=\"502.868\" y=\"-564.743\" font-family=\"Helvetica,sans-Serif\" font-size=\"14.00\">False</text>\r\n</g>\r\n<!-- 2 -->\r\n<g id=\"node3\" class=\"node\"><title>2</title>\r\n<path fill=\"#9152e8\" stroke=\"black\" d=\"M273.5,-425C273.5,-425 129.5,-425 129.5,-425 123.5,-425 117.5,-419 117.5,-413 117.5,-413 117.5,-354 117.5,-354 117.5,-348 123.5,-342 129.5,-342 129.5,-342 273.5,-342 273.5,-342 279.5,-342 285.5,-348 285.5,-354 285.5,-354 285.5,-413 285.5,-413 285.5,-419 279.5,-425 273.5,-425\"/>\r\n<text text-anchor=\"middle\" x=\"201.5\" y=\"-409.8\" font-family=\"Helvetica,sans-Serif\" font-size=\"14.00\">color_intensity &lt;= 4.632</text>\r\n<text text-anchor=\"middle\" x=\"201.5\" y=\"-394.8\" font-family=\"Helvetica,sans-Serif\" font-size=\"14.00\">entropy = 0.503</text>\r\n<text text-anchor=\"middle\" x=\"201.5\" y=\"-379.8\" font-family=\"Helvetica,sans-Serif\" font-size=\"14.00\">samples = 27</text>\r\n<text text-anchor=\"middle\" x=\"201.5\" y=\"-364.8\" font-family=\"Helvetica,sans-Serif\" font-size=\"14.00\">value = [0, 3, 24]</text>\r\n<text text-anchor=\"middle\" x=\"201.5\" y=\"-349.8\" font-family=\"Helvetica,sans-Serif\" font-size=\"14.00\">class = 贝尔摩德</text>\r\n</g>\r\n<!-- 1&#45;&gt;2 -->\r\n<g id=\"edge2\" class=\"edge\"><title>1&#45;&gt;2</title>\r\n<path fill=\"none\" stroke=\"black\" d=\"M314.479,-460.907C300.12,-451.197 284.685,-440.758 269.977,-430.811\"/>\r\n<polygon fill=\"black\" stroke=\"black\" points=\"271.66,-427.724 261.415,-425.021 267.738,-433.522 271.66,-427.724\"/>\r\n</g>\r\n<!-- 7 -->\r\n<g id=\"node8\" class=\"node\"><title>7</title>\r\n<path fill=\"#defbea\" stroke=\"black\" d=\"M433,-425C433,-425 316,-425 316,-425 310,-425 304,-419 304,-413 304,-413 304,-354 304,-354 304,-348 310,-342 316,-342 316,-342 433,-342 433,-342 439,-342 445,-348 445,-354 445,-354 445,-413 445,-413 445,-419 439,-425 433,-425\"/>\r\n<text text-anchor=\"middle\" x=\"374.5\" y=\"-409.8\" font-family=\"Helvetica,sans-Serif\" font-size=\"14.00\">flavanoids &lt;= 1.518</text>\r\n<text text-anchor=\"middle\" x=\"374.5\" y=\"-394.8\" font-family=\"Helvetica,sans-Serif\" font-size=\"14.00\">entropy = 1.53</text>\r\n<text text-anchor=\"middle\" x=\"374.5\" y=\"-379.8\" font-family=\"Helvetica,sans-Serif\" font-size=\"14.00\">samples = 18</text>\r\n<text text-anchor=\"middle\" x=\"374.5\" y=\"-364.8\" font-family=\"Helvetica,sans-Serif\" font-size=\"14.00\">value = [6, 8, 4]</text>\r\n<text text-anchor=\"middle\" x=\"374.5\" y=\"-349.8\" font-family=\"Helvetica,sans-Serif\" font-size=\"14.00\">class = 雪梨</text>\r\n</g>\r\n<!-- 1&#45;&gt;7 -->\r\n<g id=\"edge7\" class=\"edge\"><title>1&#45;&gt;7</title>\r\n<path fill=\"none\" stroke=\"black\" d=\"M374.5,-460.907C374.5,-452.649 374.5,-443.864 374.5,-435.302\"/>\r\n<polygon fill=\"black\" stroke=\"black\" points=\"378,-435.021 374.5,-425.021 371,-435.021 378,-435.021\"/>\r\n</g>\r\n<!-- 3 -->\r\n<g id=\"node4\" class=\"node\"><title>3</title>\r\n<path fill=\"#e0cef8\" stroke=\"black\" d=\"M126,-306C126,-306 13,-306 13,-306 7,-306 1,-300 1,-294 1,-294 1,-235 1,-235 1,-229 7,-223 13,-223 13,-223 126,-223 126,-223 132,-223 138,-229 138,-235 138,-235 138,-294 138,-294 138,-300 132,-306 126,-306\"/>\r\n<text text-anchor=\"middle\" x=\"69.5\" y=\"-290.8\" font-family=\"Helvetica,sans-Serif\" font-size=\"14.00\">proline &lt;= 572.714</text>\r\n<text text-anchor=\"middle\" x=\"69.5\" y=\"-275.8\" font-family=\"Helvetica,sans-Serif\" font-size=\"14.00\">entropy = 0.985</text>\r\n<text text-anchor=\"middle\" x=\"69.5\" y=\"-260.8\" font-family=\"Helvetica,sans-Serif\" font-size=\"14.00\">samples = 7</text>\r\n<text text-anchor=\"middle\" x=\"69.5\" y=\"-245.8\" font-family=\"Helvetica,sans-Serif\" font-size=\"14.00\">value = [0, 3, 4]</text>\r\n<text text-anchor=\"middle\" x=\"69.5\" y=\"-230.8\" font-family=\"Helvetica,sans-Serif\" font-size=\"14.00\">class = 贝尔摩德</text>\r\n</g>\r\n<!-- 2&#45;&gt;3 -->\r\n<g id=\"edge3\" class=\"edge\"><title>2&#45;&gt;3</title>\r\n<path fill=\"none\" stroke=\"black\" d=\"M155.703,-341.907C145.158,-332.56 133.85,-322.538 123.009,-312.929\"/>\r\n<polygon fill=\"black\" stroke=\"black\" points=\"125.021,-310.035 115.216,-306.021 120.378,-315.273 125.021,-310.035\"/>\r\n</g>\r\n<!-- 6 -->\r\n<g id=\"node7\" class=\"node\"><title>6</title>\r\n<path fill=\"#8139e5\" stroke=\"black\" d=\"M265,-298.5C265,-298.5 168,-298.5 168,-298.5 162,-298.5 156,-292.5 156,-286.5 156,-286.5 156,-242.5 156,-242.5 156,-236.5 162,-230.5 168,-230.5 168,-230.5 265,-230.5 265,-230.5 271,-230.5 277,-236.5 277,-242.5 277,-242.5 277,-286.5 277,-286.5 277,-292.5 271,-298.5 265,-298.5\"/>\r\n<text text-anchor=\"middle\" x=\"216.5\" y=\"-283.3\" font-family=\"Helvetica,sans-Serif\" font-size=\"14.00\">entropy = 0.0</text>\r\n<text text-anchor=\"middle\" x=\"216.5\" y=\"-268.3\" font-family=\"Helvetica,sans-Serif\" font-size=\"14.00\">samples = 20</text>\r\n<text text-anchor=\"middle\" x=\"216.5\" y=\"-253.3\" font-family=\"Helvetica,sans-Serif\" font-size=\"14.00\">value = [0, 0, 20]</text>\r\n<text text-anchor=\"middle\" x=\"216.5\" y=\"-238.3\" font-family=\"Helvetica,sans-Serif\" font-size=\"14.00\">class = 贝尔摩德</text>\r\n</g>\r\n<!-- 2&#45;&gt;6 -->\r\n<g id=\"edge6\" class=\"edge\"><title>2&#45;&gt;6</title>\r\n<path fill=\"none\" stroke=\"black\" d=\"M206.704,-341.907C208.076,-331.204 209.562,-319.615 210.952,-308.776\"/>\r\n<polygon fill=\"black\" stroke=\"black\" points=\"214.448,-309.031 212.248,-298.667 207.505,-308.141 214.448,-309.031\"/>\r\n</g>\r\n<!-- 4 -->\r\n<g id=\"node5\" class=\"node\"><title>4</title>\r\n<path fill=\"#39e581\" stroke=\"black\" d=\"M101,-179.5C101,-179.5 12,-179.5 12,-179.5 6,-179.5 0,-173.5 0,-167.5 0,-167.5 0,-123.5 0,-123.5 0,-117.5 6,-111.5 12,-111.5 12,-111.5 101,-111.5 101,-111.5 107,-111.5 113,-117.5 113,-123.5 113,-123.5 113,-167.5 113,-167.5 113,-173.5 107,-179.5 101,-179.5\"/>\r\n<text text-anchor=\"middle\" x=\"56.5\" y=\"-164.3\" font-family=\"Helvetica,sans-Serif\" font-size=\"14.00\">entropy = 0.0</text>\r\n<text text-anchor=\"middle\" x=\"56.5\" y=\"-149.3\" font-family=\"Helvetica,sans-Serif\" font-size=\"14.00\">samples = 3</text>\r\n<text text-anchor=\"middle\" x=\"56.5\" y=\"-134.3\" font-family=\"Helvetica,sans-Serif\" font-size=\"14.00\">value = [0, 3, 0]</text>\r\n<text text-anchor=\"middle\" x=\"56.5\" y=\"-119.3\" font-family=\"Helvetica,sans-Serif\" font-size=\"14.00\">class = 雪梨</text>\r\n</g>\r\n<!-- 3&#45;&gt;4 -->\r\n<g id=\"edge4\" class=\"edge\"><title>3&#45;&gt;4</title>\r\n<path fill=\"none\" stroke=\"black\" d=\"M64.9897,-222.907C63.8004,-212.204 62.5128,-200.615 61.3085,-189.776\"/>\r\n<polygon fill=\"black\" stroke=\"black\" points=\"64.7682,-189.219 60.1852,-179.667 57.811,-189.992 64.7682,-189.219\"/>\r\n</g>\r\n<!-- 5 -->\r\n<g id=\"node6\" class=\"node\"><title>5</title>\r\n<path fill=\"#8139e5\" stroke=\"black\" d=\"M235.5,-179.5C235.5,-179.5 143.5,-179.5 143.5,-179.5 137.5,-179.5 131.5,-173.5 131.5,-167.5 131.5,-167.5 131.5,-123.5 131.5,-123.5 131.5,-117.5 137.5,-111.5 143.5,-111.5 143.5,-111.5 235.5,-111.5 235.5,-111.5 241.5,-111.5 247.5,-117.5 247.5,-123.5 247.5,-123.5 247.5,-167.5 247.5,-167.5 247.5,-173.5 241.5,-179.5 235.5,-179.5\"/>\r\n<text text-anchor=\"middle\" x=\"189.5\" y=\"-164.3\" font-family=\"Helvetica,sans-Serif\" font-size=\"14.00\">entropy = 0.0</text>\r\n<text text-anchor=\"middle\" x=\"189.5\" y=\"-149.3\" font-family=\"Helvetica,sans-Serif\" font-size=\"14.00\">samples = 4</text>\r\n<text text-anchor=\"middle\" x=\"189.5\" y=\"-134.3\" font-family=\"Helvetica,sans-Serif\" font-size=\"14.00\">value = [0, 0, 4]</text>\r\n<text text-anchor=\"middle\" x=\"189.5\" y=\"-119.3\" font-family=\"Helvetica,sans-Serif\" font-size=\"14.00\">class = 贝尔摩德</text>\r\n</g>\r\n<!-- 3&#45;&gt;5 -->\r\n<g id=\"edge5\" class=\"edge\"><title>3&#45;&gt;5</title>\r\n<path fill=\"none\" stroke=\"black\" d=\"M111.133,-222.907C123.13,-211.211 136.21,-198.457 148.187,-186.78\"/>\r\n<polygon fill=\"black\" stroke=\"black\" points=\"150.766,-189.154 155.483,-179.667 145.879,-184.142 150.766,-189.154\"/>\r\n</g>\r\n<!-- 8 -->\r\n<g id=\"node9\" class=\"node\"><title>8</title>\r\n<path fill=\"#8139e5\" stroke=\"black\" d=\"M406.5,-298.5C406.5,-298.5 314.5,-298.5 314.5,-298.5 308.5,-298.5 302.5,-292.5 302.5,-286.5 302.5,-286.5 302.5,-242.5 302.5,-242.5 302.5,-236.5 308.5,-230.5 314.5,-230.5 314.5,-230.5 406.5,-230.5 406.5,-230.5 412.5,-230.5 418.5,-236.5 418.5,-242.5 418.5,-242.5 418.5,-286.5 418.5,-286.5 418.5,-292.5 412.5,-298.5 406.5,-298.5\"/>\r\n<text text-anchor=\"middle\" x=\"360.5\" y=\"-283.3\" font-family=\"Helvetica,sans-Serif\" font-size=\"14.00\">entropy = 0.0</text>\r\n<text text-anchor=\"middle\" x=\"360.5\" y=\"-268.3\" font-family=\"Helvetica,sans-Serif\" font-size=\"14.00\">samples = 4</text>\r\n<text text-anchor=\"middle\" x=\"360.5\" y=\"-253.3\" font-family=\"Helvetica,sans-Serif\" font-size=\"14.00\">value = [0, 0, 4]</text>\r\n<text text-anchor=\"middle\" x=\"360.5\" y=\"-238.3\" font-family=\"Helvetica,sans-Serif\" font-size=\"14.00\">class = 贝尔摩德</text>\r\n</g>\r\n<!-- 7&#45;&gt;8 -->\r\n<g id=\"edge8\" class=\"edge\"><title>7&#45;&gt;8</title>\r\n<path fill=\"none\" stroke=\"black\" d=\"M369.643,-341.907C368.362,-331.204 366.975,-319.615 365.678,-308.776\"/>\r\n<polygon fill=\"black\" stroke=\"black\" points=\"369.132,-308.18 364.469,-298.667 362.182,-309.012 369.132,-308.18\"/>\r\n</g>\r\n<!-- 9 -->\r\n<g id=\"node10\" class=\"node\"><title>9</title>\r\n<path fill=\"#cef8e0\" stroke=\"black\" d=\"M562,-306C562,-306 449,-306 449,-306 443,-306 437,-300 437,-294 437,-294 437,-235 437,-235 437,-229 443,-223 449,-223 449,-223 562,-223 562,-223 568,-223 574,-229 574,-235 574,-235 574,-294 574,-294 574,-300 568,-306 562,-306\"/>\r\n<text text-anchor=\"middle\" x=\"505.5\" y=\"-290.8\" font-family=\"Helvetica,sans-Serif\" font-size=\"14.00\">proline &lt;= 783.818</text>\r\n<text text-anchor=\"middle\" x=\"505.5\" y=\"-275.8\" font-family=\"Helvetica,sans-Serif\" font-size=\"14.00\">entropy = 0.985</text>\r\n<text text-anchor=\"middle\" x=\"505.5\" y=\"-260.8\" font-family=\"Helvetica,sans-Serif\" font-size=\"14.00\">samples = 14</text>\r\n<text text-anchor=\"middle\" x=\"505.5\" y=\"-245.8\" font-family=\"Helvetica,sans-Serif\" font-size=\"14.00\">value = [6, 8, 0]</text>\r\n<text text-anchor=\"middle\" x=\"505.5\" y=\"-230.8\" font-family=\"Helvetica,sans-Serif\" font-size=\"14.00\">class = 雪梨</text>\r\n</g>\r\n<!-- 7&#45;&gt;9 -->\r\n<g id=\"edge9\" class=\"edge\"><title>7&#45;&gt;9</title>\r\n<path fill=\"none\" stroke=\"black\" d=\"M419.95,-341.907C430.416,-332.56 441.637,-322.538 452.396,-312.929\"/>\r\n<polygon fill=\"black\" stroke=\"black\" points=\"455.004,-315.293 460.131,-306.021 450.341,-310.072 455.004,-315.293\"/>\r\n</g>\r\n<!-- 10 -->\r\n<g id=\"node11\" class=\"node\"><title>10</title>\r\n<path fill=\"#6aeca0\" stroke=\"black\" d=\"M426,-187C426,-187 283,-187 283,-187 277,-187 271,-181 271,-175 271,-175 271,-116 271,-116 271,-110 277,-104 283,-104 283,-104 426,-104 426,-104 432,-104 438,-110 438,-116 438,-116 438,-175 438,-175 438,-181 432,-187 426,-187\"/>\r\n<text text-anchor=\"middle\" x=\"354.5\" y=\"-171.8\" font-family=\"Helvetica,sans-Serif\" font-size=\"14.00\">magnesium &lt;= 100.043</text>\r\n<text text-anchor=\"middle\" x=\"354.5\" y=\"-156.8\" font-family=\"Helvetica,sans-Serif\" font-size=\"14.00\">entropy = 0.722</text>\r\n<text text-anchor=\"middle\" x=\"354.5\" y=\"-141.8\" font-family=\"Helvetica,sans-Serif\" font-size=\"14.00\">samples = 10</text>\r\n<text text-anchor=\"middle\" x=\"354.5\" y=\"-126.8\" font-family=\"Helvetica,sans-Serif\" font-size=\"14.00\">value = [2, 8, 0]</text>\r\n<text text-anchor=\"middle\" x=\"354.5\" y=\"-111.8\" font-family=\"Helvetica,sans-Serif\" font-size=\"14.00\">class = 雪梨</text>\r\n</g>\r\n<!-- 9&#45;&gt;10 -->\r\n<g id=\"edge10\" class=\"edge\"><title>9&#45;&gt;10</title>\r\n<path fill=\"none\" stroke=\"black\" d=\"M453.111,-222.907C440.813,-213.379 427.61,-203.148 414.99,-193.37\"/>\r\n<polygon fill=\"black\" stroke=\"black\" points=\"416.845,-190.379 406.796,-187.021 412.557,-195.912 416.845,-190.379\"/>\r\n</g>\r\n<!-- 13 -->\r\n<g id=\"node14\" class=\"node\"><title>13</title>\r\n<path fill=\"#e58139\" stroke=\"black\" d=\"M557,-179.5C557,-179.5 468,-179.5 468,-179.5 462,-179.5 456,-173.5 456,-167.5 456,-167.5 456,-123.5 456,-123.5 456,-117.5 462,-111.5 468,-111.5 468,-111.5 557,-111.5 557,-111.5 563,-111.5 569,-117.5 569,-123.5 569,-123.5 569,-167.5 569,-167.5 569,-173.5 563,-179.5 557,-179.5\"/>\r\n<text text-anchor=\"middle\" x=\"512.5\" y=\"-164.3\" font-family=\"Helvetica,sans-Serif\" font-size=\"14.00\">entropy = 0.0</text>\r\n<text text-anchor=\"middle\" x=\"512.5\" y=\"-149.3\" font-family=\"Helvetica,sans-Serif\" font-size=\"14.00\">samples = 4</text>\r\n<text text-anchor=\"middle\" x=\"512.5\" y=\"-134.3\" font-family=\"Helvetica,sans-Serif\" font-size=\"14.00\">value = [4, 0, 0]</text>\r\n<text text-anchor=\"middle\" x=\"512.5\" y=\"-119.3\" font-family=\"Helvetica,sans-Serif\" font-size=\"14.00\">class = 琴酒</text>\r\n</g>\r\n<!-- 9&#45;&gt;13 -->\r\n<g id=\"edge13\" class=\"edge\"><title>9&#45;&gt;13</title>\r\n<path fill=\"none\" stroke=\"black\" d=\"M507.929,-222.907C508.569,-212.204 509.262,-200.615 509.911,-189.776\"/>\r\n<polygon fill=\"black\" stroke=\"black\" points=\"513.412,-189.858 510.516,-179.667 506.425,-189.44 513.412,-189.858\"/>\r\n</g>\r\n<!-- 11 -->\r\n<g id=\"node12\" class=\"node\"><title>11</title>\r\n<path fill=\"#39e581\" stroke=\"black\" d=\"M333,-68C333,-68 244,-68 244,-68 238,-68 232,-62 232,-56 232,-56 232,-12 232,-12 232,-6 238,-0 244,-0 244,-0 333,-0 333,-0 339,-0 345,-6 345,-12 345,-12 345,-56 345,-56 345,-62 339,-68 333,-68\"/>\r\n<text text-anchor=\"middle\" x=\"288.5\" y=\"-52.8\" font-family=\"Helvetica,sans-Serif\" font-size=\"14.00\">entropy = 0.0</text>\r\n<text text-anchor=\"middle\" x=\"288.5\" y=\"-37.8\" font-family=\"Helvetica,sans-Serif\" font-size=\"14.00\">samples = 8</text>\r\n<text text-anchor=\"middle\" x=\"288.5\" y=\"-22.8\" font-family=\"Helvetica,sans-Serif\" font-size=\"14.00\">value = [0, 8, 0]</text>\r\n<text text-anchor=\"middle\" x=\"288.5\" y=\"-7.8\" font-family=\"Helvetica,sans-Serif\" font-size=\"14.00\">class = 雪梨</text>\r\n</g>\r\n<!-- 10&#45;&gt;11 -->\r\n<g id=\"edge11\" class=\"edge\"><title>10&#45;&gt;11</title>\r\n<path fill=\"none\" stroke=\"black\" d=\"M329.924,-103.726C324.646,-94.9703 319.061,-85.7032 313.758,-76.9051\"/>\r\n<polygon fill=\"black\" stroke=\"black\" points=\"316.731,-75.0574 308.571,-68.2996 310.736,-78.671 316.731,-75.0574\"/>\r\n</g>\r\n<!-- 12 -->\r\n<g id=\"node13\" class=\"node\"><title>12</title>\r\n<path fill=\"#e58139\" stroke=\"black\" d=\"M464,-68C464,-68 375,-68 375,-68 369,-68 363,-62 363,-56 363,-56 363,-12 363,-12 363,-6 369,-0 375,-0 375,-0 464,-0 464,-0 470,-0 476,-6 476,-12 476,-12 476,-56 476,-56 476,-62 470,-68 464,-68\"/>\r\n<text text-anchor=\"middle\" x=\"419.5\" y=\"-52.8\" font-family=\"Helvetica,sans-Serif\" font-size=\"14.00\">entropy = 0.0</text>\r\n<text text-anchor=\"middle\" x=\"419.5\" y=\"-37.8\" font-family=\"Helvetica,sans-Serif\" font-size=\"14.00\">samples = 2</text>\r\n<text text-anchor=\"middle\" x=\"419.5\" y=\"-22.8\" font-family=\"Helvetica,sans-Serif\" font-size=\"14.00\">value = [2, 0, 0]</text>\r\n<text text-anchor=\"middle\" x=\"419.5\" y=\"-7.8\" font-family=\"Helvetica,sans-Serif\" font-size=\"14.00\">class = 琴酒</text>\r\n</g>\r\n<!-- 10&#45;&gt;12 -->\r\n<g id=\"edge12\" class=\"edge\"><title>10&#45;&gt;12</title>\r\n<path fill=\"none\" stroke=\"black\" d=\"M378.704,-103.726C383.901,-94.9703 389.402,-85.7032 394.625,-76.9051\"/>\r\n<polygon fill=\"black\" stroke=\"black\" points=\"397.638,-78.6853 399.733,-68.2996 391.619,-75.1121 397.638,-78.6853\"/>\r\n</g>\r\n<!-- 15 -->\r\n<g id=\"node16\" class=\"node\"><title>15</title>\r\n<path fill=\"#39e581\" stroke=\"black\" d=\"M572,-417.5C572,-417.5 475,-417.5 475,-417.5 469,-417.5 463,-411.5 463,-405.5 463,-405.5 463,-361.5 463,-361.5 463,-355.5 469,-349.5 475,-349.5 475,-349.5 572,-349.5 572,-349.5 578,-349.5 584,-355.5 584,-361.5 584,-361.5 584,-405.5 584,-405.5 584,-411.5 578,-417.5 572,-417.5\"/>\r\n<text text-anchor=\"middle\" x=\"523.5\" y=\"-402.3\" font-family=\"Helvetica,sans-Serif\" font-size=\"14.00\">entropy = 0.0</text>\r\n<text text-anchor=\"middle\" x=\"523.5\" y=\"-387.3\" font-family=\"Helvetica,sans-Serif\" font-size=\"14.00\">samples = 31</text>\r\n<text text-anchor=\"middle\" x=\"523.5\" y=\"-372.3\" font-family=\"Helvetica,sans-Serif\" font-size=\"14.00\">value = [0, 31, 0]</text>\r\n<text text-anchor=\"middle\" x=\"523.5\" y=\"-357.3\" font-family=\"Helvetica,sans-Serif\" font-size=\"14.00\">class = 雪梨</text>\r\n</g>\r\n<!-- 14&#45;&gt;15 -->\r\n<g id=\"edge15\" class=\"edge\"><title>14&#45;&gt;15</title>\r\n<path fill=\"none\" stroke=\"black\" d=\"M523.5,-460.907C523.5,-450.204 523.5,-438.615 523.5,-427.776\"/>\r\n<polygon fill=\"black\" stroke=\"black\" points=\"527,-427.667 523.5,-417.667 520,-427.667 527,-427.667\"/>\r\n</g>\r\n<!-- 16 -->\r\n<g id=\"node17\" class=\"node\"><title>16</title>\r\n<path fill=\"#ea995f\" stroke=\"black\" d=\"M758.5,-425C758.5,-425 614.5,-425 614.5,-425 608.5,-425 602.5,-419 602.5,-413 602.5,-413 602.5,-354 602.5,-354 602.5,-348 608.5,-342 614.5,-342 614.5,-342 758.5,-342 758.5,-342 764.5,-342 770.5,-348 770.5,-354 770.5,-354 770.5,-413 770.5,-413 770.5,-419 764.5,-425 758.5,-425\"/>\r\n<text text-anchor=\"middle\" x=\"686.5\" y=\"-409.8\" font-family=\"Helvetica,sans-Serif\" font-size=\"14.00\">color_intensity &lt;= 3.497</text>\r\n<text text-anchor=\"middle\" x=\"686.5\" y=\"-394.8\" font-family=\"Helvetica,sans-Serif\" font-size=\"14.00\">entropy = 0.785</text>\r\n<text text-anchor=\"middle\" x=\"686.5\" y=\"-379.8\" font-family=\"Helvetica,sans-Serif\" font-size=\"14.00\">samples = 48</text>\r\n<text text-anchor=\"middle\" x=\"686.5\" y=\"-364.8\" font-family=\"Helvetica,sans-Serif\" font-size=\"14.00\">value = [40, 6, 2]</text>\r\n<text text-anchor=\"middle\" x=\"686.5\" y=\"-349.8\" font-family=\"Helvetica,sans-Serif\" font-size=\"14.00\">class = 琴酒</text>\r\n</g>\r\n<!-- 14&#45;&gt;16 -->\r\n<g id=\"edge16\" class=\"edge\"><title>14&#45;&gt;16</title>\r\n<path fill=\"none\" stroke=\"black\" d=\"M580.052,-460.907C593.454,-451.288 607.851,-440.953 621.592,-431.09\"/>\r\n<polygon fill=\"black\" stroke=\"black\" points=\"623.965,-433.695 630.048,-425.021 619.883,-428.009 623.965,-433.695\"/>\r\n</g>\r\n<!-- 17 -->\r\n<g id=\"node18\" class=\"node\"><title>17</title>\r\n<path fill=\"#39e581\" stroke=\"black\" d=\"M719,-298.5C719,-298.5 630,-298.5 630,-298.5 624,-298.5 618,-292.5 618,-286.5 618,-286.5 618,-242.5 618,-242.5 618,-236.5 624,-230.5 630,-230.5 630,-230.5 719,-230.5 719,-230.5 725,-230.5 731,-236.5 731,-242.5 731,-242.5 731,-286.5 731,-286.5 731,-292.5 725,-298.5 719,-298.5\"/>\r\n<text text-anchor=\"middle\" x=\"674.5\" y=\"-283.3\" font-family=\"Helvetica,sans-Serif\" font-size=\"14.00\">entropy = 0.0</text>\r\n<text text-anchor=\"middle\" x=\"674.5\" y=\"-268.3\" font-family=\"Helvetica,sans-Serif\" font-size=\"14.00\">samples = 4</text>\r\n<text text-anchor=\"middle\" x=\"674.5\" y=\"-253.3\" font-family=\"Helvetica,sans-Serif\" font-size=\"14.00\">value = [0, 4, 0]</text>\r\n<text text-anchor=\"middle\" x=\"674.5\" y=\"-238.3\" font-family=\"Helvetica,sans-Serif\" font-size=\"14.00\">class = 雪梨</text>\r\n</g>\r\n<!-- 16&#45;&gt;17 -->\r\n<g id=\"edge17\" class=\"edge\"><title>16&#45;&gt;17</title>\r\n<path fill=\"none\" stroke=\"black\" d=\"M682.337,-341.907C681.239,-331.204 680.05,-319.615 678.939,-308.776\"/>\r\n<polygon fill=\"black\" stroke=\"black\" points=\"682.404,-308.258 677.902,-298.667 675.44,-308.972 682.404,-308.258\"/>\r\n</g>\r\n<!-- 18 -->\r\n<g id=\"node19\" class=\"node\"><title>18</title>\r\n<path fill=\"#e78d4c\" stroke=\"black\" d=\"M878,-306C878,-306 761,-306 761,-306 755,-306 749,-300 749,-294 749,-294 749,-235 749,-235 749,-229 755,-223 761,-223 761,-223 878,-223 878,-223 884,-223 890,-229 890,-235 890,-235 890,-294 890,-294 890,-300 884,-306 878,-306\"/>\r\n<text text-anchor=\"middle\" x=\"819.5\" y=\"-290.8\" font-family=\"Helvetica,sans-Serif\" font-size=\"14.00\">flavanoids &lt;= 1.259</text>\r\n<text text-anchor=\"middle\" x=\"819.5\" y=\"-275.8\" font-family=\"Helvetica,sans-Serif\" font-size=\"14.00\">entropy = 0.53</text>\r\n<text text-anchor=\"middle\" x=\"819.5\" y=\"-260.8\" font-family=\"Helvetica,sans-Serif\" font-size=\"14.00\">samples = 44</text>\r\n<text text-anchor=\"middle\" x=\"819.5\" y=\"-245.8\" font-family=\"Helvetica,sans-Serif\" font-size=\"14.00\">value = [40, 2, 2]</text>\r\n<text text-anchor=\"middle\" x=\"819.5\" y=\"-230.8\" font-family=\"Helvetica,sans-Serif\" font-size=\"14.00\">class = 琴酒</text>\r\n</g>\r\n<!-- 16&#45;&gt;18 -->\r\n<g id=\"edge18\" class=\"edge\"><title>16&#45;&gt;18</title>\r\n<path fill=\"none\" stroke=\"black\" d=\"M732.644,-341.907C743.372,-332.469 754.884,-322.343 765.903,-312.649\"/>\r\n<polygon fill=\"black\" stroke=\"black\" points=\"768.241,-315.254 773.438,-306.021 763.618,-309.998 768.241,-315.254\"/>\r\n</g>\r\n<!-- 19 -->\r\n<g id=\"node20\" class=\"node\"><title>19</title>\r\n<path fill=\"#8139e5\" stroke=\"black\" d=\"M791.5,-179.5C791.5,-179.5 699.5,-179.5 699.5,-179.5 693.5,-179.5 687.5,-173.5 687.5,-167.5 687.5,-167.5 687.5,-123.5 687.5,-123.5 687.5,-117.5 693.5,-111.5 699.5,-111.5 699.5,-111.5 791.5,-111.5 791.5,-111.5 797.5,-111.5 803.5,-117.5 803.5,-123.5 803.5,-123.5 803.5,-167.5 803.5,-167.5 803.5,-173.5 797.5,-179.5 791.5,-179.5\"/>\r\n<text text-anchor=\"middle\" x=\"745.5\" y=\"-164.3\" font-family=\"Helvetica,sans-Serif\" font-size=\"14.00\">entropy = 0.0</text>\r\n<text text-anchor=\"middle\" x=\"745.5\" y=\"-149.3\" font-family=\"Helvetica,sans-Serif\" font-size=\"14.00\">samples = 2</text>\r\n<text text-anchor=\"middle\" x=\"745.5\" y=\"-134.3\" font-family=\"Helvetica,sans-Serif\" font-size=\"14.00\">value = [0, 0, 2]</text>\r\n<text text-anchor=\"middle\" x=\"745.5\" y=\"-119.3\" font-family=\"Helvetica,sans-Serif\" font-size=\"14.00\">class = 贝尔摩德</text>\r\n</g>\r\n<!-- 18&#45;&gt;19 -->\r\n<g id=\"edge19\" class=\"edge\"><title>18&#45;&gt;19</title>\r\n<path fill=\"none\" stroke=\"black\" d=\"M793.826,-222.907C786.777,-211.763 779.121,-199.658 772.026,-188.439\"/>\r\n<polygon fill=\"black\" stroke=\"black\" points=\"774.781,-186.248 766.477,-179.667 768.865,-189.989 774.781,-186.248\"/>\r\n</g>\r\n<!-- 20 -->\r\n<g id=\"node21\" class=\"node\"><title>20</title>\r\n<path fill=\"#e68743\" stroke=\"black\" d=\"M951,-187C951,-187 834,-187 834,-187 828,-187 822,-181 822,-175 822,-175 822,-116 822,-116 822,-110 828,-104 834,-104 834,-104 951,-104 951,-104 957,-104 963,-110 963,-116 963,-116 963,-175 963,-175 963,-181 957,-187 951,-187\"/>\r\n<text text-anchor=\"middle\" x=\"892.5\" y=\"-171.8\" font-family=\"Helvetica,sans-Serif\" font-size=\"14.00\">flavanoids &lt;= 2.138</text>\r\n<text text-anchor=\"middle\" x=\"892.5\" y=\"-156.8\" font-family=\"Helvetica,sans-Serif\" font-size=\"14.00\">entropy = 0.276</text>\r\n<text text-anchor=\"middle\" x=\"892.5\" y=\"-141.8\" font-family=\"Helvetica,sans-Serif\" font-size=\"14.00\">samples = 42</text>\r\n<text text-anchor=\"middle\" x=\"892.5\" y=\"-126.8\" font-family=\"Helvetica,sans-Serif\" font-size=\"14.00\">value = [40, 2, 0]</text>\r\n<text text-anchor=\"middle\" x=\"892.5\" y=\"-111.8\" font-family=\"Helvetica,sans-Serif\" font-size=\"14.00\">class = 琴酒</text>\r\n</g>\r\n<!-- 18&#45;&gt;20 -->\r\n<g id=\"edge20\" class=\"edge\"><title>18&#45;&gt;20</title>\r\n<path fill=\"none\" stroke=\"black\" d=\"M844.827,-222.907C850.319,-214.105 856.185,-204.703 861.857,-195.612\"/>\r\n<polygon fill=\"black\" stroke=\"black\" points=\"864.894,-197.358 867.218,-187.021 858.955,-193.652 864.894,-197.358\"/>\r\n</g>\r\n<!-- 21 -->\r\n<g id=\"node22\" class=\"node\"><title>21</title>\r\n<path fill=\"#39e581\" stroke=\"black\" d=\"M869,-68C869,-68 780,-68 780,-68 774,-68 768,-62 768,-56 768,-56 768,-12 768,-12 768,-6 774,-0 780,-0 780,-0 869,-0 869,-0 875,-0 881,-6 881,-12 881,-12 881,-56 881,-56 881,-62 875,-68 869,-68\"/>\r\n<text text-anchor=\"middle\" x=\"824.5\" y=\"-52.8\" font-family=\"Helvetica,sans-Serif\" font-size=\"14.00\">entropy = 0.0</text>\r\n<text text-anchor=\"middle\" x=\"824.5\" y=\"-37.8\" font-family=\"Helvetica,sans-Serif\" font-size=\"14.00\">samples = 2</text>\r\n<text text-anchor=\"middle\" x=\"824.5\" y=\"-22.8\" font-family=\"Helvetica,sans-Serif\" font-size=\"14.00\">value = [0, 2, 0]</text>\r\n<text text-anchor=\"middle\" x=\"824.5\" y=\"-7.8\" font-family=\"Helvetica,sans-Serif\" font-size=\"14.00\">class = 雪梨</text>\r\n</g>\r\n<!-- 20&#45;&gt;21 -->\r\n<g id=\"edge21\" class=\"edge\"><title>20&#45;&gt;21</title>\r\n<path fill=\"none\" stroke=\"black\" d=\"M867.179,-103.726C861.742,-94.9703 855.987,-85.7032 850.523,-76.9051\"/>\r\n<polygon fill=\"black\" stroke=\"black\" points=\"853.428,-74.9484 845.179,-68.2996 847.481,-78.6413 853.428,-74.9484\"/>\r\n</g>\r\n<!-- 22 -->\r\n<g id=\"node23\" class=\"node\"><title>22</title>\r\n<path fill=\"#e58139\" stroke=\"black\" d=\"M1008,-68C1008,-68 911,-68 911,-68 905,-68 899,-62 899,-56 899,-56 899,-12 899,-12 899,-6 905,-0 911,-0 911,-0 1008,-0 1008,-0 1014,-0 1020,-6 1020,-12 1020,-12 1020,-56 1020,-56 1020,-62 1014,-68 1008,-68\"/>\r\n<text text-anchor=\"middle\" x=\"959.5\" y=\"-52.8\" font-family=\"Helvetica,sans-Serif\" font-size=\"14.00\">entropy = 0.0</text>\r\n<text text-anchor=\"middle\" x=\"959.5\" y=\"-37.8\" font-family=\"Helvetica,sans-Serif\" font-size=\"14.00\">samples = 40</text>\r\n<text text-anchor=\"middle\" x=\"959.5\" y=\"-22.8\" font-family=\"Helvetica,sans-Serif\" font-size=\"14.00\">value = [40, 0, 0]</text>\r\n<text text-anchor=\"middle\" x=\"959.5\" y=\"-7.8\" font-family=\"Helvetica,sans-Serif\" font-size=\"14.00\">class = 琴酒</text>\r\n</g>\r\n<!-- 20&#45;&gt;22 -->\r\n<g id=\"edge22\" class=\"edge\"><title>20&#45;&gt;22</title>\r\n<path fill=\"none\" stroke=\"black\" d=\"M917.448,-103.726C922.806,-94.9703 928.476,-85.7032 933.859,-76.9051\"/>\r\n<polygon fill=\"black\" stroke=\"black\" points=\"936.891,-78.6563 939.125,-68.2996 930.92,-75.0028 936.891,-78.6563\"/>\r\n</g>\r\n</g>\r\n</svg>\r\n"
     },
     "execution_count": 17,
     "metadata": {},
     "output_type": "execute_result"
    }
   ],
   "source": [
    "clf = tree.DecisionTreeClassifier(criterion='entropy'\n",
    "                                  ,random_state=27\n",
    "                                  ,splitter='random'\n",
    "                                  ,max_depth= 5\n",
    "                                  # ,min_samples_split= 5\n",
    "                                  # ,min_samples_leaf=1\n",
    ")\n",
    "clf = clf.fit(Xtrain,Ytrain)\n",
    "score = clf.score(Xtest,Ytest)\n",
    "dot_data = tree.export_graphviz(\n",
    "    clf\n",
    "    ,feature_names= wine.feature_names\n",
    "    ,class_names = ['琴酒','雪梨','贝尔摩德']\n",
    "    ,filled=True #颜色补充，不纯度越低颜色越深\n",
    "    ,rounded=True #圆角\n",
    ")\n",
    "graph = graphviz.Source(dot_data)\n",
    "graph"
   ],
   "metadata": {
    "collapsed": false,
    "pycharm": {
     "name": "#%%\n"
    }
   }
  },
  {
   "cell_type": "code",
   "execution_count": 18,
   "outputs": [
    {
     "data": {
      "text/plain": "0.9629629629629629"
     },
     "execution_count": 18,
     "metadata": {},
     "output_type": "execute_result"
    }
   ],
   "source": [
    "score"
   ],
   "metadata": {
    "collapsed": false,
    "pycharm": {
     "name": "#%%\n"
    }
   }
  },
  {
   "cell_type": "code",
   "execution_count": 19,
   "outputs": [],
   "source": [
    "#max_depth 限制树的深度，建议从3开始尝试\n",
    "#min_samples_leaf: 每个子节点都需要包含多少个训练样本 与 max_depth搭配使用 建议等于5开始使用，样布不均衡使用小数 类别不多时1通常为最佳选择\n",
    "#min_samples_split"
   ],
   "metadata": {
    "collapsed": false,
    "pycharm": {
     "name": "#%%\n"
    }
   }
  },
  {
   "cell_type": "markdown",
   "source": [
    "##超参数的学习曲线"
   ],
   "metadata": {
    "collapsed": false
   }
  },
  {
   "cell_type": "code",
   "execution_count": 23,
   "outputs": [
    {
     "data": {
      "text/plain": "<Figure size 432x288 with 1 Axes>",
      "image/png": "[encoded data removed]"
     },
     "metadata": {
      "needs_background": "light"
     },
     "output_type": "display_data"
    }
   ],
   "source": [
    "import matplotlib.pyplot as plt\n",
    "test = []\n",
    "for i in  range(1,30):\n",
    "            clf = tree.DecisionTreeClassifier(criterion='entropy'\n",
    "                                              ,random_state=27\n",
    "                                              ,splitter='random'\n",
    "                                              ,max_depth= 5\n",
    "                                              # ,min_samples_split= 5\n",
    "                                              # ,min_samples_leaf=i+1\n",
    "                                              )\n",
    "            clf = clf.fit(Xtrain,Ytrain)\n",
    "            score = clf.score(Xtest,Ytest)\n",
    "            test.append(score)\n",
    "plt.plot(range(1,30),test,color = 'red',label = 'min_samples_split')\n",
    "plt.legend()\n",
    "plt.show()"
   ],
   "metadata": {
    "collapsed": false,
    "pycharm": {
     "name": "#%%\n"
    }
   }
  },
  {
   "cell_type": "code",
   "execution_count": 21,
   "outputs": [
    {
     "data": {
      "text/plain": "(<graphviz.files.Source at 0x208af616088>, 0.9074074074074074)"
     },
     "execution_count": 21,
     "metadata": {},
     "output_type": "execute_result"
    }
   ],
   "source": [
    "clf = tree.DecisionTreeClassifier(criterion='entropy'\n",
    "                                  ,random_state=35\n",
    "                                  ,splitter='random'\n",
    "                                  ,max_depth= 6\n",
    "                                  # ,min_samples_split= 5\n",
    "                                  ,min_samples_leaf=5\n",
    "                                  )\n",
    "clf = clf.fit(Xtrain,Ytrain)\n",
    "score = clf.score(Xtest,Ytest)\n",
    "dot_data = tree.export_graphviz(\n",
    "    clf\n",
    "    ,feature_names= wine.feature_names\n",
    "    ,class_names = ['琴酒','雪梨','贝尔摩德']\n",
    "    ,filled=True #颜色补充，不纯度越低颜色越深\n",
    "    ,rounded=True #圆角\n",
    ")\n",
    "graph = graphviz.Source(dot_data)\n",
    "graph,score"
   ],
   "metadata": {
    "collapsed": false,
    "pycharm": {
     "name": "#%%\n"
    }
   }
  },
  {
   "cell_type": "code",
   "execution_count": 22,
   "outputs": [],
   "source": [
    "# class_weight:默认None，所有标签具有相同的权重，向少数类方向建模\n",
    "# min_weight_fraction_leaf基于权重的剪枝参数"
   ],
   "metadata": {
    "collapsed": false,
    "pycharm": {
     "name": "#%%\n"
    }
   }
  },
  {
   "cell_type": "code",
   "execution_count": 22,
   "outputs": [],
   "source": [
    "#重要属性与接口\n",
    "# feature_names\n",
    "\n",
    "# 必须至少两维特征,不接受一维矩阵\n",
    "# fit\n",
    "# score\n",
    "# apply 返回叶子结点的索引\n",
    "# predict 返回每个样本的分类回归结果\n",
    "# 找特征-计算不纯度-分-找特征-计算不纯度-分"
   ],
   "metadata": {
    "collapsed": false,
    "pycharm": {
     "name": "#%%\n"
    }
   }
  },
  {
   "cell_type": "markdown",
   "source": [],
   "metadata": {
    "collapsed": false
   }
  },
  {
   "cell_type": "code",
   "execution_count": null,
   "outputs": [],
   "source": [],
   "metadata": {
    "collapsed": false,
    "pycharm": {
     "name": "#%%\n"
    }
   }
  }
 ],
 "metadata": {
  "kernelspec": {
   "display_name": "Python 3",
   "language": "python",
   "name": "python3"
  },
  "language_info": {
   "codemirror_mode": {
    "name": "ipython",
    "version": 2
   },
   "file_extension": ".py",
   "mimetype": "text/x-python",
   "name": "python",
   "nbconvert_exporter": "python",
   "pygments_lexer": "ipython2",
   "version": "2.7.6"
  }
 },
 "nbformat": 4,
 "nbformat_minor": 0
}